{
 "cells": [
  {
   "cell_type": "code",
   "execution_count": 30,
   "id": "indonesian-spanish",
   "metadata": {},
   "outputs": [],
   "source": [
    "import os.path, time\n",
    "import datetime \n",
    "\n",
    "import shutil\n",
    "\n",
    "import os\n",
    "import glob\n"
   ]
  },
  {
   "cell_type": "code",
   "execution_count": 31,
   "id": "tracked-cheese",
   "metadata": {},
   "outputs": [],
   "source": [
    "source_folder = r'\\\\ct.dot.ca.gov\\dfshq\\DIROFC\\Asset Management\\4e Project Book\\Projectbook_WorkingFolder\\excel'\n",
    "archive_folder = r'\\\\ct.dot.ca.gov\\dfshq\\DIROFC\\Asset Management\\4e Project Book\\Tableau Dashboards\\Data_MiscInput'"
   ]
  },
  {
   "cell_type": "code",
   "execution_count": 32,
   "id": "given-california",
   "metadata": {},
   "outputs": [
    {
     "name": "stdout",
     "output_type": "stream",
     "text": [
      "File copied successfully: GFP_BrInvList_AllDistricts_09-29-2021.xlsx\n"
     ]
    }
   ],
   "source": [
    "# get a recursive list of file paths that matches pattern\n",
    "fileList = glob.glob('{}\\*.*'.format(source_folder))\n",
    "# Iterate over the list of filepaths & remove each file.\n",
    "for file in fileList:\n",
    "    modified_time = datetime.datetime.fromtimestamp(os.path.getmtime(file)).strftime(\"%m-%d-%Y\")\n",
    "    file_name = os.path.splitext(os.path.basename(file))[0]\n",
    "    file_ext = os.path.splitext(os.path.basename(file))[1]\n",
    "    \n",
    "    filename_with_timestampe = file_name + '_' + modified_time + file_ext\n",
    "    destination = os.path.join(archive_folder, filename_with_timestampe)\n",
    "\n",
    "    \n",
    "    if not os.path.exists(destination):\n",
    "        try:\n",
    "            shutil.copy2(file, destination)\n",
    "            print(\"File copied successfully: {}\".format(filename_with_timestampe))\n",
    "        except:\n",
    "            print(\"Error occurred while copying file{}.\".format(filename_with_timestampe))\n",
    "    else:\n",
    "#         print(\"File already exists: {}\".format(filename_with_timestampe))\n",
    "        pass"
   ]
  },
  {
   "cell_type": "code",
   "execution_count": null,
   "id": "naughty-print",
   "metadata": {},
   "outputs": [],
   "source": []
  }
 ],
 "metadata": {
  "kernelspec": {
   "display_name": "Python 3",
   "language": "python",
   "name": "python3"
  },
  "language_info": {
   "codemirror_mode": {
    "name": "ipython",
    "version": 3
   },
   "file_extension": ".py",
   "mimetype": "text/x-python",
   "name": "python",
   "nbconvert_exporter": "python",
   "pygments_lexer": "ipython3",
   "version": "3.9.1"
  }
 },
 "nbformat": 4,
 "nbformat_minor": 5
}
