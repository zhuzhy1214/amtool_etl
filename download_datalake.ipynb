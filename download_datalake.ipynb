{
 "cells": [
  {
   "cell_type": "code",
   "execution_count": 9,
   "id": "rolled-vienna",
   "metadata": {},
   "outputs": [
    {
     "name": "stdout",
     "output_type": "stream",
     "text": [
      "The autoreload extension is already loaded. To reload it, use:\n",
      "  %reload_ext autoreload\n"
     ]
    }
   ],
   "source": [
    "%load_ext autoreload\n",
    "%autoreload 2"
   ]
  },
  {
   "cell_type": "code",
   "execution_count": 10,
   "id": "efficient-pennsylvania",
   "metadata": {},
   "outputs": [],
   "source": [
    "import time\n",
    "start_time = time.time()"
   ]
  },
  {
   "cell_type": "code",
   "execution_count": 11,
   "id": "instructional-multimedia",
   "metadata": {},
   "outputs": [],
   "source": [
    "import urllib.request\n",
    "from datetime import datetime\n",
    "import os.path\n",
    "import shutil\n",
    "\n",
    "import pandas as pd\n"
   ]
  },
  {
   "cell_type": "code",
   "execution_count": 12,
   "id": "brazilian-voluntary",
   "metadata": {},
   "outputs": [],
   "source": [
    "from constants import *"
   ]
  },
  {
   "cell_type": "code",
   "execution_count": 13,
   "id": "russian-minimum",
   "metadata": {},
   "outputs": [],
   "source": [
    "\n",
    "dict_resource = {\n",
    "'TenYrShopp_RawData_' : \"http://10.56.12.86/pirs/tenyrshopp/Raw_data.cfm?selectdistrict=all&selectcounty=all&Route=&program=all&pid_cycle=all&shopp_yr=all&tenyearshopp=all&EA=&pID=&projectID=&proj_prog=all&report=Rawdata\"\n",
    ",\n",
    "'TenYrShopp_PerfM_Raw_Data_': \"http://10.56.12.86/pirs/tenyrshopp/Raw_data_PerfM.cfm?selectdistrict=all&selectcounty=all&Route=&program=all&pid_cycle=all&shopp_yr=all&tenyearshopp=all&EA=&pID=&projectID=&proj_prog=all&fsection=all\"\n",
    ",\n",
    "'Rawdata_Pavement_Worksheet_' : \"http://10.56.12.86/pirs/tenyrshopp/Rawdata_Pavement_WS.cfm?Program=SHOPP&fsection=all\"\n",
    ",\n",
    "'Rawdata_Drainage_Worksheet_' : \"http://10.56.12.86/pirs/tenyrshopp/Rawdata_Drainage_WS.cfm?Program=SHOPP&fsection=all\"\n",
    ",\n",
    "'Rawdata_Bridge_Worksheet_' : \"http://10.56.12.86/pirs/tenyrshopp/Rawdata_Bridge_WS.cfm?Program=SHOPP&fsection=all\"\n",
    ",\n",
    "'Rawdata_TMS_Worksheet_' : \"http://10.56.12.86/pirs/tenyrshopp/Rawdata_TMS_WS.cfm?Program=SHOPP&fsection=all\"\n",
    ",\n",
    "#'PAC_Performance_RawData_all_' : \"http://10.56.12.86/pirs/tenyrshopp/PAC_Performance_RawData.cfm?District=All\",\n",
    "\n",
    "'Project_Postmile_Check_' : \"http://10.56.12.86/pirs/TenYrShopp/project_Locations.cfm?District=all&view=All&program=All\" ,\n",
    "\n",
    "'Programming_Summary_' : \"http://10.56.12.86/pirs/tenyrshopp/?District=All&program=All&fsection=All&pID=&Placeholder=All&SType=A&page=RawdataProg&report=RawdataProg&selectdistrict=All&getreport=yes&submit=Get+Report\",\n",
    "\n",
    "'Minor_Project_Detail_Report_' : 'http://10.56.12.86/pirs/tenyrshopp/?selectcounty=All&Route=&fPType=All&program=All&pID=&ProjectID=&EA=&page=MinorProject&report=MinorProject&selectdistrict=All&getreport=yes&submit=Get+Report',\n",
    "\n",
    "'Minor_Project_Details_Raw_Data_':     \n",
    "'http://10.56.12.86/pirs/tenyrshopp/?selectcounty=All&Route=&fPType=All&fAllocated=All&fAwarded=All&program=All&pID=&ProjectID=&EA=&FYInUse=&page=RawdataM&report=RawdataM&selectdistrict=All&getreport=yes&submit=Get+Report',\n",
    "\n",
    "'Minor_Performance_Raw_Data_':\n",
    "'http://10.56.12.86/pirs/tenyrshopp/?selectcounty=All&Route=&fPType=All&fAllocated=All&fAwarded=All&program=All&fsection=All&pID=&ProjectID=&EA=&FYInUse=&fPOID=All&page=PerfMRawdataM&report=PerfMRawdataM&selectdistrict=All&getreport=yes&submit=Get+Report',\n",
    "\n",
    "'Minor_Project_Postmile_Check_' : \n",
    "'http://10.56.12.86/pirs/tenyrshopp/?District=all&program=Minor&pID=&view=All&Placeholder=No&fStatus=Active&page=Location&report=Location&selectdistrict=All&getreport=yes&submit=Get+Report',\n",
    "\n",
    "'Minor_Rawdata_Bridge_Worksheet_' : \n",
    "'http://10.56.12.86/pirs/tenyrshopp/?District=all&RType=Bridge&program=Minor&fsection=All&Placeholder=No&fStatus=Active&page=RawdataWS&report=RawdataWS&selectdistrict=All&getreport=yes&submit=Get+Report',\n",
    "\n",
    "'Minor_Rawdata_Drainage_Worksheet_' : \n",
    "'http://10.56.12.86/pirs/tenyrshopp/?District=all&RType=Drainage&program=Minor&fsection=All&Placeholder=No&fStatus=Active&page=RawdataWS&report=RawdataWS&selectdistrict=All&getreport=yes&submit=Get+Report',\n",
    "\n",
    "'Minor_Rawdata_Pavement_Worksheet_' : \n",
    "'http://10.56.12.86/pirs/tenyrshopp/?District=all&RType=Pavement&program=Minor&fsection=All&Placeholder=No&fStatus=Active&page=RawdataWS&report=RawdataWS&selectdistrict=All&getreport=yes&submit=Get+Report',\n",
    "\n",
    "'Minor_Rawdata_TMS_Worksheet_' : \n",
    "'http://10.56.12.86/pirs/tenyrshopp/?District=all&RType=TMS&program=Minor&fsection=All&Placeholder=No&fStatus=Active&page=RawdataWS&report=RawdataWS&selectdistrict=All&getreport=yes&submit=Get+Report',\n",
    "\n",
    "'HM_Project_Detail_Report_' : \n",
    "'http://10.56.12.86/pirs/tenyrshopp/?selectcounty=All&Route=&program=All&pID=&ProjectID=&EA=&Placeholder=All&page=HMProject&report=HMProject&selectdistrict=All&getreport=yes&submit=Get+Report',\n",
    "\n",
    "'HM_Project_Details_Raw_Data_':  \n",
    "'http://10.56.12.86/pirs/tenyrshopp/?selectcounty=All&Route=&program=All&pID=&ProjectID=&EA=&FYInUse=&Placeholder=All&page=RawdataHM&report=RawdataHM&selectdistrict=All&getreport=yes&submit=Get+Report',\n",
    "\n",
    "'HM_Performance_Raw_Data_':\n",
    "'http://10.56.12.86/pirs/tenyrshopp/?selectcounty=All&Route=&program=All&fsection=All&pID=&ProjectID=&EA=&FYInUse=&Placeholder=All&fPOID=All&page=PerfMRawdataHM&report=PerfMRawdataHM&selectdistrict=all&getreport=yes&submit=Get+Report',\n",
    "\n",
    "'Rawdata_FishPassage_Worksheet_': \n",
    "\"http://10.56.12.86/pirs/tenyrshopp/?District=all&RType=FP&program=All&fsection=All&Placeholder=All&fStatus=Active&page=RawdataWS&report=RawdataWS&selectdistrict=All&getreport=yes&submit=Get+Report\",\n",
    "\n",
    "}"
   ]
  },
  {
   "cell_type": "code",
   "execution_count": 14,
   "id": "bibliographic-fleet",
   "metadata": {},
   "outputs": [
    {
     "name": "stdout",
     "output_type": "stream",
     "text": [
      ".\\output\\HTTPSEVER\n",
      ".\\output\\DATALAKE\n"
     ]
    }
   ],
   "source": [
    "print(DATALAKE_HTTPSEVER_FOLDER)\n",
    "print(DATALAKE_FOLDER)"
   ]
  },
  {
   "cell_type": "code",
   "execution_count": 15,
   "id": "major-native",
   "metadata": {},
   "outputs": [],
   "source": [
    "\n",
    "DATA_DATE = datetime.now().strftime(\"%m-%d-%Y\")\n",
    "\n",
    "for filename, url in dict_resource.items():\n",
    "    try: \n",
    "        with urllib.request.urlopen(url) as response:\n",
    "            df = pd.read_html(response.read(), keep_default_na=False)[-1]\n",
    " \n",
    "    except: \n",
    "        print ('error downloading:{}'.format(filename))\n",
    "        \n",
    "    df.to_csv(r'{}\\{}{}.csv'.format(DATALAKE_HTTPSEVER_FOLDER, filename, DATA_DATE), index=False)\n",
    "    out = shutil.copy(r'{}\\{}{}.csv'.format(DATALAKE_HTTPSEVER_FOLDER, filename, DATA_DATE),r'{}\\{}.csv'.format(DATALAKE_HTTPSEVER_FOLDER, filename))\n",
    "    out = shutil.copy(r'{}\\{}{}.csv'.format(DATALAKE_HTTPSEVER_FOLDER, filename, DATA_DATE),r'{}\\{}{}.csv'.format(DATALAKE_FOLDER, filename, DATA_DATE)) \n",
    "        \n",
    "# print ('data downloaded.')"
   ]
  },
  {
   "cell_type": "code",
   "execution_count": 16,
   "id": "guilty-stake",
   "metadata": {},
   "outputs": [
    {
     "name": "stdout",
     "output_type": "stream",
     "text": [
      "time elapsed : 250.9109766483307 seconds\n"
     ]
    }
   ],
   "source": [
    "end_time =  time.time()\n",
    "elapsed = end_time - start_time\n",
    "print('time elapsed : {} seconds'.format(elapsed))"
   ]
  }
 ],
 "metadata": {
  "kernelspec": {
   "display_name": "Python 3",
   "language": "python",
   "name": "python3"
  },
  "language_info": {
   "codemirror_mode": {
    "name": "ipython",
    "version": 3
   },
   "file_extension": ".py",
   "mimetype": "text/x-python",
   "name": "python",
   "nbconvert_exporter": "python",
   "pygments_lexer": "ipython3",
   "version": "3.9.1"
  }
 },
 "nbformat": 4,
 "nbformat_minor": 5
}
