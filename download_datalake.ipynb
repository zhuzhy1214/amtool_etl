{
 "cells": [
  {
   "cell_type": "code",
   "execution_count": 1,
   "id": "rolled-vienna",
   "metadata": {},
   "outputs": [],
   "source": [
    "# %load_ext autoreload\n",
    "# %autoreload 2"
   ]
  },
  {
   "cell_type": "markdown",
   "id": "proof-bidding",
   "metadata": {},
   "source": [
    "## Update notes:\n",
    "\n",
    "* change data_date to data_timestamp "
   ]
  },
  {
   "cell_type": "code",
   "execution_count": 2,
   "id": "efficient-pennsylvania",
   "metadata": {},
   "outputs": [],
   "source": [
    "import time\n",
    "start_time = time.time()"
   ]
  },
  {
   "cell_type": "code",
   "execution_count": 3,
   "id": "instructional-multimedia",
   "metadata": {},
   "outputs": [],
   "source": [
    "import urllib.request\n",
    "from datetime import datetime\n",
    "import os.path\n",
    "import shutil\n",
    "\n",
    "import pandas as pd\n"
   ]
  },
  {
   "cell_type": "code",
   "execution_count": 4,
   "id": "brazilian-voluntary",
   "metadata": {},
   "outputs": [],
   "source": [
    "from constants import *"
   ]
  },
  {
   "cell_type": "code",
   "execution_count": 5,
   "id": "russian-minimum",
   "metadata": {},
   "outputs": [],
   "source": [
    "\n",
    "dict_resource = {\n",
    "'TenYrShopp_RawData_' : \"http://10.56.12.86/pirs/tenyrshopp/Raw_data.cfm?selectdistrict=all&selectcounty=all&Route=&program=all&pid_cycle=all&shopp_yr=all&tenyearshopp=all&EA=&pID=&projectID=&proj_prog=all&report=Rawdata\"\n",
    ",\n",
    "'TenYrShopp_PerfM_Raw_Data_': \"http://10.56.12.86/pirs/tenyrshopp/Raw_data_PerfM.cfm?selectdistrict=all&selectcounty=all&Route=&program=all&pid_cycle=all&shopp_yr=all&tenyearshopp=all&EA=&pID=&projectID=&proj_prog=all&fsection=all\"\n",
    ",\n",
    "'Rawdata_Pavement_Worksheet_' : \"http://10.56.12.86/pirs/tenyrshopp/Rawdata_Pavement_WS.cfm?Program=SHOPP&fsection=all\"\n",
    ",\n",
    "'Rawdata_Drainage_Worksheet_' : \"http://10.56.12.86/pirs/tenyrshopp/Rawdata_Drainage_WS.cfm?Program=SHOPP&fsection=all\"\n",
    ",\n",
    "'Rawdata_Bridge_Worksheet_' : \"http://10.56.12.86/pirs/tenyrshopp/Rawdata_Bridge_WS.cfm?Program=SHOPP&fsection=all\"\n",
    ",\n",
    "'Rawdata_TMS_Worksheet_' : \"http://10.56.12.86/pirs/tenyrshopp/Rawdata_TMS_WS.cfm?Program=SHOPP&fsection=all\"\n",
    ",\n",
    "#'PAC_Performance_RawData_all_' : \"http://10.56.12.86/pirs/tenyrshopp/PAC_Performance_RawData.cfm?District=All\",\n",
    "\n",
    "'Project_Postmile_Check_' : \"http://10.56.12.86/pirs/TenYrShopp/project_Locations.cfm?District=all&view=All&program=All\" ,\n",
    "\n",
    "'Programming_Summary_' : \"http://10.56.12.86/pirs/tenyrshopp/?District=All&program=All&fsection=All&pID=&Placeholder=All&SType=A&page=RawdataProg&report=RawdataProg&selectdistrict=All&getreport=yes&submit=Get+Report\",\n",
    "\n",
    "'Minor_Project_Detail_Report_' : 'http://10.56.12.86/pirs/tenyrshopp/?selectcounty=All&Route=&fPType=All&program=All&pID=&ProjectID=&EA=&page=MinorProject&report=MinorProject&selectdistrict=All&getreport=yes&submit=Get+Report',\n",
    "\n",
    "'Minor_Project_Details_Raw_Data_':     \n",
    "'http://10.56.12.86/pirs/tenyrshopp/?selectcounty=All&Route=&fPType=All&fAllocated=All&fAwarded=All&program=All&pID=&ProjectID=&EA=&FYInUse=&page=RawdataM&report=RawdataM&selectdistrict=All&getreport=yes&submit=Get+Report',\n",
    "\n",
    "'Minor_Performance_Raw_Data_':\n",
    "'http://10.56.12.86/pirs/tenyrshopp/?selectcounty=All&Route=&fPType=All&fAllocated=All&fAwarded=All&program=All&fsection=All&pID=&ProjectID=&EA=&FYInUse=&fPOID=All&page=PerfMRawdataM&report=PerfMRawdataM&selectdistrict=All&getreport=yes&submit=Get+Report',\n",
    "\n",
    "'Minor_Project_Postmile_Check_' : \n",
    "'http://10.56.12.86/pirs/tenyrshopp/?District=all&program=Minor&pID=&view=All&Placeholder=No&fStatus=Active&page=Location&report=Location&selectdistrict=All&getreport=yes&submit=Get+Report',\n",
    "\n",
    "'Minor_Rawdata_Bridge_Worksheet_' : \n",
    "'http://10.56.12.86/pirs/tenyrshopp/?District=all&RType=Bridge&program=Minor&fsection=All&Placeholder=No&fStatus=Active&page=RawdataWS&report=RawdataWS&selectdistrict=All&getreport=yes&submit=Get+Report',\n",
    "\n",
    "'Minor_Rawdata_Drainage_Worksheet_' : \n",
    "'http://10.56.12.86/pirs/tenyrshopp/?District=all&RType=Drainage&program=Minor&fsection=All&Placeholder=No&fStatus=Active&page=RawdataWS&report=RawdataWS&selectdistrict=All&getreport=yes&submit=Get+Report',\n",
    "\n",
    "'Minor_Rawdata_Pavement_Worksheet_' : \n",
    "'http://10.56.12.86/pirs/tenyrshopp/?District=all&RType=Pavement&program=Minor&fsection=All&Placeholder=No&fStatus=Active&page=RawdataWS&report=RawdataWS&selectdistrict=All&getreport=yes&submit=Get+Report',\n",
    "\n",
    "'Minor_Rawdata_TMS_Worksheet_' : \n",
    "'http://10.56.12.86/pirs/tenyrshopp/?District=all&RType=TMS&program=Minor&fsection=All&Placeholder=No&fStatus=Active&page=RawdataWS&report=RawdataWS&selectdistrict=All&getreport=yes&submit=Get+Report',\n",
    "\n",
    "'HM_Project_Detail_Report_' : \n",
    "'http://10.56.12.86/pirs/tenyrshopp/?selectcounty=All&Route=&program=All&pID=&ProjectID=&EA=&Placeholder=All&page=HMProject&report=HMProject&selectdistrict=All&getreport=yes&submit=Get+Report',\n",
    "\n",
    "'HM_Project_Details_Raw_Data_':  \n",
    "'http://10.56.12.86/pirs/tenyrshopp/?selectcounty=All&Route=&program=All&pID=&ProjectID=&EA=&FYInUse=&Placeholder=All&page=RawdataHM&report=RawdataHM&selectdistrict=All&getreport=yes&submit=Get+Report',\n",
    "\n",
    "'HM_Performance_Raw_Data_':\n",
    "'http://10.56.12.86/pirs/tenyrshopp/?selectcounty=All&Route=&program=All&fsection=All&pID=&ProjectID=&EA=&FYInUse=&Placeholder=All&fPOID=All&page=PerfMRawdataHM&report=PerfMRawdataHM&selectdistrict=all&getreport=yes&submit=Get+Report',\n",
    "\n",
    "'Rawdata_FishPassage_Worksheet_': \n",
    "\"http://10.56.12.86/pirs/tenyrshopp/?District=all&RType=FP&program=All&fsection=All&Placeholder=All&fStatus=Active&page=RawdataWS&report=RawdataWS&selectdistrict=All&getreport=yes&submit=Get+Report\",\n",
    "\n",
    "}"
   ]
  },
  {
   "cell_type": "code",
   "execution_count": null,
   "id": "entertaining-arabic",
   "metadata": {},
   "outputs": [],
   "source": []
  },
  {
   "cell_type": "code",
   "execution_count": 6,
   "id": "major-native",
   "metadata": {},
   "outputs": [],
   "source": [
    "\n",
    "File_TimeStamp = datetime.now().strftime(\"%m-%d-%Y_%H-%M\")\n",
    "file_export_log = open(LOG_FILE, \"a\")  # append mode\n",
    "file_export_log.write(\"###############################################################\\n\")\n",
    "file_export_log.write(\"#####Download Rawdata:{} \\n\".format(File_TimeStamp))\n",
    "file_export_log.close()\n",
    "for filename, url in dict_resource.items():\n",
    "    try: \n",
    "        with urllib.request.urlopen(url) as response:\n",
    "            df = pd.read_html(response.read())[-1]\n",
    "            if filename == 'TenYrShopp_RawData_':\n",
    "                t= datetime.now()\n",
    "                File_TimeStamp = t.strftime(\"%m-%d-%Y_%H-%M\")\n",
    "                TARGETDATE = t.strftime(\"%m-%d-%Y\")\n",
    "            http_file_path = r'{}\\{}.csv'.format(DATALAKE_HTTPSERVER_FOLDER, filename)\n",
    "            df.to_csv(http_file_path, index=False)\n",
    "            out = shutil.copy(http_file_path,r'{}\\{}{}.csv'.format(DATALAKE_HTTPSERVER_FOLDER, filename, TARGETDATE))\n",
    "            out = shutil.copy(http_file_path,r'{}\\{}{}.csv'.format(DATALAKE_FOLDER, filename, File_TimeStamp)) \n",
    "            out = shutil.copy(http_file_path,r'{}\\{}.csv'.format(DATALAKE_FOLDER, filename)) \n",
    "    except: \n",
    "        file_export_log.write(\"Failed in downloading data source: {} \\n\".format(filename))\n",
    "        "
   ]
  },
  {
   "cell_type": "code",
   "execution_count": 7,
   "id": "welcome-proposal",
   "metadata": {},
   "outputs": [
    {
     "name": "stdout",
     "output_type": "stream",
     "text": [
      "time elapsed : 281.6083378791809 seconds\n"
     ]
    }
   ],
   "source": [
    "end_time =  time.time()\n",
    "elapsed = end_time - start_time\n",
    "print('time elapsed : {} seconds'.format(elapsed))\n",
    "\n",
    "file_export_log = open(LOG_FILE, \"a\")  # append mode\n",
    "file_export_log.write('#####time elapsed : {} seconds \\n'.format(elapsed))\n",
    "file_export_log.close()"
   ]
  }
 ],
 "metadata": {
  "kernelspec": {
   "display_name": "Python 3",
   "language": "python",
   "name": "python3"
  },
  "language_info": {
   "codemirror_mode": {
    "name": "ipython",
    "version": 3
   },
   "file_extension": ".py",
   "mimetype": "text/x-python",
   "name": "python",
   "nbconvert_exporter": "python",
   "pygments_lexer": "ipython3",
   "version": "3.9.1"
  }
 },
 "nbformat": 4,
 "nbformat_minor": 5
}
