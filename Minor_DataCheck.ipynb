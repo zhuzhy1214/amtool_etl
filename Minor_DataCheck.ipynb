{
 "cells": [
  {
   "cell_type": "code",
   "execution_count": 1,
   "id": "considerable-accommodation",
   "metadata": {},
   "outputs": [],
   "source": [
    "# %load_ext autoreload\n",
    "# %autoreload 2"
   ]
  },
  {
   "cell_type": "markdown",
   "id": "spiritual-responsibility",
   "metadata": {},
   "source": [
    "# Version Notes: \n",
    "\n",
    "### v1: \n",
    "* add Data_HourMinute for all exported datasources\n"
   ]
  },
  {
   "cell_type": "markdown",
   "id": "known-diagnosis",
   "metadata": {},
   "source": [
    "# Tip for quick search\n",
    "\n",
    "* Needs attention: the place where needs update or better logic\n",
    "* question to be answered: the place where things are still not clear\n",
    "* Manual Check: Unit test where you can drill in to find the data that leads to the check results for a specific project and specific check\n",
    "* TODO: things needs to be done\n",
    "* bookmark: stop point from last visit\n"
   ]
  },
  {
   "cell_type": "markdown",
   "id": "ecological-excess",
   "metadata": {},
   "source": [
    "# Admin Notes:\n",
    "\n",
    "\n",
    "1. The AMTool dataset is archived daily as csv files and used for the project book check. \n",
    "The csv files are located at: \n",
    "r'\\\\ct.dot.ca.gov\\dfshq\\DIROFC\\Asset Management\\4e Project Book\\Tableau Dashboards\\DataLake'\n",
    "\n",
    "2. The excel input files are checked daily and archived with datestamp whenever it is modified.\n",
    "The continuously updated excel input files are located at: r'\\\\ct.dot.ca.gov\\dfshq\\DIROFC\\Asset Management\\4e Project Book\\Projectbook_WorkingFolder\\excel'\n",
    "The excel input file are archived at: r'\\\\ct.dot.ca.gov\\dfshq\\DIROFC\\Asset Management\\4e Project Book\\Tableau Dashboards\\Data_MiscInput'\n",
    "To recover the archived excel file used in project book check for a target date, select the excel file with latest datestamp but is still earlier than the target date.\n",
    "\n",
    "3. The check summary export action is logged daily. It can be used for daily monitoring. \n",
    "The file export log is located at: \\\\ct.dot.ca.gov\\dfshq\\DIROFC\\Asset Management\\4e Project Book\\Projectbook_WorkingFolder\\output_internal\\log\n",
    "\n",
    "4. The published data are at:\n",
    "\n",
    "    * csv files for district asset manager: http://svgcshopp.dot.ca.gov/DataLake/ProjectBookCheck/\n",
    "    * csv files for HQ AM: \\\\ct.dot.ca.gov\\dfshq\\DIROFC\\Asset Management\\4e Project Book\\Projectbook_WorkingFolder\\output_internal\n",
    "    * tableau workbook with live data source: https://tableau.dot.ca.gov/#/site/AssetManagement/workbooks/1815/views\n"
   ]
  },
  {
   "cell_type": "markdown",
   "id": "comic-disaster",
   "metadata": {},
   "source": [
    "# General Approach\n",
    "\n",
    "use Minor raw data as basis for data checks. \n",
    "Each project only occupies one line\n",
    "\n",
    "can expand columns, only if it will not create duplicate rows in the SHOPP raw dataset. \n"
   ]
  },
  {
   "cell_type": "markdown",
   "id": "piano-celebrity",
   "metadata": {},
   "source": [
    "# Data clean process\n",
    "\n",
    "* funding amount: remove dollar sign, \n",
    "* fill missing value, string, numerical, \n",
    "* remove leading single quote for string value\n",
    "* strip off leading and trailing space \n",
    "\n",
    "* regulate column names\n",
    "\n",
    "\n"
   ]
  },
  {
   "cell_type": "markdown",
   "id": "offensive-mozambique",
   "metadata": {},
   "source": [
    "# Import common modules"
   ]
  },
  {
   "cell_type": "markdown",
   "id": "romantic-cheat",
   "metadata": {},
   "source": [
    "<a id='TableOfContents'></a>\n",
    "\n",
    "# Table Of Contents\n",
    "\n",
    "## Data Preprocessing\n",
    "\n",
    "### [Global Constants](#GlobalConstants)\n",
    "\n",
    "\n",
    "### [Load and cleanup source data](#Read_Data)\n",
    "\n",
    "\n",
    "## Add fields to SHOPP raw data (calculate and join)\n",
    "* [Calculated Fields](#AddDataColumns)\n",
    "* [Join Tables](#DataJoining)\n",
    "\n",
    "\n",
    "\n",
    "## Data Check and Export\n",
    "\n",
    "\n",
    "## [Data Check List](#Issue_Table1)\n",
    "The main table of check issues, \n",
    "one issue per row, \n",
    "\n",
    "\n",
    "* [Will_this_project_be_included_in_the_Project_Book](#Will_this_project_be_included_in_the_Project_Book)\n",
    "* [Does_project_cost_exceed_Minor_Program_limits](#Does_project_cost_exceed_Minor_Program_limits)\n",
    "\n",
    "\n",
    "\n",
    "## [Export Internal Check Summary](#Export_internal_check_summary)\n",
    "* internal check summary (csv)\n",
    "\n",
    "\n",
    "## [Final Clean Up](#FinalCleanUp)\n"
   ]
  },
  {
   "cell_type": "code",
   "execution_count": 2,
   "id": "fundamental-appliance",
   "metadata": {},
   "outputs": [],
   "source": [
    "\n",
    "from datetime import datetime\n",
    "import os.path\n",
    "\n",
    "# import requests\n",
    "import pandas as pd\n",
    "\n",
    "import numpy as np\n",
    "import re\n",
    "\n",
    "import shutil"
   ]
  },
  {
   "cell_type": "code",
   "execution_count": 3,
   "id": "second-samba",
   "metadata": {},
   "outputs": [],
   "source": [
    "import time\n",
    "start_time = time.time()"
   ]
  },
  {
   "cell_type": "code",
   "execution_count": 4,
   "id": "intellectual-nursery",
   "metadata": {},
   "outputs": [],
   "source": [
    "#show dataframe without skip column\n",
    "pd.options.display.max_columns = 100"
   ]
  },
  {
   "cell_type": "code",
   "execution_count": 5,
   "id": "acquired-istanbul",
   "metadata": {},
   "outputs": [
    {
     "name": "stdout",
     "output_type": "stream",
     "text": [
      "You are using the Extract API 2.0, please save the output as .hyper format\n"
     ]
    }
   ],
   "source": [
    "# from config_datasource import *\n",
    "import projectbookcheck_utilityfunction as uf"
   ]
  },
  {
   "cell_type": "markdown",
   "id": "furnished-theory",
   "metadata": {},
   "source": [
    "<a id='GlobalConstants'></a>\n",
    "## Global Constants"
   ]
  },
  {
   "cell_type": "code",
   "execution_count": 6,
   "id": "million-discharge",
   "metadata": {},
   "outputs": [],
   "source": [
    "# # use 'csv' to read data from data lake, use 'live' to read data directly from AmTool Server\n",
    "# DATA_SOURCE_TYPE = 'csv'\n",
    "\n",
    "# # DATALAKE_FOLDER = r'\\\\ct.dot.ca.gov\\dfshq\\DIROFC\\Asset Management\\4e Project Book\\Tableau Dashboards\\DataLake'\n",
    "\n",
    "# #input data\n",
    "# DATALAKE_FOLDER = r'\\\\ct.dot.ca.gov\\dfshq\\DIROFC\\Asset Management\\4e Project Book\\Tableau Dashboards\\DataLake'\n",
    "# PROJECTBOOKCHECK_INPUT_FOLDER = r'\\\\ct.dot.ca.gov\\dfshq\\DIROFC\\Asset Management\\4e Project Book\\Projectbook_WorkingFolder\\excel'\n",
    "\n",
    "# #output data\n",
    "# DATALAKE_HTTPSEVER_FOLDER = 'C:\\inetpub\\wwwroot\\DataLake\\ProjectBookCheck'\n",
    "# PROJECTBOOKCHECK_OUTPUT_FOLDER = r'\\\\ct.dot.ca.gov\\dfshq\\DIROFC\\Asset Management\\4e Project Book\\Projectbook_WorkingFolder\\output_internal'\n",
    "\n",
    "# #log data\n",
    "# log_folder = r'\\\\ct.dot.ca.gov\\dfshq\\DIROFC\\Asset Management\\4e Project Book\\Projectbook_WorkingFolder\\output_internal\\log'\n",
    "\n",
    "# TARGET_FY = 2021\n",
    "\n",
    "\n",
    "# # CURRENT_FY\n",
    "\n",
    "# TARGETDATE = datetime.today().strftime(\"%m-%d-%Y\")"
   ]
  },
  {
   "cell_type": "code",
   "execution_count": 7,
   "id": "experienced-helena",
   "metadata": {},
   "outputs": [],
   "source": [
    "from constants import *"
   ]
  },
  {
   "cell_type": "code",
   "execution_count": 8,
   "id": "artistic-facial",
   "metadata": {},
   "outputs": [],
   "source": [
    "filename = 'TenYrShopp_RawData_'\n",
    "path_to_file = r'{}\\{}.csv'.format(DATALAKE_HTTPSERVER_FOLDER, filename)\n",
    "t = os.path.getmtime(path_to_file)\n",
    "\n",
    "# File_TimeStamp = datetime.fromtimestamp(t).strftime(\"%m-%d-%Y_%H-%M\")\n",
    "Data_TimeStamp = datetime.fromtimestamp(t).strftime(\"%m-%d-%Y %H:%M:%S\")\n",
    "\n",
    "TARGETDATE = datetime.fromtimestamp(t).strftime(\"%m-%d-%Y\")\n",
    "\n",
    "CURRENT_FY = uf.fiscalyear(datetime.today())"
   ]
  },
  {
   "cell_type": "code",
   "execution_count": null,
   "id": "driven-profile",
   "metadata": {},
   "outputs": [],
   "source": []
  },
  {
   "cell_type": "markdown",
   "id": "enhanced-ready",
   "metadata": {},
   "source": [
    "<a id='Read_Data'></a>\n",
    "\n",
    "# Read Data\n"
   ]
  },
  {
   "cell_type": "code",
   "execution_count": 9,
   "id": "artificial-handy",
   "metadata": {},
   "outputs": [],
   "source": [
    "File_TimeStamp = ''\n",
    "\n",
    "if DATA_SOURCE_TYPE == 'csv':\n",
    "    filename = 'Minor_Project_Details_Raw_Data_'\n",
    "    df_Minor_raw_data = pd.read_csv(r'{}\\{}{}.csv'.format(DATALAKE_FOLDER, filename, File_TimeStamp))\n",
    "\n",
    "    filename = 'Minor_Performance_Raw_Data_'\n",
    "    df_Minor_perf_raw_data = pd.read_csv(r'{}\\{}{}.csv'.format(DATALAKE_FOLDER, filename, File_TimeStamp))\n",
    "\n",
    "    filename = 'Programming_Summary_'\n",
    "    df_Programming_Summary = pd.read_csv(r'{}\\{}{}.csv'.format(DATALAKE_FOLDER, filename, File_TimeStamp))\n",
    "\n",
    "    filename = 'Minor_Project_Postmile_Check_'\n",
    "    df_Minor_pm_check = pd.read_csv(r'{}\\{}{}.csv'.format(DATALAKE_FOLDER, filename, File_TimeStamp), header = 0)\n",
    "    \n",
    "    filename = 'Minor_Rawdata_Pavement_Worksheet_'\n",
    "    df_Minor_Pavement_WS = pd.read_csv(r'{}\\{}{}.csv'.format(DATALAKE_FOLDER, filename, File_TimeStamp), header = 0, skiprows =2)\n",
    "    \n",
    "    filename = 'Minor_Rawdata_TMS_Worksheet_'\n",
    "    df_Minor_TMS_WS = pd.read_csv(r'{}\\{}{}.csv'.format(DATALAKE_FOLDER, filename, File_TimeStamp), header = 0)\n",
    "\n",
    "\n",
    "else:\n",
    "    print('skip getting csv data.')"
   ]
  },
  {
   "cell_type": "code",
   "execution_count": null,
   "id": "consecutive-science",
   "metadata": {},
   "outputs": [],
   "source": []
  },
  {
   "cell_type": "code",
   "execution_count": 10,
   "id": "binding-people",
   "metadata": {},
   "outputs": [],
   "source": [
    "filename = 'Minor_Activity_Crosswork.xlsx'\n",
    "\n",
    "df_Activity_CrossWalk = pd.read_excel(r'{}\\{}'.format(PROJECTBOOKCHECK_INPUT_FOLDER, filename))\n",
    "\n",
    "temp = df_Activity_CrossWalk.groupby('Main Activity Category')['ActID'].agg(list).reset_index()\n",
    "\n",
    "dict_Activity_CW = dict(zip(temp['Main Activity Category'], temp['ActID']))"
   ]
  },
  {
   "cell_type": "code",
   "execution_count": 11,
   "id": "approximate-hartford",
   "metadata": {},
   "outputs": [],
   "source": [
    "#question answered: 2021 and 2022 approved list project id duplication will be resolved with later excel files"
   ]
  },
  {
   "cell_type": "markdown",
   "id": "successful-oasis",
   "metadata": {},
   "source": [
    "# Data quality check and cleaning"
   ]
  },
  {
   "cell_type": "markdown",
   "id": "charming-handling",
   "metadata": {},
   "source": [
    "<a id='Minor_Raw_Data'></a>\n",
    "## Minor Raw Data"
   ]
  },
  {
   "cell_type": "code",
   "execution_count": 12,
   "id": "solid-stephen",
   "metadata": {},
   "outputs": [],
   "source": [
    "dict_rename = {'Project ID':'EFIS',\n",
    "               'ID': 'AMT_ID', \n",
    "              'FY.1': 'FY_ALN',\n",
    "               'Prog Appr Date': 'Prog Appr Date_ALN',\n",
    "               'FY': 'FY_WP',\n",
    "               'Prog Approval Date': 'Prog Appr Date_WP',\n",
    "              }\n",
    "df_Minor_raw_data = df_Minor_raw_data.rename(dict_rename, axis = 1)"
   ]
  },
  {
   "cell_type": "code",
   "execution_count": 13,
   "id": "adolescent-medicaid",
   "metadata": {},
   "outputs": [],
   "source": [
    "# df_Minor_raw_data.shape"
   ]
  },
  {
   "cell_type": "code",
   "execution_count": 14,
   "id": "reliable-driving",
   "metadata": {},
   "outputs": [],
   "source": [
    "# for programmed FY year of 9999, skip all the checks\n",
    "\n",
    "# No need to check, since the raw data is filtered before download"
   ]
  },
  {
   "cell_type": "code",
   "execution_count": 15,
   "id": "amateur-amateur",
   "metadata": {},
   "outputs": [],
   "source": [
    "df_Minor_raw_data['District'] = df_Minor_raw_data['District'].apply(uf.remove_punction)\n",
    "df_Minor_raw_data['District'] = df_Minor_raw_data['District'].astype(int)"
   ]
  },
  {
   "cell_type": "code",
   "execution_count": 16,
   "id": "fluid-swaziland",
   "metadata": {},
   "outputs": [],
   "source": [
    "df_Minor_raw_data['Section'] = df_Minor_raw_data['Section In Use']"
   ]
  },
  {
   "cell_type": "code",
   "execution_count": 17,
   "id": "orange-particular",
   "metadata": {},
   "outputs": [],
   "source": [
    "#rename\n",
    "\n",
    "dict_rename = {\n",
    "    'ID': 'AMT_ID',\n",
    "    'Plan Year': 'Pavement_PlanYear'\n",
    "}\n",
    "\n",
    "df_Minor_Pavement_WS.rename(dict_rename, axis = 1, inplace=True)\n",
    "\n",
    "df_Minor_Pavement_WS['Pavement_PlanYear'] = df_Minor_Pavement_WS['Pavement_PlanYear']%100"
   ]
  },
  {
   "cell_type": "code",
   "execution_count": 18,
   "id": "gorgeous-corruption",
   "metadata": {},
   "outputs": [],
   "source": [
    "dict_rename = {\n",
    "    'ID': 'AMT_ID',\n",
    "    'RTL Plan Year': 'TMS_PlanYear'\n",
    "}\n",
    "\n",
    "df_Minor_TMS_WS.rename(dict_rename, axis = 1, inplace=True)\n",
    "\n",
    "df_Minor_TMS_WS['TMS_PlanYear'] = df_Minor_TMS_WS['TMS_PlanYear']%100"
   ]
  },
  {
   "cell_type": "code",
   "execution_count": null,
   "id": "social-conversion",
   "metadata": {},
   "outputs": [],
   "source": []
  },
  {
   "cell_type": "markdown",
   "id": "civilian-belief",
   "metadata": {},
   "source": [
    "<a id='Minor_Perf_RawData'></a>\n",
    "## Minor_Perf_RawData"
   ]
  },
  {
   "cell_type": "code",
   "execution_count": 19,
   "id": "psychological-settle",
   "metadata": {},
   "outputs": [],
   "source": [
    "#rename columns\n",
    "dict_rename_perf_rawdata = {\n",
    "                           'ID': 'AMT_ID',\n",
    "#                             'ProjectedRTL FY': 'Projected RTL FY',\n",
    "              }\n",
    "\n",
    "df_Minor_perf_raw_data = df_Minor_perf_raw_data.rename(dict_rename_perf_rawdata, axis = 1)"
   ]
  },
  {
   "cell_type": "code",
   "execution_count": 20,
   "id": "neural-outside",
   "metadata": {
    "scrolled": false
   },
   "outputs": [],
   "source": [
    "cols_strip = ['EA','EFIS']\n",
    "for c in cols_strip :\n",
    "    df_Minor_perf_raw_data[c] = df_Minor_perf_raw_data[c].str.strip(\"'\")"
   ]
  },
  {
   "cell_type": "code",
   "execution_count": null,
   "id": "focal-economy",
   "metadata": {},
   "outputs": [],
   "source": []
  },
  {
   "cell_type": "code",
   "execution_count": 21,
   "id": "sustainable-package",
   "metadata": {},
   "outputs": [],
   "source": [
    "#data clean \n",
    "#data type regulation\n",
    "\n",
    "df_Minor_perf_raw_data['Quantity'] = df_Minor_perf_raw_data['Quantity'].fillna(0)\n",
    "df_Minor_perf_raw_data['Assets in Good Cond'] = df_Minor_perf_raw_data['Assets in Good Cond'].fillna(0)\n",
    "df_Minor_perf_raw_data['Assets in Fair Cond'] = df_Minor_perf_raw_data['Assets in Fair Cond'].fillna(0)\n",
    "df_Minor_perf_raw_data['Assets in Poor Cond'] = df_Minor_perf_raw_data['Assets in Poor Cond'].fillna(0)\n",
    "df_Minor_perf_raw_data['New Assets Added'] = df_Minor_perf_raw_data['New Assets Added'].fillna(0)\n",
    "\n",
    "# df_Minor_perf_raw_data['EFIS'] = df_Minor_perf_raw_data['EFIS'].apply(regulate_EFIS)\n",
    "df_Minor_perf_raw_data['EFIS'] = pd.to_numeric(df_Minor_perf_raw_data['EFIS'], errors='coerce')\n"
   ]
  },
  {
   "cell_type": "code",
   "execution_count": 22,
   "id": "dedicated-banking",
   "metadata": {},
   "outputs": [],
   "source": [
    "#data trimming\n",
    "#row\n",
    "df_Minor_perf_raw_data= df_Minor_perf_raw_data[df_Minor_perf_raw_data['District'] != 56]\n",
    "#column\n",
    "df_Minor_perf_raw_data.drop(['PID Cycle', 'TYP','ProjectedSHOPP Cycle','RequestedRTL FY','DistrictPriority'],\n",
    "  axis='columns', inplace=True, errors='ignore')"
   ]
  },
  {
   "cell_type": "code",
   "execution_count": 23,
   "id": "sapphire-yellow",
   "metadata": {},
   "outputs": [],
   "source": [
    "df_Minor_perf_raw_data.name = 'df_Minor_perf_raw_data'"
   ]
  },
  {
   "cell_type": "code",
   "execution_count": null,
   "id": "canadian-tampa",
   "metadata": {},
   "outputs": [],
   "source": []
  },
  {
   "cell_type": "markdown",
   "id": "heated-edition",
   "metadata": {},
   "source": [
    "<a id='Counties'></a>\n",
    "## Counties\n"
   ]
  },
  {
   "cell_type": "code",
   "execution_count": 24,
   "id": "standing-profession",
   "metadata": {},
   "outputs": [],
   "source": [
    "filename = 'Counties.xlsx'\n",
    "\n",
    "df_counties = pd.read_excel(r'{}\\{}'.format(PROJECTBOOKCHECK_INPUT_FOLDER, filename))"
   ]
  },
  {
   "cell_type": "code",
   "execution_count": 25,
   "id": "virtual-current",
   "metadata": {},
   "outputs": [],
   "source": [
    "df_counties['Co. Name Abbr.'] = df_counties['Co. Name Abbr.'].str.upper()"
   ]
  },
  {
   "cell_type": "code",
   "execution_count": 26,
   "id": "bigger-termination",
   "metadata": {},
   "outputs": [],
   "source": [
    "# df_counties.shape"
   ]
  },
  {
   "cell_type": "code",
   "execution_count": 27,
   "id": "informative-fifty",
   "metadata": {},
   "outputs": [],
   "source": [
    "df_counties.name = 'df_counties'"
   ]
  },
  {
   "cell_type": "code",
   "execution_count": 28,
   "id": "spectacular-neutral",
   "metadata": {},
   "outputs": [],
   "source": [
    "# df_perf_raw_prog_county = df_perf_raw_prog_candidate.merge(df_counties, how = 'left', left_on = 'County', right_on = 'Co. Name Abbr.')"
   ]
  },
  {
   "cell_type": "code",
   "execution_count": 29,
   "id": "therapeutic-blackberry",
   "metadata": {},
   "outputs": [],
   "source": [
    "#no need for the following, already added to the df_Minor_perf_raw_data\n",
    "\n",
    "# #rename columns\n",
    "# dict_rename_4= {\n",
    "#                'Performance Objective':'Performance Objective Original', \n",
    "#               }\n",
    "\n",
    "# df_perf_raw_prog_county = df_perf_raw_prog_county.rename(dict_rename_4, axis = 1)"
   ]
  },
  {
   "cell_type": "code",
   "execution_count": null,
   "id": "wicked-liability",
   "metadata": {},
   "outputs": [],
   "source": []
  },
  {
   "cell_type": "markdown",
   "id": "classified-boost",
   "metadata": {},
   "source": [
    "<a id='Postmile_Check'></a>\n",
    "## Postmile Check"
   ]
  },
  {
   "cell_type": "code",
   "execution_count": 30,
   "id": "adult-recycling",
   "metadata": {},
   "outputs": [],
   "source": [
    "dict_PM_ck_rename = {\n",
    " 'ID': 'AMT_ID',\n",
    " '№': 'No'                            }\n",
    "df_Minor_pm_check.rename(dict_PM_ck_rename, axis = 1, inplace = True)"
   ]
  },
  {
   "cell_type": "code",
   "execution_count": 31,
   "id": "alike-election",
   "metadata": {},
   "outputs": [],
   "source": [
    "df_Minor_pm_check['District'] = df_Minor_pm_check['District'].str.strip(\"'\")\n",
    "df_Minor_pm_check['District'] =df_Minor_pm_check['District'].astype(int)\n",
    "df_Minor_pm_check = df_Minor_pm_check[df_Minor_pm_check['District']!= 56]"
   ]
  },
  {
   "cell_type": "code",
   "execution_count": 32,
   "id": "molecular-passenger",
   "metadata": {},
   "outputs": [],
   "source": [
    "df_Minor_pm_check.name = 'df_Minor_pm_check'\n",
    "# df_Minor_pm_check.shape"
   ]
  },
  {
   "cell_type": "markdown",
   "id": "documentary-cookie",
   "metadata": {},
   "source": [
    "<a id='ProgrammingSummary'></a>\n",
    "## Programming Summary"
   ]
  },
  {
   "cell_type": "code",
   "execution_count": 33,
   "id": "medium-context",
   "metadata": {},
   "outputs": [],
   "source": [
    "dict_rename = {'ID': 'AMT_ID',\n",
    "              }\n",
    "df_Programming_Summary.rename(dict_rename, axis = 1, inplace = True)"
   ]
  },
  {
   "cell_type": "code",
   "execution_count": 34,
   "id": "entertaining-clothing",
   "metadata": {},
   "outputs": [],
   "source": [
    "cols_strip = ['EA','EFIS']\n",
    "for c in cols_strip :\n",
    "    df_Programming_Summary[c] = df_Programming_Summary[c].str.strip(\"'\")\n",
    "    \n",
    "df_Programming_Summary['EFIS'] = df_Programming_Summary['EFIS'].apply(uf.regulate_EFIS)\n",
    "df_Programming_Summary['EFIS'] = pd.to_numeric(df_Programming_Summary['EFIS'], errors='coerce')"
   ]
  },
  {
   "cell_type": "markdown",
   "id": "amazing-siemens",
   "metadata": {},
   "source": [
    "# Approved Project List"
   ]
  },
  {
   "cell_type": "code",
   "execution_count": 35,
   "id": "complete-roman",
   "metadata": {},
   "outputs": [],
   "source": [
    "filename = 'Minor Approved list.xlsx'\n",
    "\n",
    "df_approved = pd.read_excel(r'{}\\{}'.format(PROJECTBOOKCHECK_INPUT_FOLDER, filename, sheet_name='Minor Approved'))\n",
    "\n",
    "dict_rename = {\n",
    "    'Project ID':'EFIS',\n",
    "              }\n",
    "df_approved = df_approved.rename(dict_rename, axis = 1)\n",
    "\n",
    "df_approved['EFIS'] = df_approved['EFIS'].apply(uf.regulate_EFIS)\n",
    "df_approved['EFIS'] = pd.to_numeric(df_approved['EFIS'], errors='coerce')\n",
    "\n",
    "df_approved['FY of the Approved List'] = df_approved['FY'].str[-2:].astype(int)\n",
    "\n",
    "target_cols = ['EFIS','EA','Minor', 'FY of the Approved List', 'Performance Value','Performance Measure','Program Code','Construction Capital Cost ($K)']\n",
    "\n",
    "df_approved = df_approved.sort_values(by =['EFIS','FY of the Approved List'], ascending = True)\n",
    "df_approved = df_approved.groupby('EFIS').first().reset_index()\n",
    "\n",
    "df_approved['In the Approved List?'] = 'Yes'"
   ]
  },
  {
   "cell_type": "code",
   "execution_count": null,
   "id": "connected-notion",
   "metadata": {},
   "outputs": [],
   "source": []
  },
  {
   "cell_type": "markdown",
   "id": "collective-drinking",
   "metadata": {},
   "source": [
    "<a id='AddDataColumns'></a>\n",
    "## Calculate and join additional fields\n"
   ]
  },
  {
   "cell_type": "code",
   "execution_count": 36,
   "id": "lovely-flush",
   "metadata": {},
   "outputs": [],
   "source": [
    "#this logic needs to consider the programming list\n",
    "\n",
    "df_Minor_raw_data['Unique EA'] = df_Minor_raw_data.apply(uf.calc_unique_EA, axis = 1)\n",
    "\n",
    "df_Minor_raw_data['FY In Use'] = df_Minor_raw_data['FY.2'].str[-2:]\n",
    "df_Minor_raw_data['FY In Use'].fillna(0, inplace=True)\n",
    "df_Minor_raw_data['FY In Use'] = df_Minor_raw_data['FY In Use'].astype(int)"
   ]
  },
  {
   "cell_type": "code",
   "execution_count": null,
   "id": "induced-truth",
   "metadata": {},
   "outputs": [],
   "source": []
  },
  {
   "cell_type": "markdown",
   "id": "advanced-details",
   "metadata": {},
   "source": [
    "## Check if the pavement and TMS plan year matches "
   ]
  },
  {
   "cell_type": "code",
   "execution_count": 37,
   "id": "brutal-worker",
   "metadata": {},
   "outputs": [],
   "source": [
    "def is_all_ok(series):\n",
    "    for v in series.values:\n",
    "        if v != 'OK':\n",
    "            return v\n",
    "    return 'OK'"
   ]
  },
  {
   "cell_type": "code",
   "execution_count": 38,
   "id": "accredited-oklahoma",
   "metadata": {},
   "outputs": [],
   "source": [
    "#check the PlanYear matches the FY In Use.\n",
    "ck_col = 'Is Pavement Plan Year Matching Project FY?'\n",
    "\n",
    "temp = pd.merge(df_Minor_Pavement_WS[['AMT_ID','Section','Pavement_PlanYear']],  \n",
    "                df_Minor_raw_data[['AMT_ID','Section','EFIS', 'FY In Use']],\n",
    "                how = 'inner', left_on = ['AMT_ID','Section'], right_on = ['AMT_ID','Section']\n",
    "               )\n",
    "\n",
    "# temp = pd.merge(temp, df_approved[['EFIS','FY of the Approved List']],\n",
    "#                 how = 'left', left_on = 'EFIS', right_on = 'EFIS'\n",
    "#                )\n",
    "\n",
    "def ck_pavement_planyear(df):\n",
    "    if df['Pavement_PlanYear'] == df['FY In Use']:\n",
    "        return 'OK'\n",
    "    else:\n",
    "        return 'Pavement worksheet plan year does not match FY of the Approved List.'\n",
    "    \n",
    "    \n",
    "temp[ck_col] = temp.apply(ck_pavement_planyear, axis = 1 )\n",
    "\n",
    "temp = temp.groupby(['AMT_ID'])[ck_col].agg(is_all_ok).reset_index()\n",
    "\n",
    "df_Minor_raw_data = pd.merge(df_Minor_raw_data, temp, how = 'left', left_on = 'AMT_ID', right_on = 'AMT_ID')\n",
    "\n",
    "df_Minor_raw_data[ck_col].fillna('OK', inplace=True)"
   ]
  },
  {
   "cell_type": "code",
   "execution_count": 39,
   "id": "rental-probe",
   "metadata": {},
   "outputs": [],
   "source": [
    "# df_Minor_Pavement_WS[df_Minor_Pavement_WS.AMT_ID == 'MA000493']"
   ]
  },
  {
   "cell_type": "code",
   "execution_count": 40,
   "id": "legislative-insulin",
   "metadata": {},
   "outputs": [],
   "source": [
    "# #UnitTest\n",
    "\n",
    "# AMT_IDs = ['MA000518', 'MA000898', 'MA000493', 'MA001276' ]\n",
    "# ck_col = 'Is Pavement Plan Year Matching Project FY?'\n",
    "\n",
    "# df_Minor_raw_data[(df_Minor_raw_data['AMT_ID'].isin(AMT_IDs)) ][[\n",
    "#     'AMT_ID','Section','FY In Use', ck_col]]\n"
   ]
  },
  {
   "cell_type": "code",
   "execution_count": null,
   "id": "configured-luther",
   "metadata": {},
   "outputs": [],
   "source": []
  },
  {
   "cell_type": "code",
   "execution_count": 41,
   "id": "logical-voltage",
   "metadata": {},
   "outputs": [],
   "source": [
    "ck_col = 'Is TMS Plan Year Matching Project FY?'\n",
    "\n",
    "temp = pd.merge(df_Minor_TMS_WS[['AMT_ID','Section','TMS_PlanYear']], \n",
    "                df_Minor_raw_data[['AMT_ID','Section','EFIS', 'FY In Use']],\n",
    "                how = 'inner', left_on = ['AMT_ID','Section'], right_on = ['AMT_ID','Section']\n",
    "               )\n",
    "\n",
    "# temp = pd.merge(temp, df_approved[['EFIS','FY of the Approved List']],\n",
    "#                 how = 'left', left_on = 'EFIS', right_on = 'EFIS'\n",
    "#                )\n",
    "\n",
    "def ck_TMS_planyear(df):\n",
    "    if df['TMS_PlanYear'] == df['FY In Use']:\n",
    "        return 'OK'\n",
    "    else:\n",
    "        return 'TMS worksheet plan year does not match FY of the Approved List.'\n",
    "    \n",
    "    \n",
    "temp[ck_col] = temp.apply(ck_TMS_planyear, axis = 1 )\n",
    "\n",
    "temp = temp.groupby(['AMT_ID'])[ck_col].agg(is_all_ok).reset_index()\n",
    "\n",
    "df_Minor_raw_data = pd.merge(df_Minor_raw_data, temp, how = 'left', left_on = 'AMT_ID', right_on = 'AMT_ID')\n",
    "\n",
    "df_Minor_raw_data[ck_col].fillna('OK', inplace=True)"
   ]
  },
  {
   "cell_type": "code",
   "execution_count": null,
   "id": "massive-default",
   "metadata": {},
   "outputs": [],
   "source": []
  },
  {
   "cell_type": "code",
   "execution_count": null,
   "id": "seventh-laser",
   "metadata": {},
   "outputs": [],
   "source": []
  },
  {
   "cell_type": "code",
   "execution_count": null,
   "id": "industrial-germany",
   "metadata": {},
   "outputs": [],
   "source": []
  },
  {
   "cell_type": "code",
   "execution_count": 42,
   "id": "genuine-discretion",
   "metadata": {},
   "outputs": [],
   "source": [
    "\n",
    "# #UnitTest\n",
    "# df_Minor_TMS_WS[df_Minor_TMS_WS.AMT_ID == 'MB000500']\n",
    "\n",
    "# AMT_IDs = ['MB000500', 'MA000349', 'MA000518']\n",
    "# ck_col = 'Is TMS Plan Year Matching Project FY?'\n",
    "\n",
    "# df_Minor_raw_data[(df_Minor_raw_data['AMT_ID'].isin(AMT_IDs)) ][[\n",
    "#     'AMT_ID','Section','FY In Use', ck_col]]\n"
   ]
  },
  {
   "cell_type": "markdown",
   "id": "textile-strand",
   "metadata": {},
   "source": [
    "# Check programming summary"
   ]
  },
  {
   "cell_type": "code",
   "execution_count": 43,
   "id": "civil-richards",
   "metadata": {},
   "outputs": [
    {
     "name": "stdout",
     "output_type": "stream",
     "text": [
      "(15350, 25)\n",
      "(1031, 25)\n"
     ]
    }
   ],
   "source": [
    "#filter data to keep Minor program and active section only.\n",
    "# df_Programming_Summary\n",
    "print(df_Programming_Summary.shape)\n",
    "df_Programming_Summary_filtered = pd.merge(df_Programming_Summary, df_Minor_raw_data[['AMT_ID','Section',]],\n",
    "               how= 'inner', left_on = ['AMT_ID','Section',], right_on = ['AMT_ID','Section',])\n",
    "print(df_Programming_Summary_filtered.shape)"
   ]
  },
  {
   "cell_type": "code",
   "execution_count": 44,
   "id": "regular-situation",
   "metadata": {},
   "outputs": [
    {
     "name": "stdout",
     "output_type": "stream",
     "text": [
      "(1031, 25)\n",
      "(1031, 36)\n"
     ]
    }
   ],
   "source": [
    "print(df_Programming_Summary_filtered.shape)\n",
    "df_Programming_Summary_filtered = pd.merge(df_Programming_Summary_filtered, df_approved,\n",
    "               how= 'left', left_on = ['EFIS'], right_on = ['EFIS'],\n",
    "               suffixes=['','_ApprovedList'])\n",
    "print(df_Programming_Summary_filtered.shape)\n",
    "df_Programming_Summary_filtered['In the Approved List?'].fillna('No', inplace=True)"
   ]
  },
  {
   "cell_type": "code",
   "execution_count": null,
   "id": "needed-finland",
   "metadata": {},
   "outputs": [],
   "source": []
  },
  {
   "cell_type": "code",
   "execution_count": 45,
   "id": "fatal-sensitivity",
   "metadata": {},
   "outputs": [],
   "source": [
    "ck_col = 'Matches Minor Approved List Performance Measure?'\n",
    "\n",
    "def ck_performance_measure(df):\n",
    "    if pd.isna(df['Performance Measure_ApprovedList']):\n",
    "        return 'Not in the Approved Lists'\n",
    "    else:\n",
    "        if df['Performance Measure_ApprovedList'] == df['Performance Measure']:\n",
    "            return 'Yes'\n",
    "        else:\n",
    "            return 'No'\n",
    "\n",
    "df_Programming_Summary_filtered[ck_col]= df_Programming_Summary_filtered.apply(ck_performance_measure, axis = 1)"
   ]
  },
  {
   "cell_type": "code",
   "execution_count": 46,
   "id": "underlying-request",
   "metadata": {},
   "outputs": [],
   "source": [
    "\n",
    "ck_col = 'Matches Minor Approved List Performance Value?'\n",
    "def ck_performance_value(df):\n",
    "    if pd.isna(df['Performance Value_ApprovedList']):\n",
    "        return 'Not in the Approved Lists'\n",
    "    else:\n",
    "        if df['Performance Value_ApprovedList'] == df['Performance Value']:\n",
    "            return 'Yes'\n",
    "        else:\n",
    "            return 'No'\n",
    "\n",
    "df_Programming_Summary_filtered[ck_col]= df_Programming_Summary_filtered.apply(ck_performance_value, axis = 1)"
   ]
  },
  {
   "cell_type": "code",
   "execution_count": 47,
   "id": "median-fellow",
   "metadata": {},
   "outputs": [],
   "source": [
    "ck_col = 'Does the performance summary match the performance value and measure reported to CTC?'\n",
    "def ck_performance(df):\n",
    "    if df['Matches Minor Approved List Performance Value?'] == 'Not in the Approved Lists':\n",
    "        return 'Not in the Approved Lists'\n",
    "    elif (df['Matches Minor Approved List Performance Value?'] == 'Yes') and (df['Matches Minor Approved List Performance Measure?'] == 'Yes'):\n",
    "        return 'Yes'\n",
    "    else:\n",
    "        return 'No'\n",
    "    \n",
    "\n",
    "df_Programming_Summary_filtered[ck_col]= df_Programming_Summary_filtered.apply(ck_performance, axis = 1)"
   ]
  },
  {
   "cell_type": "markdown",
   "id": "grave-sudan",
   "metadata": {},
   "source": [
    "<a id='Export_programming_summary'></a>\n",
    "\n",
    "### Export Programming Summary"
   ]
  },
  {
   "cell_type": "code",
   "execution_count": 48,
   "id": "going-reynolds",
   "metadata": {},
   "outputs": [
    {
     "name": "stderr",
     "output_type": "stream",
     "text": [
      "processing table: 1031it [00:00, 5154.85it/s]\n"
     ]
    },
    {
     "name": "stdout",
     "output_type": "stream",
     "text": [
      "Signing into AssetManagement at https://tableau.dot.ca.gov\n",
      "Publishing Minor_Programming_Summary.hyper to Sandbox_ProjectBookCheck_Automation...\n"
     ]
    }
   ],
   "source": [
    "out_col =df_Programming_Summary_filtered.columns\n",
    "\n",
    "filename = 'Minor_Programming_Summary'\n",
    "df_out = df_Programming_Summary_filtered[out_col]\n",
    "df_out['Data_TimeStamp'] = Data_TimeStamp\n",
    "\n",
    "uf.export_csv(df_out, filename, PROJECTBOOKCHECK_HTTPSERVER_FOLDER, LOG_FILE)\n",
    "\n",
    "uf.export_hyper(df_out, filename, LOG_FILE)"
   ]
  },
  {
   "cell_type": "code",
   "execution_count": null,
   "id": "extraordinary-religion",
   "metadata": {},
   "outputs": [],
   "source": []
  },
  {
   "cell_type": "markdown",
   "id": "responsible-nitrogen",
   "metadata": {},
   "source": [
    "# Check Minor Data"
   ]
  },
  {
   "cell_type": "code",
   "execution_count": 49,
   "id": "hindu-celtic",
   "metadata": {},
   "outputs": [],
   "source": [
    "df_Minor_raw_data['Program Code In Use'] = df_Minor_raw_data.apply(lambda x: x['Program Code'] if x['Section'] == 'WP' else x['Program Code.1'], axis = 1)\n",
    "df_Minor_raw_data['Construction Capital In Use ($K)'] = df_Minor_raw_data.apply(lambda x: x['Construction Capital ($K)'] if x['Section'] == 'WP' else x['Total Capital Project Cost ($K)'], axis = 1)"
   ]
  },
  {
   "cell_type": "code",
   "execution_count": 50,
   "id": "patient-function",
   "metadata": {},
   "outputs": [],
   "source": [
    "df_Minor_raw_data['Activity Category In Use'] = df_Minor_raw_data.apply(\n",
    "    lambda x: x['Activity Category'] if x['Section'] == 'WP' else x['Activity Category.1'],\n",
    "    axis = 1)"
   ]
  },
  {
   "cell_type": "code",
   "execution_count": 51,
   "id": "inner-hazard",
   "metadata": {},
   "outputs": [],
   "source": [
    "df_Minor_raw_data['FY In Use'] = pd.to_numeric(df_Minor_raw_data['FY In Use'], errors='coerce')"
   ]
  },
  {
   "cell_type": "code",
   "execution_count": 52,
   "id": "encouraging-cartridge",
   "metadata": {},
   "outputs": [],
   "source": [
    "df_Minor_raw_data['Is FY missing?'] = df_Minor_raw_data['FY In Use'].apply(lambda x: 'FY is missing' if x == 0 else 'OK' )"
   ]
  },
  {
   "cell_type": "code",
   "execution_count": 53,
   "id": "innocent-conservation",
   "metadata": {},
   "outputs": [],
   "source": [
    "df_Minor_raw_data['Legacy Project?'] = df_Minor_raw_data.apply(lambda x: 'Yes' if float(x['FY In Use']) < 21 else 'No', axis = 1)\n",
    "#for legacy project, do not flag the project if the information is missing. \n"
   ]
  },
  {
   "cell_type": "code",
   "execution_count": 54,
   "id": "convertible-rebound",
   "metadata": {},
   "outputs": [],
   "source": [
    "# df_approved"
   ]
  },
  {
   "cell_type": "code",
   "execution_count": 55,
   "id": "geographic-panel",
   "metadata": {},
   "outputs": [],
   "source": [
    "#question answered: we focus on checking the data only in the Section"
   ]
  },
  {
   "cell_type": "code",
   "execution_count": 56,
   "id": "attended-definition",
   "metadata": {},
   "outputs": [],
   "source": [
    "# df_Minor_raw_data_backup = df_Minor_raw_data.copy()\n",
    "\n",
    "# df_Minor_raw_data = df_Minor_raw_data_backup"
   ]
  },
  {
   "cell_type": "code",
   "execution_count": 57,
   "id": "through-bristol",
   "metadata": {
    "scrolled": false
   },
   "outputs": [
    {
     "name": "stdout",
     "output_type": "stream",
     "text": [
      "(1273, 88)\n",
      "(1273, 94)\n"
     ]
    }
   ],
   "source": [
    "print(df_Minor_raw_data.shape)\n",
    "\n",
    "df_Minor_raw_data = pd.merge(df_Minor_raw_data, df_approved[['EFIS','Minor','EA','In the Approved List?','FY of the Approved List','Program Code','Construction Capital Cost ($K)' ]],\n",
    "                            how = 'left', left_on = 'EFIS', right_on = 'EFIS', suffixes=['','_ApprovedList'])\n",
    "\n",
    "print(df_Minor_raw_data.shape)\n",
    "\n",
    "df_Minor_raw_data['In the Approved List?'].fillna('No', inplace= True)\n"
   ]
  },
  {
   "cell_type": "code",
   "execution_count": 58,
   "id": "patient-transcript",
   "metadata": {},
   "outputs": [],
   "source": [
    "# temp = pd.merge(df_Minor_raw_data, df_approved[['EFIS','Minor','EA','In the Approved List?','FY of the Approved List','Program Code','Construction Capital Cost ($K)' ]],\n",
    "#                             how = 'outer', left_on = 'EFIS', right_on = 'EFIS', suffixes=['','_ApprovedList'])\n",
    "\n",
    "# print(temp.shape)\n",
    "\n",
    "# # df_Minor_raw_data['In the Approved List?'].fillna('No', inplace= True)\n",
    "\n",
    "# temp = pd.merge(df_Minor_raw_data, df_approved[['EFIS','Minor','EA','In the Approved List?','FY of the Approved List','Program Code','Construction Capital Cost ($K)' ]],\n",
    "#                             how = 'left', left_on = 'EFIS', right_on = 'EFIS', suffixes=['','_ApprovedList'])\n",
    "\n",
    "# print(temp.shape)\n",
    "\n",
    "# df_Minor_raw_data['In the Approved List?'].fillna('No', inplace= True)"
   ]
  },
  {
   "cell_type": "code",
   "execution_count": 59,
   "id": "sophisticated-validity",
   "metadata": {},
   "outputs": [],
   "source": [
    "df_Missing_projects = df_approved[~df_approved['EFIS'].isin(df_Minor_raw_data['EFIS'].values)][['EFIS','District','Minor', 'EA', 'FY of the Approved List','Program Code','In the Approved List?']]\n",
    "\n",
    "df_Missing_projects['AMT_ID'] = 'M0'"
   ]
  },
  {
   "cell_type": "code",
   "execution_count": 60,
   "id": "alike-frontier",
   "metadata": {},
   "outputs": [
    {
     "data": {
      "text/plain": [
       "Index(['EFIS', 'FY', 'Minor', 'District', 'Location/Description', 'EA',\n",
       "       'Construction Capital Cost ($K)', 'Program Code', 'Performance Value',\n",
       "       'Performance Measure', 'FY of the Approved List',\n",
       "       'In the Approved List?'],\n",
       "      dtype='object')"
      ]
     },
     "execution_count": 60,
     "metadata": {},
     "output_type": "execute_result"
    }
   ],
   "source": [
    "df_approved.columns"
   ]
  },
  {
   "cell_type": "markdown",
   "id": "binding-improvement",
   "metadata": {},
   "source": [
    "### is EFIS duplicate within Minor raw data?"
   ]
  },
  {
   "cell_type": "code",
   "execution_count": 61,
   "id": "institutional-construction",
   "metadata": {},
   "outputs": [],
   "source": [
    "#Mark project if EFIS is missing\n",
    "\n",
    "def is_EFIS_missing(df):\n",
    "    if pd.isna(df['EFIS']) or df['EFIS'] == 0:\n",
    "        return 'This project is missing EFIS (Project ID).'\n",
    "    else:\n",
    "        return 'OK'\n",
    "\n",
    "df_Minor_raw_data['Was Project ID (EFIS) completed?'] = df_Minor_raw_data.apply(is_EFIS_missing, axis =1 ) "
   ]
  },
  {
   "cell_type": "code",
   "execution_count": 62,
   "id": "compressed-halloween",
   "metadata": {},
   "outputs": [],
   "source": [
    "# Was Project ID (EFIS) completed?\t1\tWas Project ID (EFIS) completed?"
   ]
  },
  {
   "cell_type": "code",
   "execution_count": 63,
   "id": "linear-afghanistan",
   "metadata": {},
   "outputs": [
    {
     "name": "stdout",
     "output_type": "stream",
     "text": [
      "(1273, 95)\n",
      "(1273, 98)\n"
     ]
    }
   ],
   "source": [
    "temp = df_Minor_raw_data.groupby(['EFIS'])['AMT_ID'].agg([pd.Series.nunique, list]).reset_index()\n",
    "temp['AMT_IDs'] = temp['list'].apply(lambda l: ','.join(l))\n",
    "duplicated_EFIS= temp[temp['nunique']> 1]\n",
    "\n",
    "df_Minor_raw_data.drop(columns=['nunique','AMT_IDs'],inplace=True , errors='ignore')\n",
    "print(df_Minor_raw_data.shape)\n",
    "df_Minor_raw_data = pd.merge(df_Minor_raw_data, duplicated_EFIS, \n",
    "                             how = 'left', left_on = ['EFIS'], right_on=['EFIS'])\n",
    "print(df_Minor_raw_data.shape)\n",
    "\n",
    "def ck_EFIS_Uniqueness(df):\n",
    "    if pd.isna(df['nunique']):\n",
    "        return 'OK'\n",
    "    elif df['Was Project ID (EFIS) completed?'] != 'OK':\n",
    "        return 'OK'  #skip this since it is marked seperately\n",
    "    else:\n",
    "        return 'Duplicate EFIS {} is found in the following projects: {}'.format(df['EFIS'], df['AMT_IDs'])\n",
    "    \n",
    "df_Minor_raw_data['Is EFIS Repeated in Minor Profile?'] = df_Minor_raw_data.apply(ck_EFIS_Uniqueness, axis = 1)"
   ]
  },
  {
   "cell_type": "code",
   "execution_count": 64,
   "id": "senior-intelligence",
   "metadata": {},
   "outputs": [],
   "source": [
    "def is_EA_missing(df):\n",
    "    if pd.isna(df['EA']) or df['EA'] == '':\n",
    "        return 'This project is missing EA.'\n",
    "    else:\n",
    "        return 'OK'\n",
    "\n",
    "df_Minor_raw_data['Is EA missing?'] = df_Minor_raw_data.apply(is_EA_missing, axis =1 ) "
   ]
  },
  {
   "cell_type": "code",
   "execution_count": 65,
   "id": "cross-column",
   "metadata": {},
   "outputs": [],
   "source": [
    "# df_Minor_raw_data['Is EA missing?'].unique()"
   ]
  },
  {
   "cell_type": "markdown",
   "id": "overall-worst",
   "metadata": {},
   "source": [
    "### flag if District + EA duplicate within Minor raw data"
   ]
  },
  {
   "cell_type": "code",
   "execution_count": 66,
   "id": "recovered-section",
   "metadata": {},
   "outputs": [],
   "source": [
    "temp = df_Minor_raw_data.groupby(['Unique EA'])['AMT_ID'].nunique().reset_index(name = 'UnqiueEA_Counts')\n",
    "duplicated_EA= temp[temp['UnqiueEA_Counts']> 1]\n",
    "\n",
    "df_Minor_raw_data.drop(columns=['UnqiueEA_Counts'],inplace=True , errors='ignore')\n",
    "\n",
    "df_Minor_raw_data = pd.merge(df_Minor_raw_data, duplicated_EA[['Unique EA','UnqiueEA_Counts']].drop_duplicates(), \n",
    "                             how = 'left', left_on = ['Unique EA'], right_on=['Unique EA'])\n",
    "\n",
    "def ck_EA_Uniqueness(df):\n",
    "    if pd.isna(df['UnqiueEA_Counts']):\n",
    "        return 'OK'\n",
    "    elif df['Is EA missing?'] != 'OK':\n",
    "        return 'OK'  #skip this since it is marked seperately\n",
    "    else:\n",
    "        return 'Duplicate District_EA {} is found in the following projects: {}'.format(df['Unique EA'], df['AMT_IDs'])\n",
    "    \n",
    "df_Minor_raw_data['Is EA Repeated in Minor Profile?'] = df_Minor_raw_data.apply(ck_EA_Uniqueness, axis = 1)"
   ]
  },
  {
   "cell_type": "code",
   "execution_count": 67,
   "id": "intelligent-bridge",
   "metadata": {},
   "outputs": [],
   "source": [
    "ck_col =  'Does EA Need Updates?'\n",
    "#\n",
    "def ck_EA_consistancy(df):\n",
    "    if df['Is EA missing?'] != 'OK':\n",
    "        return 'EA information is missing.'\n",
    "    elif df['In the Approved List?'] != 'Yes':\n",
    "        return 'OK'\n",
    "    else: \n",
    "        #DEBUG: need to make all upper case\n",
    "        if str(df['EA']).upper() == str(df['EA_ApprovedList']).upper():\n",
    "            return 'OK'\n",
    "        else:\n",
    "            return 'Update EA. It does not match EA in Approved List of year {}'.format(df['FY of the Approved List'])\n",
    "    \n",
    "df_Minor_raw_data[ck_col] = df_Minor_raw_data.apply(ck_EA_consistancy, axis = 1)"
   ]
  },
  {
   "cell_type": "code",
   "execution_count": 68,
   "id": "union-isolation",
   "metadata": {},
   "outputs": [
    {
     "data": {
      "text/html": [
       "<div>\n",
       "<style scoped>\n",
       "    .dataframe tbody tr th:only-of-type {\n",
       "        vertical-align: middle;\n",
       "    }\n",
       "\n",
       "    .dataframe tbody tr th {\n",
       "        vertical-align: top;\n",
       "    }\n",
       "\n",
       "    .dataframe thead th {\n",
       "        text-align: right;\n",
       "    }\n",
       "</style>\n",
       "<table border=\"1\" class=\"dataframe\">\n",
       "  <thead>\n",
       "    <tr style=\"text-align: right;\">\n",
       "      <th></th>\n",
       "      <th>AMT_ID</th>\n",
       "      <th>EA</th>\n",
       "      <th>EA_ApprovedList</th>\n",
       "      <th>Does EA Need Updates?</th>\n",
       "    </tr>\n",
       "  </thead>\n",
       "  <tbody>\n",
       "    <tr>\n",
       "      <th>99</th>\n",
       "      <td>MA000119</td>\n",
       "      <td>48420</td>\n",
       "      <td>48420</td>\n",
       "      <td>OK</td>\n",
       "    </tr>\n",
       "    <tr>\n",
       "      <th>315</th>\n",
       "      <td>MB000373</td>\n",
       "      <td>1l410</td>\n",
       "      <td>1L410</td>\n",
       "      <td>OK</td>\n",
       "    </tr>\n",
       "  </tbody>\n",
       "</table>\n",
       "</div>"
      ],
      "text/plain": [
       "       AMT_ID     EA EA_ApprovedList Does EA Need Updates?\n",
       "99   MA000119  48420           48420                    OK\n",
       "315  MB000373  1l410           1L410                    OK"
      ]
     },
     "execution_count": 68,
     "metadata": {},
     "output_type": "execute_result"
    }
   ],
   "source": [
    "# #UnitTest\n",
    "\n",
    "# AMT_IDs = ['MB000373', 'MA000119']\n",
    "# ck_col = 'Does EA Need Updates?'\n",
    "\n",
    "# df_Minor_raw_data[(df_Minor_raw_data['AMT_ID'].isin(AMT_IDs)) ][[\n",
    "#     'AMT_ID','EA','EA_ApprovedList', ck_col]]"
   ]
  },
  {
   "cell_type": "code",
   "execution_count": null,
   "id": "thirty-championship",
   "metadata": {},
   "outputs": [],
   "source": []
  },
  {
   "cell_type": "code",
   "execution_count": null,
   "id": "advanced-carter",
   "metadata": {},
   "outputs": [],
   "source": []
  },
  {
   "cell_type": "code",
   "execution_count": 69,
   "id": "western-wichita",
   "metadata": {},
   "outputs": [],
   "source": [
    "ck_col = 'Does FY Need Updates?'\n",
    "\n",
    "def ck_FY_consistancy(df):\n",
    "    if df['FY In Use'] == 0:\n",
    "        return 'FY information is missing.'\n",
    "    elif df['In the Approved List?'] != 'Yes':\n",
    "        return 'OK'\n",
    "    else:    \n",
    "        if df['FY In Use'] == df['FY of the Approved List']:\n",
    "            return 'OK'\n",
    "        else:\n",
    "            return 'Please update FY. It is in the {} Approved List'.format(df['FY of the Approved List'])\n",
    "    \n",
    "df_Minor_raw_data[ck_col] = df_Minor_raw_data.apply(ck_FY_consistancy, axis = 1)"
   ]
  },
  {
   "cell_type": "code",
   "execution_count": 70,
   "id": "limiting-april",
   "metadata": {},
   "outputs": [],
   "source": [
    "ck_col = 'Is the project with FY In Use before 2023 included in the approved list?'\n",
    "\n",
    "def ck_FY_all_approved_projects(df):\n",
    "    if df['FY In Use'] == 0:\n",
    "        return 'OK'\n",
    "    elif df['FY In Use'] < 23 and df['In the Approved List?'] != 'Yes':\n",
    "        return 'The project has FY before 2023 but is not included in the approved list. Please update the FY or work with the Minor program to included it or obselete it.'\n",
    "    else:\n",
    "        return 'OK'\n",
    "    \n",
    "df_Minor_raw_data[ck_col] = df_Minor_raw_data.apply(ck_FY_all_approved_projects, axis = 1)"
   ]
  },
  {
   "cell_type": "code",
   "execution_count": 71,
   "id": "functional-verification",
   "metadata": {},
   "outputs": [],
   "source": [
    "# #UnitTest\n",
    "# AMT_IDs = ['MB000111']\n",
    "# ck_col = 'Is the project with FY In Use before 2023 included in the approved list?'\n",
    "\n",
    "# df_Minor_raw_data[(df_Minor_raw_data['AMT_ID'].isin(AMT_IDs)) ][['AMT_ID','FY In Use', ck_col]]"
   ]
  },
  {
   "cell_type": "code",
   "execution_count": 72,
   "id": "surgical-artwork",
   "metadata": {},
   "outputs": [],
   "source": [
    "ck_col = 'Does Program Code Need Updates?'\n",
    "\n",
    "def ck_program_code_update(df):\n",
    "    if df['In the Approved List?'] != 'Yes':\n",
    "        return 'OK'\n",
    "        #if it is not on the approved list, do not check.\n",
    "    else: \n",
    "        if pd.isna(df['Program Code_ApprovedList']) or (df['Program Code In Use'] == df['Program Code_ApprovedList']):\n",
    "            return 'OK'\n",
    "        else:\n",
    "            return 'The program code for Section In Use does not match Approved project list.'\n",
    "\n",
    "df_Minor_raw_data[ck_col] = df_Minor_raw_data.apply(ck_program_code_update, axis = 1)"
   ]
  },
  {
   "cell_type": "code",
   "execution_count": 73,
   "id": "fitting-duncan",
   "metadata": {},
   "outputs": [],
   "source": [
    "ck_col = 'Does Minor Type(A:B) Match Approved Project List?'\n",
    "\n",
    "def ck_minor_category(df):\n",
    "    if df['In the Approved List?'] != 'Yes':\n",
    "        return 'OK'\n",
    "    else: \n",
    "        if (df['Minor'] == df['Minor_ApprovedList']):\n",
    "            return 'OK'\n",
    "        else:\n",
    "            return 'The Minor Type for Section In Use does not match Approved project list. Please work with the Minor HQ to reconcile.'\n",
    "\n",
    "df_Minor_raw_data[ck_col] = df_Minor_raw_data.apply(ck_minor_category, axis = 1)"
   ]
  },
  {
   "cell_type": "code",
   "execution_count": 74,
   "id": "unique-surgeon",
   "metadata": {},
   "outputs": [
    {
     "data": {
      "text/html": [
       "<div>\n",
       "<style scoped>\n",
       "    .dataframe tbody tr th:only-of-type {\n",
       "        vertical-align: middle;\n",
       "    }\n",
       "\n",
       "    .dataframe tbody tr th {\n",
       "        vertical-align: top;\n",
       "    }\n",
       "\n",
       "    .dataframe thead th {\n",
       "        text-align: right;\n",
       "    }\n",
       "</style>\n",
       "<table border=\"1\" class=\"dataframe\">\n",
       "  <thead>\n",
       "    <tr style=\"text-align: right;\">\n",
       "      <th></th>\n",
       "      <th>AMT_ID</th>\n",
       "      <th>In the Approved List?</th>\n",
       "      <th>Minor</th>\n",
       "      <th>Minor_ApprovedList</th>\n",
       "      <th>Does Minor Type(A:B) Match Approved Project List?</th>\n",
       "    </tr>\n",
       "  </thead>\n",
       "  <tbody>\n",
       "    <tr>\n",
       "      <th>234</th>\n",
       "      <td>MA000278</td>\n",
       "      <td>Yes</td>\n",
       "      <td>A</td>\n",
       "      <td>B</td>\n",
       "      <td>The Minor Type for Section In Use does not mat...</td>\n",
       "    </tr>\n",
       "  </tbody>\n",
       "</table>\n",
       "</div>"
      ],
      "text/plain": [
       "       AMT_ID In the Approved List? Minor Minor_ApprovedList  \\\n",
       "234  MA000278                   Yes     A                  B   \n",
       "\n",
       "     Does Minor Type(A:B) Match Approved Project List?  \n",
       "234  The Minor Type for Section In Use does not mat...  "
      ]
     },
     "execution_count": 74,
     "metadata": {},
     "output_type": "execute_result"
    }
   ],
   "source": [
    "#UnitTest\n",
    "AMT_ID = 'MB000370' \n",
    "AMT_ID = 'MB001220' \n",
    "AMT_ID = 'MA000278' \n",
    "ck_col = 'Does Minor Type(A:B) Match Approved Project List?'\n",
    "\n",
    "df_Minor_raw_data[(df_Minor_raw_data['AMT_ID'] == AMT_ID) ][['AMT_ID','In the Approved List?','Minor', 'Minor_ApprovedList', \n",
    "                                                             ck_col]]"
   ]
  },
  {
   "cell_type": "code",
   "execution_count": 75,
   "id": "subject-missile",
   "metadata": {},
   "outputs": [
    {
     "name": "stdout",
     "output_type": "stream",
     "text": [
      "(1273, 107)\n",
      "(1273, 108)\n"
     ]
    }
   ],
   "source": [
    "ck_col = 'Project Has Qualified Activity?'\n",
    "\n",
    "df_Activity_CrossWalk['QualifiedActivity'] = 'Yes'\n",
    "\n",
    "temp = pd.merge(df_Minor_perf_raw_data, df_Activity_CrossWalk, \n",
    "         how='left', left_on=['Main Activity Category', 'ActID'], right_on=['Main Activity Category', 'ActID'])\n",
    "\n",
    "temp['QualifiedActivity'].fillna('No', inplace=True)\n",
    "\n",
    "temp = temp.groupby(['AMT_ID', 'Section'])['QualifiedActivity'].agg(list).reset_index()\n",
    "\n",
    "temp[ck_col] = temp['QualifiedActivity'].apply(\n",
    "    lambda x: 'Yes' if 'Yes' in x else 'No'\n",
    ")\n",
    "\n",
    "print(df_Minor_raw_data.shape)\n",
    "df_Minor_raw_data = pd.merge(df_Minor_raw_data, temp[['AMT_ID', 'Section', ck_col]], \n",
    "         how='left', left_on=['AMT_ID', 'Section'], right_on=['AMT_ID', 'Section'])\n",
    "print(df_Minor_raw_data.shape)"
   ]
  },
  {
   "cell_type": "code",
   "execution_count": null,
   "id": "injured-impossible",
   "metadata": {},
   "outputs": [],
   "source": []
  },
  {
   "cell_type": "code",
   "execution_count": 76,
   "id": "boring-agriculture",
   "metadata": {},
   "outputs": [],
   "source": [
    "ck_name = 'Does project have at least one performance activity related to the Activity Category?'\n",
    "\n",
    "def ck_qualified_activity(df):\n",
    "    if pd.isna(df['Project Has Qualified Activity?']):\n",
    "        return 'The performance data is missing for this project.'\n",
    "    elif df['Project Has Qualified Activity?'] == 'No':\n",
    "        try: \n",
    "            act_list = ','.join(dict_Activity_CW[df['Activity Category In Use']])\n",
    "        except:\n",
    "            act_list = 'please find out from HQ AM for the latest list.'\n",
    "        return 'Please update the performance to include at least one qualified activity. The qualified activity for {} are {}'.format(df['Activity Category In Use'], act_list)\n",
    "    else:\n",
    "        return 'OK'\n",
    "\n",
    "df_Minor_raw_data[ck_name] = df_Minor_raw_data.apply(ck_qualified_activity, axis=1)"
   ]
  },
  {
   "cell_type": "code",
   "execution_count": null,
   "id": "physical-identifier",
   "metadata": {},
   "outputs": [],
   "source": []
  },
  {
   "cell_type": "code",
   "execution_count": 77,
   "id": "hydraulic-wages",
   "metadata": {},
   "outputs": [],
   "source": [
    "ck_col = 'Does Construction Capital Cost ($K) Need Updates?'\n",
    "\n",
    "def ck_construction_capital_cost(df):\n",
    "    if df['In the Approved List?'] != 'Yes':\n",
    "        return 'OK'\n",
    "    else:\n",
    "        if abs(df['Construction Capital Cost ($K)'] - df['Construction Capital In Use ($K)']) < 0.01:\n",
    "            return 'OK'\n",
    "        else:\n",
    "            if (df['Section'] == 'ALN' and df['FY of the Approved List'] == 22):\n",
    "                #exception for construction cost does not match.\n",
    "                return 'OK'\n",
    "            else: \n",
    "                return 'Update Capital Cost. It does not match Approved List'\n",
    "\n",
    "        \n",
    "df_Minor_raw_data[ck_col] = df_Minor_raw_data.apply(ck_construction_capital_cost, axis = 1)"
   ]
  },
  {
   "cell_type": "code",
   "execution_count": null,
   "id": "infectious-glass",
   "metadata": {},
   "outputs": [],
   "source": []
  },
  {
   "cell_type": "markdown",
   "id": "australian-focus",
   "metadata": {},
   "source": [
    "### flag if no performance\n",
    " performance value can be zero"
   ]
  },
  {
   "cell_type": "code",
   "execution_count": 78,
   "id": "amazing-efficiency",
   "metadata": {},
   "outputs": [
    {
     "name": "stdout",
     "output_type": "stream",
     "text": [
      "(1273, 110)\n",
      "(1273, 111)\n"
     ]
    }
   ],
   "source": [
    "ck_col = 'Was Performance Tab Completed in Section In Use?'\n",
    "\n",
    "temp = df_Minor_perf_raw_data.groupby(['AMT_ID','Section']).first().reset_index()\n",
    "temp['Was performance tab completed?'] = 'Yes'\n",
    "\n",
    "df_Minor_raw_data.drop(columns=['Was performance tab completed?',],inplace=True , errors='ignore')\n",
    "print(df_Minor_raw_data.shape)\n",
    "\n",
    "df_Minor_raw_data = pd.merge(df_Minor_raw_data, temp[['AMT_ID','Section','Was performance tab completed?']].drop_duplicates(), \n",
    "                             how = 'left', left_on = ['AMT_ID','Section'], right_on=['AMT_ID','Section'])\n",
    "\n",
    "df_Minor_raw_data['Was performance tab completed?'].fillna('No', inplace=True)\n",
    "\n",
    "print(df_Minor_raw_data.shape)\n",
    "\n",
    "\n",
    "def ck_performance_availability(df):\n",
    "    if df['Was performance tab completed?'] == 'No':\n",
    "        return '\"Please complete Performance Tab in Section {}'.format(df['Section'])\n",
    "    else:\n",
    "        return 'OK'\n",
    "\n",
    "df_Minor_raw_data[ck_col] = df_Minor_raw_data.apply(ck_performance_availability, axis = 1)"
   ]
  },
  {
   "cell_type": "code",
   "execution_count": 79,
   "id": "israeli-operation",
   "metadata": {},
   "outputs": [
    {
     "name": "stdout",
     "output_type": "stream",
     "text": [
      "(1273, 112)\n",
      "(1273, 113)\n"
     ]
    },
    {
     "name": "stderr",
     "output_type": "stream",
     "text": [
      "<ipython-input-79-ba6e92750f7e>:4: SettingWithCopyWarning: \n",
      "A value is trying to be set on a copy of a slice from a DataFrame.\n",
      "Try using .loc[row_indexer,col_indexer] = value instead\n",
      "\n",
      "See the caveats in the documentation: https://pandas.pydata.org/pandas-docs/stable/user_guide/indexing.html#returning-a-view-versus-a-copy\n",
      "  temp_ALN[ck_col] = 'Yes'\n"
     ]
    }
   ],
   "source": [
    "#TODO: to add a column 'Was Performance Tab Completed in ALN Band?'\n",
    "ck_col = 'Was performance tab completed in ALN Band?'\n",
    "temp_ALN = temp[temp['Section'] == 'ALN']\n",
    "temp_ALN[ck_col] = 'Yes'\n",
    "\n",
    "df_Minor_raw_data.drop(columns=[ck_col],inplace=True , errors='ignore')\n",
    "print(df_Minor_raw_data.shape)\n",
    "\n",
    "df_Minor_raw_data = pd.merge(df_Minor_raw_data, temp_ALN[['AMT_ID',ck_col]].drop_duplicates(), \n",
    "                             how = 'left', left_on = ['AMT_ID'], right_on=['AMT_ID'])\n",
    "\n",
    "df_Minor_raw_data[ck_col].fillna('No', inplace=True)\n",
    "\n",
    "print(df_Minor_raw_data.shape)"
   ]
  },
  {
   "cell_type": "code",
   "execution_count": null,
   "id": "stable-benjamin",
   "metadata": {},
   "outputs": [],
   "source": []
  },
  {
   "cell_type": "code",
   "execution_count": 80,
   "id": "finnish-writing",
   "metadata": {},
   "outputs": [
    {
     "name": "stdout",
     "output_type": "stream",
     "text": [
      "(1273, 113)\n",
      "(1273, 114)\n"
     ]
    }
   ],
   "source": [
    "col_name = 'Does the performance summary match the performance value and measure reported to CTC?'\n",
    "\n",
    "print(df_Minor_raw_data.shape)\n",
    "\n",
    "df_Minor_raw_data.drop(columns=[col_name],inplace=True , errors='ignore')\n",
    "\n",
    "#join\n",
    "df_Minor_raw_data = pd.merge(\n",
    "    df_Minor_raw_data, \n",
    "    df_Programming_Summary_filtered[['AMT_ID', 'Section', col_name]],\n",
    "    how='left', left_on=['AMT_ID', 'Section'], right_on=['AMT_ID', 'Section']\n",
    ")\n",
    "print(df_Minor_raw_data.shape)"
   ]
  },
  {
   "cell_type": "code",
   "execution_count": 81,
   "id": "suspended-ivory",
   "metadata": {},
   "outputs": [],
   "source": [
    "ck_col = 'For approved Minor Projects, does the performance summary match the performance value and measure reported to CTC?'\n",
    "\n",
    "def ck_performance_value(df):\n",
    "    if df['In the Approved List?'] != 'Yes':\n",
    "        return 'OK'\n",
    "    else:\n",
    "        if df['Does the performance summary match the performance value and measure reported to CTC?'] =='No':\n",
    "            return 'Please update the performance tab to match CTC.'\n",
    "        else:\n",
    "            return 'OK'\n",
    "\n",
    "        \n",
    "df_Minor_raw_data[ck_col] = df_Minor_raw_data.apply(ck_performance_value, axis = 1)\n",
    "\n",
    "\n",
    "# For approved Minor Projects, \n",
    "# #fill na\n",
    "# #question to be answered: for projects not in the programming summary list, we assigned the performance value and measure check to No\n",
    "\n",
    "# df_Minor_raw_data[col_name].fillna('No', inplace=True)\n",
    "\n",
    "# print(df_Minor_raw_data.shape)"
   ]
  },
  {
   "cell_type": "code",
   "execution_count": null,
   "id": "shaped-pioneer",
   "metadata": {},
   "outputs": [],
   "source": []
  },
  {
   "cell_type": "markdown",
   "id": "robust-symphony",
   "metadata": {},
   "source": [
    "### flag if total project cost is zero"
   ]
  },
  {
   "cell_type": "code",
   "execution_count": 82,
   "id": "infectious-kazakhstan",
   "metadata": {},
   "outputs": [],
   "source": [
    "ck_col = 'Was the Project Cost Completed?'\n",
    "\n",
    "def ck_total_project_cost(df):\n",
    "    if pd.isna(df['Total Project Cost ($K)']) or df['Total Project Cost ($K)'] == 0:\n",
    "        return 'Total project cost can not Empty or zero.'\n",
    "    else:\n",
    "        return 'OK'\n",
    "    \n",
    "df_Minor_raw_data[ck_col] = df_Minor_raw_data.apply(ck_total_project_cost, axis = 1)"
   ]
  },
  {
   "cell_type": "markdown",
   "id": "junior-destination",
   "metadata": {},
   "source": [
    "### flag if project description is blank\n"
   ]
  },
  {
   "cell_type": "code",
   "execution_count": 83,
   "id": "colonial-charlotte",
   "metadata": {},
   "outputs": [],
   "source": [
    "ck_col = 'Was Project Location/Description Completed?'\n",
    "\n",
    "def ck_project_description(df):\n",
    "    if pd.isna(df['Project Location/Description']) or df['Project Location/Description'] == '':\n",
    "        return 'Project Location/Description can not empty.'\n",
    "    else:\n",
    "        return 'OK'\n",
    "    \n",
    "df_Minor_raw_data[ck_col] = df_Minor_raw_data.apply(ck_project_description, axis = 1)"
   ]
  },
  {
   "cell_type": "markdown",
   "id": "emotional-gateway",
   "metadata": {},
   "source": [
    "### check pm validation"
   ]
  },
  {
   "cell_type": "code",
   "execution_count": 84,
   "id": "pleasant-swimming",
   "metadata": {},
   "outputs": [],
   "source": [
    "ck_col = 'Are all Project Locations with a Valid Postmile?'\n",
    "\n",
    "df_Minor_pm_invalid = df_Minor_pm_check[df_Minor_pm_check['Valid PM'] != 'Yes']\n",
    "\n",
    "AMT_IDs_withInvalidPM = df_Minor_pm_invalid['AMT_ID'].unique()\n",
    "\n",
    "def ck_invalid_pm(df):\n",
    "    if df['AMT_ID'] in AMT_IDs_withInvalidPM:\n",
    "        return 'The PM is invalid.'\n",
    "    else:\n",
    "        return 'OK'\n",
    "    \n",
    "df_Minor_raw_data[ck_col] = df_Minor_raw_data.apply(ck_invalid_pm, axis = 1)"
   ]
  },
  {
   "cell_type": "code",
   "execution_count": 85,
   "id": "authorized-nursery",
   "metadata": {},
   "outputs": [],
   "source": [
    "# df_Minor_raw_data"
   ]
  },
  {
   "cell_type": "code",
   "execution_count": 86,
   "id": "industrial-roman",
   "metadata": {},
   "outputs": [],
   "source": [
    "\n",
    "ck_col = 'Data Needs Review Other Than Close-out?'\n",
    "\n",
    "datacheck_cols = [\n",
    "    'Was Project ID (EFIS) completed?',\n",
    "    'Is EFIS Repeated in Minor Profile?',\n",
    "    'Is EA Repeated in Minor Profile?',\n",
    "    'Does EA Need Updates?',\n",
    "    'Does FY Need Updates?', \n",
    "    'Is the project with FY In Use before 2023 included in the approved list?',\n",
    "    'Does Program Code Need Updates?', \n",
    "    'Does Minor Type(A:B) Match Approved Project List?',\n",
    "    'Does project have at least one performance activity related to the Activity Category?',\n",
    "    'Does Construction Capital Cost ($K) Need Updates?', \n",
    "    'Was Performance Tab Completed in Section In Use?',\n",
    "    'For approved Minor Projects, does the performance summary match the performance value and measure reported to CTC?',\n",
    "    'Was the Project Cost Completed?', \n",
    "    'Was Project Location/Description Completed?', \n",
    "    'Are all Project Locations with a Valid Postmile?',\n",
    "    'Is Pavement Plan Year Matching Project FY?',\n",
    "    'Is TMS Plan Year Matching Project FY?',\n",
    "    # 'Project in the approved list, but not in the AMTool.', \n",
    "]\n",
    "\n",
    "def ck_review_needs_2(df, datacheck_cols):\n",
    "    for col in datacheck_cols:\n",
    "        if pd.notna(df[col]) and df[col] != 'OK':\n",
    "            return 'District needs to review project data (Profile and/or RTL)'\n",
    "    return 'OK'\n",
    "    \n",
    "df_Minor_raw_data[ck_col] = df_Minor_raw_data.apply(ck_review_needs_2, args = [datacheck_cols], axis=1)"
   ]
  },
  {
   "cell_type": "code",
   "execution_count": 87,
   "id": "enormous-filter",
   "metadata": {},
   "outputs": [],
   "source": [
    "# #DEBUG\n",
    "# # AMT_ID = 'MB000370' \n",
    "# # AMT_ID = 'MB001220' \n",
    "# AMT_ID = 'MB000490' \n",
    "# ck_col = 'Data Needs Review Other Than Close-out?'\n",
    "\n",
    "# df_Minor_raw_data[(df_Minor_raw_data['AMT_ID'] == AMT_ID) ][['AMT_ID', 'FY In Use', \n",
    "#                                                              'Was Project ID (EFIS) completed?',\n",
    "#     'Is EFIS Repeated in Minor Profile?',\n",
    "#     'Is EA Repeated in Minor Profile?',\n",
    "#     'Does EA Need Updates?',\n",
    "#     'Does FY Need Updates?', \n",
    "#     'Is the project with FY In Use before 2023 included in the approved list?',\n",
    "#     'Does Program Code Need Updates?', \n",
    "#     'Does Minor Type(A:B) Match Approved Project List?',\n",
    "#     'Does project have at least one performance activity related to the Activity Category?',\n",
    "#     'Does Construction Capital Cost ($K) Need Updates?', \n",
    "#     'Was Performance Tab Completed in Section In Use?',\n",
    "#     'For approved Minor Projects, does the performance summary match the performance value and measure reported to CTC?',\n",
    "#     'Was the Project Cost Completed?', \n",
    "#     'Was Project Location/Description Completed?', \n",
    "#     'Are all Project Locations with a Valid Postmile?',\n",
    "#     'Is Pavement Plan Year Matching Project FY?',\n",
    "#     'Is TMS Plan Year Matching Project FY?', ck_col]]"
   ]
  },
  {
   "cell_type": "code",
   "execution_count": null,
   "id": "controlled-debut",
   "metadata": {},
   "outputs": [],
   "source": []
  },
  {
   "cell_type": "code",
   "execution_count": null,
   "id": "listed-sacrifice",
   "metadata": {},
   "outputs": [],
   "source": []
  },
  {
   "cell_type": "code",
   "execution_count": 88,
   "id": "current-system",
   "metadata": {},
   "outputs": [],
   "source": [
    "ck_col = 'Was project with FY Before 2021/22 Closed-Out?'\n",
    "\n",
    "def ck_project_closeout_status(df):\n",
    "    if pd.isna(df['FY In Use']) or df['FY In Use'] == 0:\n",
    "        return 'OK'\n",
    "    elif int(df['FY In Use']) < 22 and df['Section'] == 'ALN':\n",
    "        return 'OK'\n",
    "    elif int(df['FY In Use']) > 21:\n",
    "        return 'OK'\n",
    "    else:\n",
    "        return 'Please work with HQ Minor Program to Close-out Project'\n",
    "    \n",
    "df_Minor_raw_data[ck_col] = df_Minor_raw_data.apply(ck_project_closeout_status, axis=1)"
   ]
  },
  {
   "cell_type": "code",
   "execution_count": null,
   "id": "advised-lighter",
   "metadata": {},
   "outputs": [],
   "source": []
  },
  {
   "cell_type": "code",
   "execution_count": 89,
   "id": "tracked-fishing",
   "metadata": {},
   "outputs": [
    {
     "data": {
      "text/html": [
       "<div>\n",
       "<style scoped>\n",
       "    .dataframe tbody tr th:only-of-type {\n",
       "        vertical-align: middle;\n",
       "    }\n",
       "\n",
       "    .dataframe tbody tr th {\n",
       "        vertical-align: top;\n",
       "    }\n",
       "\n",
       "    .dataframe thead th {\n",
       "        text-align: right;\n",
       "    }\n",
       "</style>\n",
       "<table border=\"1\" class=\"dataframe\">\n",
       "  <thead>\n",
       "    <tr style=\"text-align: right;\">\n",
       "      <th></th>\n",
       "      <th>AMT_ID</th>\n",
       "      <th>FY In Use</th>\n",
       "      <th>Was project with FY Before 2021/22 Closed-Out?</th>\n",
       "    </tr>\n",
       "  </thead>\n",
       "  <tbody>\n",
       "    <tr>\n",
       "      <th>71</th>\n",
       "      <td>MA000084</td>\n",
       "      <td>99</td>\n",
       "      <td>OK</td>\n",
       "    </tr>\n",
       "  </tbody>\n",
       "</table>\n",
       "</div>"
      ],
      "text/plain": [
       "      AMT_ID  FY In Use Was project with FY Before 2021/22 Closed-Out?\n",
       "71  MA000084         99                                             OK"
      ]
     },
     "execution_count": 89,
     "metadata": {},
     "output_type": "execute_result"
    }
   ],
   "source": [
    "#DEBUG\n",
    "AMT_ID = 'MB000370' \n",
    "AMT_ID = 'MB001220' \n",
    "AMT_ID = 'MA000084' \n",
    "ck_col = 'Was project with FY Before 2021/22 Closed-Out?'\n",
    "\n",
    "df_Minor_raw_data[(df_Minor_raw_data['AMT_ID'] == AMT_ID) ][['AMT_ID', 'FY In Use', ck_col]]"
   ]
  },
  {
   "cell_type": "code",
   "execution_count": 90,
   "id": "elegant-enemy",
   "metadata": {},
   "outputs": [],
   "source": [
    "ck_col = 'Data Needs Review?'\n",
    "\n",
    "input_cols = [\n",
    "    'Data Needs Review Other Than Close-out?',\n",
    "    'Was project with FY Before 2021/22 Closed-Out?'\n",
    "]\n",
    "\n",
    "def ck_review_needs(df, input_cols):\n",
    "    for col in input_cols:\n",
    "        if pd.notna(df[col]) and df[col] != 'OK:':\n",
    "            return 'District needs to review project data (Profile and/or RTL)'\n",
    "    return 'OK'\n",
    "    \n",
    "df_Minor_raw_data[ck_col] = df_Minor_raw_data.apply(ck_review_needs, args = [input_cols], axis=1)\n"
   ]
  },
  {
   "cell_type": "code",
   "execution_count": 91,
   "id": "favorite-intermediate",
   "metadata": {},
   "outputs": [],
   "source": [
    "datacheck_cols_all = datacheck_cols + ['Was project with FY Before 2021/22 Closed-Out?']"
   ]
  },
  {
   "cell_type": "markdown",
   "id": "front-might",
   "metadata": {},
   "source": [
    "<a id='Export_Data'></a>\n",
    "# Export Data"
   ]
  },
  {
   "cell_type": "code",
   "execution_count": 92,
   "id": "color-container",
   "metadata": {},
   "outputs": [],
   "source": [
    "file_export_log = open(LOG_FILE, \"a\")  # append mode\n",
    "file_export_log.write(\"#####Minor Data Check:{} \\n\".format(Data_TimeStamp))\n",
    "file_export_log.close()"
   ]
  },
  {
   "cell_type": "code",
   "execution_count": 93,
   "id": "powerful-bhutan",
   "metadata": {},
   "outputs": [],
   "source": [
    "df_Minor_raw_data['Data_TimeStamp'] = Data_TimeStamp"
   ]
  },
  {
   "cell_type": "code",
   "execution_count": null,
   "id": "selective-fisher",
   "metadata": {},
   "outputs": [],
   "source": []
  },
  {
   "cell_type": "code",
   "execution_count": 94,
   "id": "fitting-modem",
   "metadata": {},
   "outputs": [],
   "source": [
    "# for c in df_Minor_raw_data.columns:\n",
    "#     print(c)"
   ]
  },
  {
   "cell_type": "markdown",
   "id": "strategic-catalog",
   "metadata": {},
   "source": [
    "## Export Check Flags"
   ]
  },
  {
   "cell_type": "code",
   "execution_count": 95,
   "id": "robust-selection",
   "metadata": {},
   "outputs": [],
   "source": [
    "#export all projects with all checks in matrix\n",
    "project_info_cols = [\n",
    "    #project information\n",
    "    'AMT_ID', 'Minor', 'EFIS', 'EA', 'District', \n",
    "    'Data_TimeStamp',\n",
    "    'Data Needs Review?',\n",
    "    'Data Needs Review Other Than Close-out?',\n",
    "    'FY of the Approved List',\n",
    "    'FY In Use',\n",
    "    'Section In Use',\n",
    "    'Program Code In Use', \n",
    "    'Activity Category In Use',\n",
    "    'Project Cost In Use ($K)'\n",
    "]\n",
    "\n",
    "out_cols = project_info_cols + datacheck_cols_all\n",
    "\n",
    "filename = 'Minor_Datacheck_Matrix'\n",
    "df_out = df_Minor_raw_data[out_cols]\n",
    "\n",
    "uf.export_csv(df_out, filename, PROJECTBOOKCHECK_HTTPSERVER_FOLDER, LOG_FILE)"
   ]
  },
  {
   "cell_type": "code",
   "execution_count": 96,
   "id": "lonely-spotlight",
   "metadata": {},
   "outputs": [],
   "source": [
    "# for c in datacheck_cols_all:\n",
    "#     if df_Minor_raw_data[c].isna().any():\n",
    "#         print(c)\n",
    "# #     df_Minor_raw_data[c].fillna('OK', inplace=True)"
   ]
  },
  {
   "cell_type": "code",
   "execution_count": null,
   "id": "engaged-password",
   "metadata": {},
   "outputs": [],
   "source": []
  },
  {
   "cell_type": "code",
   "execution_count": null,
   "id": "closing-chaos",
   "metadata": {},
   "outputs": [],
   "source": []
  },
  {
   "cell_type": "code",
   "execution_count": 97,
   "id": "grateful-karma",
   "metadata": {},
   "outputs": [],
   "source": [
    "df_melted = pd.melt(df_Minor_raw_data, \n",
    "                    id_vars=['AMT_ID'], \n",
    "                    value_vars=datacheck_cols_all, var_name = 'Check Description')\n",
    "\n",
    "df_melted.columns = ['AMT_ID','Check Description','Check Summary']\n",
    "df_melted_filtered = df_melted[df_melted['Check Summary']!= 'OK']\n",
    "\n",
    "df_punchlist = pd.merge(df_melted_filtered, df_Minor_raw_data[project_info_cols],\n",
    "                  how = 'left', left_on = 'AMT_ID', right_on = 'AMT_ID')\n"
   ]
  },
  {
   "cell_type": "code",
   "execution_count": 98,
   "id": "located-genetics",
   "metadata": {},
   "outputs": [],
   "source": [
    "# df_Minor_raw_data.AMT_ID.nunique()"
   ]
  },
  {
   "cell_type": "markdown",
   "id": "timely-mason",
   "metadata": {},
   "source": [
    "# Get district level summary of projects w/o data check flags"
   ]
  },
  {
   "cell_type": "code",
   "execution_count": 99,
   "id": "standard-national",
   "metadata": {},
   "outputs": [],
   "source": [
    "temp = df_punchlist[df_punchlist['FY In Use'] != 99].groupby(['District'])['AMT_ID'].nunique().reset_index()"
   ]
  },
  {
   "cell_type": "code",
   "execution_count": 100,
   "id": "primary-situation",
   "metadata": {},
   "outputs": [],
   "source": [
    "dict_rename = {\n",
    "    'AMT_ID': 'Number of Projects with Data Check Flag'\n",
    "}\n",
    "temp.rename(dict_rename, axis = 1, inplace=True)    "
   ]
  },
  {
   "cell_type": "code",
   "execution_count": 101,
   "id": "forty-deficit",
   "metadata": {},
   "outputs": [],
   "source": [
    "temp2 = df_Minor_raw_data.groupby(['District'])['AMT_ID'].nunique().reset_index()"
   ]
  },
  {
   "cell_type": "code",
   "execution_count": 102,
   "id": "norwegian-regression",
   "metadata": {},
   "outputs": [],
   "source": [
    "dict_rename = {\n",
    "    'AMT_ID': 'Number of Projects in Minor'\n",
    "}\n",
    "temp2.rename(dict_rename, axis = 1, inplace=True)"
   ]
  },
  {
   "cell_type": "code",
   "execution_count": 103,
   "id": "above-mongolia",
   "metadata": {},
   "outputs": [],
   "source": [
    "df_datacheck_summary = pd.merge(temp, temp2, how ='left', left_on = 'District' , right_on = 'District') "
   ]
  },
  {
   "cell_type": "code",
   "execution_count": 104,
   "id": "valuable-vehicle",
   "metadata": {},
   "outputs": [],
   "source": [
    "df_datacheck_summary['Data_TimeStamp'] = Data_TimeStamp"
   ]
  },
  {
   "cell_type": "code",
   "execution_count": 105,
   "id": "signed-oxford",
   "metadata": {},
   "outputs": [
    {
     "name": "stderr",
     "output_type": "stream",
     "text": [
      "processing table: 12it [00:00, 6001.15it/s]\n"
     ]
    },
    {
     "name": "stdout",
     "output_type": "stream",
     "text": [
      "Signing into AssetManagement at https://tableau.dot.ca.gov\n",
      "Publishing Minor_DataCheckSummary.hyper to Sandbox_ProjectBookCheck_Automation...\n"
     ]
    }
   ],
   "source": [
    "filename = 'Minor_DataCheckSummary'\n",
    "\n",
    "#This summary is based on EFIS, includes the projects that are in approved list but not yet in AMTool.\n",
    "\n",
    "df_out = df_datacheck_summary\n",
    "uf.export_csv(df_out, filename, PROJECTBOOKCHECK_HTTPSERVER_FOLDER, LOG_FILE)\n",
    "uf.export_hyper(df_out, filename, LOG_FILE)"
   ]
  },
  {
   "cell_type": "code",
   "execution_count": 106,
   "id": "functioning-courtesy",
   "metadata": {},
   "outputs": [
    {
     "name": "stderr",
     "output_type": "stream",
     "text": [
      "processing table: 2064it [00:00, 12899.61it/s]\n"
     ]
    },
    {
     "name": "stdout",
     "output_type": "stream",
     "text": [
      "Signing into AssetManagement at https://tableau.dot.ca.gov\n",
      "Publishing Minor_Datacheck_Punchlist.hyper to Sandbox_ProjectBookCheck_Automation...\n"
     ]
    }
   ],
   "source": [
    "# #question to be answered: Will the projects in the approved list but not in the AMTool be counted?\n",
    "\n",
    "#append the missing AMTool from the approved list\n",
    "# df_Missing_projects['']\n",
    "df_Missing_projects['Check Description'] = 'Project in the approved list, but not in the AMTool.'\n",
    "df_Missing_projects['Check Summary'] =  'The project is in the approved list but not in AMTool.'\n",
    "df_punchlist_all = df_punchlist.append(df_Missing_projects, ignore_index = True)\n",
    "# df_punchlist_all['EA'].fillna('_', inplace=True)\n",
    "df_punchlist_all['EA'] = df_punchlist_all['EA'].apply(lambda x: \"'\"+ str(x) if x else \"'\")\n",
    "\n",
    "filename = 'Minor_Datacheck_Punchlist'\n",
    "uf.export_csv(df_punchlist_all, filename, PROJECTBOOKCHECK_HTTPSERVER_FOLDER, LOG_FILE)\n",
    "uf.export_hyper(df_punchlist_all, filename, LOG_FILE)"
   ]
  },
  {
   "cell_type": "code",
   "execution_count": null,
   "id": "hungry-value",
   "metadata": {},
   "outputs": [],
   "source": []
  },
  {
   "cell_type": "markdown",
   "id": "fatty-cover",
   "metadata": {},
   "source": [
    "## Action items for Minor District Engineer"
   ]
  },
  {
   "cell_type": "code",
   "execution_count": null,
   "id": "desirable-production",
   "metadata": {},
   "outputs": [],
   "source": []
  },
  {
   "cell_type": "code",
   "execution_count": null,
   "id": "experimental-alfred",
   "metadata": {},
   "outputs": [],
   "source": []
  },
  {
   "cell_type": "code",
   "execution_count": 107,
   "id": "abroad-grenada",
   "metadata": {},
   "outputs": [],
   "source": [
    "ck_col = 'Was information Entered in the Allocation Band?'\n",
    "\n",
    "def ck_ALN_band_info_completeness(df):\n",
    "    if (pd.isna(df['FY_ALN']) \n",
    "        or df['Was performance tab completed in ALN Band?'] == 'No' \n",
    "        or pd.isna(df['Total Capital Project Cost ($K)'])\n",
    "       ):\n",
    "        return 'No'\n",
    "    else: \n",
    "        return 'Yes'\n",
    "    \n",
    "df_Minor_raw_data[ck_col] = df_Minor_raw_data.apply(ck_ALN_band_info_completeness, axis=1)"
   ]
  },
  {
   "cell_type": "code",
   "execution_count": null,
   "id": "disturbed-lighting",
   "metadata": {},
   "outputs": [],
   "source": []
  },
  {
   "cell_type": "code",
   "execution_count": 108,
   "id": "recreational-beads",
   "metadata": {},
   "outputs": [],
   "source": [
    "ck_col = 'Is Project ready to enter data in the Allocation Band?'\n",
    "\n",
    "def ck_readiness_to_enter_ALN_band(df):\n",
    "    if pd.notna(df['Prog Appr Date_WP']):  #has approval date in WP band\n",
    "        if df['Section'] == 'ALN':\n",
    "            return 'Project was closed-out'\n",
    "        elif df['Was information Entered in the Allocation Band?'] == 'Yes':\n",
    "            return 'Allocation Band needs review by HQ Minor Program. If all data Accurate HQ Minor will enter the approval date'\n",
    "        else:\n",
    "            return 'Project ready to enter data in the Allocation Band (Cost, Schedule, RTL, And/Or Performance Tab)'\n",
    "    else: \n",
    "        return 'Workplan Band needs review by HQ Minor Program. If all data Accurate HQ Minor will enter the approval date'\n",
    "    \n",
    "df_Minor_raw_data[ck_col] = df_Minor_raw_data.apply(ck_readiness_to_enter_ALN_band, axis=1)"
   ]
  },
  {
   "cell_type": "code",
   "execution_count": 109,
   "id": "baking-financing",
   "metadata": {},
   "outputs": [],
   "source": [
    "# #UnitTest\n",
    "\n",
    "# AMT_IDs = ['MB000633', 'MB000092']\n",
    "# ck_col = 'Is Project ready to enter data in the Allocation Band?'\n",
    "\n",
    "# df_Minor_raw_data[(df_Minor_raw_data['AMT_ID'].isin(AMT_IDs)) ][[\n",
    "#     'AMT_ID','Section', 'Prog Appr Date_WP','Was information Entered in the Allocation Band?', ck_col]]"
   ]
  },
  {
   "cell_type": "code",
   "execution_count": null,
   "id": "thrown-neighborhood",
   "metadata": {},
   "outputs": [],
   "source": []
  },
  {
   "cell_type": "code",
   "execution_count": 110,
   "id": "swedish-monday",
   "metadata": {},
   "outputs": [
    {
     "name": "stderr",
     "output_type": "stream",
     "text": [
      "processing table: 1273it [00:00, 13989.40it/s]\n"
     ]
    },
    {
     "name": "stdout",
     "output_type": "stream",
     "text": [
      "Signing into AssetManagement at https://tableau.dot.ca.gov\n",
      "Publishing Minor_District_Action.hyper to Sandbox_ProjectBookCheck_Automation...\n"
     ]
    }
   ],
   "source": [
    "filename = 'Minor_District_Action'\n",
    "\n",
    "out_cols = project_info_cols + [\n",
    "    'Is Project ready to enter data in the Allocation Band?'\n",
    "                    ]\n",
    "df_out = df_Minor_raw_data[out_cols]\n",
    "uf.export_csv(df_out, filename, PROJECTBOOKCHECK_HTTPSERVER_FOLDER, LOG_FILE)\n",
    "\n",
    "uf.export_hyper(df_out, filename, LOG_FILE)"
   ]
  },
  {
   "cell_type": "markdown",
   "id": "experimental-ambassador",
   "metadata": {},
   "source": [
    "## Action items for Minor HQ Engineer"
   ]
  },
  {
   "cell_type": "code",
   "execution_count": 111,
   "id": "headed-length",
   "metadata": {},
   "outputs": [],
   "source": [
    "ck_col = 'Is Project Ready for Review and Approval Date?'\n",
    "\n",
    "def ck_readiness_for_review(df):\n",
    "    if df['Data Needs Review Other Than Close-out?'] != 'OK':\n",
    "        return 'No'\n",
    "    elif df['FY In Use'] > 22: \n",
    "        return 'No'\n",
    "    elif pd.isna(df['Prog Appr Date_WP']):\n",
    "        return 'HQ Needs to review Workplan band and enter Approval Date if data is accurate'\n",
    "    \n",
    "    elif df['Was information Entered in the Allocation Band?'] == 'Yes':\n",
    "        if pd.notna(df['Prog Appr Date_ALN']):\n",
    "            return 'No'\n",
    "        else:\n",
    "            return 'HQ Needs to review Allocation band and enter Approval Date if data is accurate'\n",
    "    else:\n",
    "        return 'No'\n",
    "df_Minor_raw_data[ck_col] = df_Minor_raw_data.apply(ck_readiness_for_review, axis=1)"
   ]
  },
  {
   "cell_type": "code",
   "execution_count": 112,
   "id": "united-intermediate",
   "metadata": {},
   "outputs": [
    {
     "data": {
      "text/html": [
       "<div>\n",
       "<style scoped>\n",
       "    .dataframe tbody tr th:only-of-type {\n",
       "        vertical-align: middle;\n",
       "    }\n",
       "\n",
       "    .dataframe tbody tr th {\n",
       "        vertical-align: top;\n",
       "    }\n",
       "\n",
       "    .dataframe thead th {\n",
       "        text-align: right;\n",
       "    }\n",
       "</style>\n",
       "<table border=\"1\" class=\"dataframe\">\n",
       "  <thead>\n",
       "    <tr style=\"text-align: right;\">\n",
       "      <th></th>\n",
       "      <th>AMT_ID</th>\n",
       "      <th>Section</th>\n",
       "      <th>Data Needs Review Other Than Close-out?</th>\n",
       "      <th>FY In Use</th>\n",
       "      <th>Prog Appr Date_WP</th>\n",
       "      <th>Was information Entered in the Allocation Band?</th>\n",
       "      <th>Prog Appr Date_ALN</th>\n",
       "      <th>Is Project Ready for Review and Approval Date?</th>\n",
       "    </tr>\n",
       "  </thead>\n",
       "  <tbody>\n",
       "    <tr>\n",
       "      <th>7</th>\n",
       "      <td>MA000008</td>\n",
       "      <td>WP</td>\n",
       "      <td>District needs to review project data (Profile...</td>\n",
       "      <td>20</td>\n",
       "      <td>NaN</td>\n",
       "      <td>No</td>\n",
       "      <td>NaN</td>\n",
       "      <td>No</td>\n",
       "    </tr>\n",
       "    <tr>\n",
       "      <th>404</th>\n",
       "      <td>MB000490</td>\n",
       "      <td>WP</td>\n",
       "      <td>OK</td>\n",
       "      <td>21</td>\n",
       "      <td>07/01/20</td>\n",
       "      <td>Yes</td>\n",
       "      <td>NaN</td>\n",
       "      <td>HQ Needs to review Allocation band and enter A...</td>\n",
       "    </tr>\n",
       "  </tbody>\n",
       "</table>\n",
       "</div>"
      ],
      "text/plain": [
       "       AMT_ID Section            Data Needs Review Other Than Close-out?  \\\n",
       "7    MA000008      WP  District needs to review project data (Profile...   \n",
       "404  MB000490      WP                                                 OK   \n",
       "\n",
       "     FY In Use Prog Appr Date_WP  \\\n",
       "7           20               NaN   \n",
       "404         21          07/01/20   \n",
       "\n",
       "    Was information Entered in the Allocation Band? Prog Appr Date_ALN  \\\n",
       "7                                                No                NaN   \n",
       "404                                             Yes                NaN   \n",
       "\n",
       "        Is Project Ready for Review and Approval Date?  \n",
       "7                                                   No  \n",
       "404  HQ Needs to review Allocation band and enter A...  "
      ]
     },
     "execution_count": 112,
     "metadata": {},
     "output_type": "execute_result"
    }
   ],
   "source": [
    "#UnitTest\n",
    "\n",
    "AMT_IDs = ['MA000008', 'MB000490']\n",
    "ck_col = 'Is Project Ready for Review and Approval Date?'\n",
    "\n",
    "df_Minor_raw_data[(df_Minor_raw_data['AMT_ID'].isin(AMT_IDs)) ][[\n",
    "    'AMT_ID','Section', \n",
    "    'Data Needs Review Other Than Close-out?',\n",
    "    'FY In Use','Prog Appr Date_WP','Was information Entered in the Allocation Band?','Prog Appr Date_ALN',\n",
    "    ck_col,]]"
   ]
  },
  {
   "cell_type": "code",
   "execution_count": null,
   "id": "synthetic-enterprise",
   "metadata": {},
   "outputs": [],
   "source": []
  },
  {
   "cell_type": "code",
   "execution_count": null,
   "id": "crucial-referral",
   "metadata": {},
   "outputs": [],
   "source": []
  },
  {
   "cell_type": "code",
   "execution_count": 113,
   "id": "stone-reverse",
   "metadata": {},
   "outputs": [],
   "source": [
    "ck_col = 'Does Workplan Band needs Approval Removal?'\n",
    "\n",
    "def ck_WP_data_error(df):\n",
    "    if pd.isna(df['Prog Appr Date_WP']):  #has no approval data in WP band\n",
    "        return 'No'\n",
    "    elif (pd.isna(df['FY In Use'])\n",
    "        or int(df['FY In Use']) > 22 \n",
    "        or (df['FY In Use'] in ['21', '22'] and df['In the Approved List?'] == 'No')\n",
    "         ): \n",
    "        return 'HQ Minor Program needs to remove Approval date fromWorkplan Band, so District can updated the project FY. Project not in Approved lists or in the future'\n",
    "    else:\n",
    "        return 'No'\n",
    "    \n",
    "df_Minor_raw_data[ck_col] = df_Minor_raw_data.apply(ck_WP_data_error, axis=1)"
   ]
  },
  {
   "cell_type": "code",
   "execution_count": 114,
   "id": "russian-showcase",
   "metadata": {},
   "outputs": [],
   "source": [
    "ck_col = 'Does Allocation Band Needs Approval Removal?'\n",
    "\n",
    "def ck_ALN_data_error(df):\n",
    "    if pd.isna(df['Prog Appr Date_ALN']):  #has no approval data in ALN band\n",
    "        return 'No'\n",
    "    elif df['Data Needs Review Other Than Close-out?'] == 'OK': \n",
    "        return 'No'\n",
    "    else:\n",
    "        return 'HQ Minor Program needs to remove Approval date from Allocation Band, so District can updated the project data'\n",
    "\n",
    "df_Minor_raw_data[ck_col] = df_Minor_raw_data.apply(ck_ALN_data_error, axis=1)"
   ]
  },
  {
   "cell_type": "code",
   "execution_count": 115,
   "id": "bronze-enemy",
   "metadata": {},
   "outputs": [],
   "source": [
    "ck_col = 'HQ Minor Program Needs Review?'\n",
    "\n",
    "def ck_review_needs_HQ_Minor(df):\n",
    "    if (df['Is Project Ready for Review and Approval Date?'] == \"No\"\n",
    "        and df['Does Workplan Band needs Approval Removal?'] == 'No'\n",
    "        and df['Does Allocation Band Needs Approval Removal?'] == 'No'\n",
    "       ):\n",
    "        return 'No'\n",
    "    else: \n",
    "        return \"HQ Minor Needs Review\"\n",
    "    \n",
    "df_Minor_raw_data[ck_col] = df_Minor_raw_data.apply(ck_review_needs_HQ_Minor, axis=1)"
   ]
  },
  {
   "cell_type": "code",
   "execution_count": null,
   "id": "spanish-antigua",
   "metadata": {},
   "outputs": [],
   "source": []
  },
  {
   "cell_type": "code",
   "execution_count": 120,
   "id": "lovely-friday",
   "metadata": {
    "collapsed": true
   },
   "outputs": [
    {
     "data": {
      "text/html": [
       "<div>\n",
       "<style scoped>\n",
       "    .dataframe tbody tr th:only-of-type {\n",
       "        vertical-align: middle;\n",
       "    }\n",
       "\n",
       "    .dataframe tbody tr th {\n",
       "        vertical-align: top;\n",
       "    }\n",
       "\n",
       "    .dataframe thead th {\n",
       "        text-align: right;\n",
       "    }\n",
       "</style>\n",
       "<table border=\"1\" class=\"dataframe\">\n",
       "  <thead>\n",
       "    <tr style=\"text-align: right;\">\n",
       "      <th></th>\n",
       "      <th>AMT_ID</th>\n",
       "      <th>Section</th>\n",
       "      <th>Data Needs Review Other Than Close-out?</th>\n",
       "      <th>FY In Use</th>\n",
       "      <th>Prog Appr Date_WP</th>\n",
       "      <th>Was information Entered in the Allocation Band?</th>\n",
       "      <th>Prog Appr Date_ALN</th>\n",
       "      <th>Is Project Ready for Review and Approval Date?</th>\n",
       "      <th>Does Workplan Band needs Approval Removal?</th>\n",
       "      <th>Does Allocation Band Needs Approval Removal?</th>\n",
       "      <th>HQ Minor Program Needs Review?</th>\n",
       "    </tr>\n",
       "  </thead>\n",
       "  <tbody>\n",
       "    <tr>\n",
       "      <th>7</th>\n",
       "      <td>MA000008</td>\n",
       "      <td>WP</td>\n",
       "      <td>District needs to review project data (Profile...</td>\n",
       "      <td>20</td>\n",
       "      <td>NaN</td>\n",
       "      <td>No</td>\n",
       "      <td>NaN</td>\n",
       "      <td>No</td>\n",
       "      <td>No</td>\n",
       "      <td>No</td>\n",
       "      <td>No</td>\n",
       "    </tr>\n",
       "    <tr>\n",
       "      <th>404</th>\n",
       "      <td>MB000490</td>\n",
       "      <td>WP</td>\n",
       "      <td>OK</td>\n",
       "      <td>21</td>\n",
       "      <td>07/01/20</td>\n",
       "      <td>Yes</td>\n",
       "      <td>NaN</td>\n",
       "      <td>HQ Needs to review Allocation band and enter A...</td>\n",
       "      <td>No</td>\n",
       "      <td>No</td>\n",
       "      <td>HQ Minor Needs Review</td>\n",
       "    </tr>\n",
       "  </tbody>\n",
       "</table>\n",
       "</div>"
      ],
      "text/plain": [
       "       AMT_ID Section            Data Needs Review Other Than Close-out?  \\\n",
       "7    MA000008      WP  District needs to review project data (Profile...   \n",
       "404  MB000490      WP                                                 OK   \n",
       "\n",
       "     FY In Use Prog Appr Date_WP  \\\n",
       "7           20               NaN   \n",
       "404         21          07/01/20   \n",
       "\n",
       "    Was information Entered in the Allocation Band? Prog Appr Date_ALN  \\\n",
       "7                                                No                NaN   \n",
       "404                                             Yes                NaN   \n",
       "\n",
       "        Is Project Ready for Review and Approval Date?  \\\n",
       "7                                                   No   \n",
       "404  HQ Needs to review Allocation band and enter A...   \n",
       "\n",
       "    Does Workplan Band needs Approval Removal?  \\\n",
       "7                                           No   \n",
       "404                                         No   \n",
       "\n",
       "    Does Allocation Band Needs Approval Removal?  \\\n",
       "7                                             No   \n",
       "404                                           No   \n",
       "\n",
       "    HQ Minor Program Needs Review?  \n",
       "7                               No  \n",
       "404          HQ Minor Needs Review  "
      ]
     },
     "execution_count": 120,
     "metadata": {},
     "output_type": "execute_result"
    }
   ],
   "source": [
    "# #UnitTest\n",
    "\n",
    "# AMT_IDs = ['MA000008', 'MB000490']\n",
    "\n",
    "# df_Minor_raw_data[(df_Minor_raw_data['AMT_ID'].isin(AMT_IDs)) ][[\n",
    "#     'AMT_ID','Section', \n",
    "#     'Data Needs Review Other Than Close-out?',\n",
    "#     'FY In Use','Prog Appr Date_WP','Was information Entered in the Allocation Band?','Prog Appr Date_ALN',\n",
    "#     'Is Project Ready for Review and Approval Date?','Does Workplan Band needs Approval Removal?', 'Does Allocation Band Needs Approval Removal?','HQ Minor Program Needs Review?']]"
   ]
  },
  {
   "cell_type": "code",
   "execution_count": 117,
   "id": "tough-needle",
   "metadata": {
    "collapsed": true
   },
   "outputs": [
    {
     "name": "stderr",
     "output_type": "stream",
     "text": [
      "processing table: 1273it [00:00, 12122.98it/s]\n"
     ]
    },
    {
     "name": "stdout",
     "output_type": "stream",
     "text": [
      "Signing into AssetManagement at https://tableau.dot.ca.gov\n",
      "Publishing Minor_HQ_Action.hyper to Sandbox_ProjectBookCheck_Automation...\n"
     ]
    }
   ],
   "source": [
    "filename = 'Minor_HQ_Action'\n",
    "\n",
    "out_cols = project_info_cols + [\n",
    "    'Is Project Ready for Review and Approval Date?',\n",
    "    'Does Workplan Band needs Approval Removal?',\n",
    "    'Does Allocation Band Needs Approval Removal?',\n",
    "    'HQ Minor Program Needs Review?',\n",
    "                    ]\n",
    "df_out = df_Minor_raw_data[out_cols]\n",
    "\n",
    "uf.export_csv(df_out, filename, PROJECTBOOKCHECK_HTTPSERVER_FOLDER, LOG_FILE)\n",
    "\n",
    "uf.export_hyper(df_out, filename, LOG_FILE)"
   ]
  },
  {
   "cell_type": "markdown",
   "id": "resistant-isaac",
   "metadata": {},
   "source": [
    "\n",
    "<a id='FinalCleanUp'></a>\n",
    "## Final Clean Up"
   ]
  },
  {
   "cell_type": "code",
   "execution_count": 118,
   "id": "understanding-sleeping",
   "metadata": {},
   "outputs": [],
   "source": [
    "#clean up tableau publishing log file\n",
    "\n",
    "import os\n",
    "import glob\n",
    "# get a recursive list of file paths that matches pattern\n",
    "fileList = glob.glob('./*.log')\n",
    "# Iterate over the list of filepaths & remove each file.\n",
    "for filePath in fileList:\n",
    "    try:\n",
    "        os.remove(filePath)\n",
    "    except OSError:\n",
    "        print(\"Error while deleting file\")\n"
   ]
  },
  {
   "cell_type": "code",
   "execution_count": 119,
   "id": "durable-sponsorship",
   "metadata": {
    "scrolled": true
   },
   "outputs": [
    {
     "name": "stdout",
     "output_type": "stream",
     "text": [
      "time elapsed : 22.070443630218506 seconds\n"
     ]
    }
   ],
   "source": [
    "end_time =  time.time()\n",
    "elapsed = end_time - start_time\n",
    "print('time elapsed : {} seconds'.format(elapsed))"
   ]
  },
  {
   "cell_type": "code",
   "execution_count": null,
   "id": "alone-colony",
   "metadata": {},
   "outputs": [],
   "source": []
  },
  {
   "cell_type": "code",
   "execution_count": null,
   "id": "steady-exercise",
   "metadata": {},
   "outputs": [],
   "source": []
  },
  {
   "cell_type": "code",
   "execution_count": null,
   "id": "living-vampire",
   "metadata": {},
   "outputs": [],
   "source": []
  }
 ],
 "metadata": {
  "kernelspec": {
   "display_name": "Python 3",
   "language": "python",
   "name": "python3"
  },
  "language_info": {
   "codemirror_mode": {
    "name": "ipython",
    "version": 3
   },
   "file_extension": ".py",
   "mimetype": "text/x-python",
   "name": "python",
   "nbconvert_exporter": "python",
   "pygments_lexer": "ipython3",
   "version": "3.9.1"
  }
 },
 "nbformat": 4,
 "nbformat_minor": 5
}
