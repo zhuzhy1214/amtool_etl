{
 "cells": [
  {
   "cell_type": "code",
   "execution_count": 1,
   "id": "considerable-accommodation",
   "metadata": {},
   "outputs": [],
   "source": [
    "# %load_ext autoreload\n",
    "# %autoreload 2"
   ]
  },
  {
   "cell_type": "markdown",
   "id": "spiritual-responsibility",
   "metadata": {},
   "source": [
    "# Version Notes: \n",
    "\n",
    "### v1: \n",
    "* add Data_HourMinute for all exported datasources\n"
   ]
  },
  {
   "cell_type": "markdown",
   "id": "known-diagnosis",
   "metadata": {},
   "source": [
    "# Tip for quick search\n",
    "\n",
    "* Needs attention: the place where needs update or better logic\n",
    "* question to be answered: the place where things are still not clear\n",
    "* Manual Check: Unit test where you can drill in to find the data that leads to the check results for a specific project and specific check\n",
    "* TODO: things needs to be done\n",
    "* bookmark: stop point from last visit\n"
   ]
  },
  {
   "cell_type": "markdown",
   "id": "ecological-excess",
   "metadata": {},
   "source": [
    "# Admin Notes:\n",
    "\n",
    "\n",
    "1. The AMTool dataset is archived daily as csv files and used for the project book check. \n",
    "The csv files are located at: \n",
    "r'\\\\ct.dot.ca.gov\\dfshq\\DIROFC\\Asset Management\\4e Project Book\\Tableau Dashboards\\DataLake'\n",
    "\n",
    "2. The excel input files are checked daily and archived with datestamp whenever it is modified.\n",
    "The continuously updated excel input files are located at: r'\\\\ct.dot.ca.gov\\dfshq\\DIROFC\\Asset Management\\4e Project Book\\Projectbook_WorkingFolder\\excel'\n",
    "The excel input file are archived at: r'\\\\ct.dot.ca.gov\\dfshq\\DIROFC\\Asset Management\\4e Project Book\\Tableau Dashboards\\Data_MiscInput'\n",
    "To recover the archived excel file used in project book check for a target date, select the excel file with latest datestamp but is still earlier than the target date.\n",
    "\n",
    "3. The check summary export action is logged daily. It can be used for daily monitoring. \n",
    "The file export log is located at: \\\\ct.dot.ca.gov\\dfshq\\DIROFC\\Asset Management\\4e Project Book\\Projectbook_WorkingFolder\\output_internal\\log\n",
    "\n",
    "4. The published data are at:\n",
    "\n",
    "    * csv files for district asset manager: http://svgcshopp.dot.ca.gov/DataLake/ProjectBookCheck/\n",
    "    * csv files for HQ AM: \\\\ct.dot.ca.gov\\dfshq\\DIROFC\\Asset Management\\4e Project Book\\Projectbook_WorkingFolder\\output_internal\n",
    "    * tableau workbook with live data source: https://tableau.dot.ca.gov/#/site/AssetManagement/workbooks/1815/views\n"
   ]
  },
  {
   "cell_type": "markdown",
   "id": "comic-disaster",
   "metadata": {},
   "source": [
    "# General Approach\n",
    "\n",
    "use Minor raw data as basis for data checks. \n",
    "Each project only occupies one line\n",
    "\n",
    "can expand columns, only if it will not create duplicate rows in the SHOPP raw dataset. \n"
   ]
  },
  {
   "cell_type": "markdown",
   "id": "piano-celebrity",
   "metadata": {},
   "source": [
    "# Data clean process\n",
    "\n",
    "* funding amount: remove dollar sign, \n",
    "* fill missing value, string, numerical, \n",
    "* remove leading single quote for string value\n",
    "* strip off leading and trailing space \n",
    "\n",
    "* regulate column names\n",
    "\n",
    "\n"
   ]
  },
  {
   "cell_type": "markdown",
   "id": "offensive-mozambique",
   "metadata": {},
   "source": [
    "# Import common modules"
   ]
  },
  {
   "cell_type": "markdown",
   "id": "romantic-cheat",
   "metadata": {},
   "source": [
    "<a id='TableOfContents'></a>\n",
    "\n",
    "# Table Of Contents\n",
    "\n",
    "## Data Preprocessing\n",
    "\n",
    "### [Global Constants](#GlobalConstants)\n",
    "\n",
    "\n",
    "### [Load and cleanup source data](#Read_Data)\n",
    "\n",
    "\n",
    "## Add fields to SHOPP raw data (calculate and join)\n",
    "* [Calculated Fields](#AddDataColumns)\n",
    "* [Join Tables](#DataJoining)\n",
    "\n",
    "\n",
    "\n",
    "## Data Check and Export\n",
    "\n",
    "\n",
    "## [Data Check List](#Issue_Table1)\n",
    "The main table of check issues, \n",
    "one issue per row, \n",
    "\n",
    "\n",
    "* [Will_this_project_be_included_in_the_Project_Book](#Will_this_project_be_included_in_the_Project_Book)\n",
    "* [Does_project_cost_exceed_Minor_Program_limits](#Does_project_cost_exceed_Minor_Program_limits)\n",
    "\n",
    "\n",
    "\n",
    "## [Export Internal Check Summary](#Export_internal_check_summary)\n",
    "* internal check summary (csv)\n",
    "\n",
    "\n",
    "## [Final Clean Up](#FinalCleanUp)\n"
   ]
  },
  {
   "cell_type": "code",
   "execution_count": 2,
   "id": "fundamental-appliance",
   "metadata": {},
   "outputs": [],
   "source": [
    "\n",
    "from datetime import datetime\n",
    "import os.path\n",
    "\n",
    "# import requests\n",
    "import pandas as pd\n",
    "\n",
    "import numpy as np\n",
    "import re\n",
    "\n",
    "import shutil"
   ]
  },
  {
   "cell_type": "code",
   "execution_count": 3,
   "id": "second-samba",
   "metadata": {},
   "outputs": [],
   "source": [
    "import time\n",
    "start_time = time.time()"
   ]
  },
  {
   "cell_type": "code",
   "execution_count": 4,
   "id": "intellectual-nursery",
   "metadata": {},
   "outputs": [],
   "source": [
    "#show dataframe without skip column\n",
    "pd.options.display.max_columns = 100"
   ]
  },
  {
   "cell_type": "code",
   "execution_count": 5,
   "id": "acquired-istanbul",
   "metadata": {},
   "outputs": [
    {
     "name": "stdout",
     "output_type": "stream",
     "text": [
      "You are using the Extract API 2.0, please save the output as .hyper format\n"
     ]
    }
   ],
   "source": [
    "# from config_datasource import *\n",
    "import projectbookcheck_utilityfunction as uf"
   ]
  },
  {
   "cell_type": "markdown",
   "id": "furnished-theory",
   "metadata": {},
   "source": [
    "<a id='GlobalConstants'></a>\n",
    "## Global Constants"
   ]
  },
  {
   "cell_type": "code",
   "execution_count": 6,
   "id": "million-discharge",
   "metadata": {},
   "outputs": [],
   "source": [
    "# # use 'csv' to read data from data lake, use 'live' to read data directly from AmTool Server\n",
    "# DATA_SOURCE_TYPE = 'csv'\n",
    "\n",
    "# # DATALAKE_FOLDER = r'\\\\ct.dot.ca.gov\\dfshq\\DIROFC\\Asset Management\\4e Project Book\\Tableau Dashboards\\DataLake'\n",
    "\n",
    "# #input data\n",
    "# DATALAKE_FOLDER = r'\\\\ct.dot.ca.gov\\dfshq\\DIROFC\\Asset Management\\4e Project Book\\Tableau Dashboards\\DataLake'\n",
    "# PROJECTBOOKCHECK_INPUT_FOLDER = r'\\\\ct.dot.ca.gov\\dfshq\\DIROFC\\Asset Management\\4e Project Book\\Projectbook_WorkingFolder\\excel'\n",
    "\n",
    "# #output data\n",
    "# DATALAKE_HTTPSEVER_FOLDER = 'C:\\inetpub\\wwwroot\\DataLake\\ProjectBookCheck'\n",
    "# PROJECTBOOKCHECK_OUTPUT_FOLDER = r'\\\\ct.dot.ca.gov\\dfshq\\DIROFC\\Asset Management\\4e Project Book\\Projectbook_WorkingFolder\\output_internal'\n",
    "\n",
    "# #log data\n",
    "# log_folder = r'\\\\ct.dot.ca.gov\\dfshq\\DIROFC\\Asset Management\\4e Project Book\\Projectbook_WorkingFolder\\output_internal\\log'\n",
    "\n",
    "# TARGET_FY = 2021\n",
    "\n",
    "\n",
    "# # CURRENT_FY\n",
    "\n",
    "# TARGETDATE = datetime.today().strftime(\"%m-%d-%Y\")"
   ]
  },
  {
   "cell_type": "code",
   "execution_count": 7,
   "id": "experienced-helena",
   "metadata": {},
   "outputs": [],
   "source": [
    "from constants import *"
   ]
  },
  {
   "cell_type": "code",
   "execution_count": 8,
   "id": "artistic-facial",
   "metadata": {},
   "outputs": [],
   "source": [
    "filename = 'TenYrShopp_RawData_'\n",
    "path_to_file = r'{}\\{}.csv'.format(DATALAKE_HTTPSERVER_FOLDER, filename)\n",
    "t = os.path.getmtime(path_to_file)\n",
    "\n",
    "# File_TimeStamp = datetime.fromtimestamp(t).strftime(\"%m-%d-%Y_%H-%M\")\n",
    "Data_TimeStamp = datetime.fromtimestamp(t).strftime(\"%m-%d-%Y %H:%M:%S\")\n",
    "\n",
    "TARGETDATE = datetime.fromtimestamp(t).strftime(\"%m-%d-%Y\")"
   ]
  },
  {
   "cell_type": "code",
   "execution_count": 9,
   "id": "sorted-degree",
   "metadata": {},
   "outputs": [],
   "source": [
    "CURRENT_FY = uf.fiscalyear(datetime.today())"
   ]
  },
  {
   "cell_type": "code",
   "execution_count": null,
   "id": "quality-healthcare",
   "metadata": {},
   "outputs": [],
   "source": []
  },
  {
   "cell_type": "code",
   "execution_count": null,
   "id": "driven-profile",
   "metadata": {},
   "outputs": [],
   "source": []
  },
  {
   "cell_type": "code",
   "execution_count": 10,
   "id": "dense-twist",
   "metadata": {},
   "outputs": [],
   "source": [
    "# filename = 'Programming_Summary_'\n",
    "# df_Programming_Summary = pd.read_csv(r'{}\\{}{}.csv'.format(DATALAKE_FOLDER, filename, TARGETDATE))"
   ]
  },
  {
   "cell_type": "markdown",
   "id": "enhanced-ready",
   "metadata": {},
   "source": [
    "<a id='Read_Data'></a>\n",
    "\n",
    "# Read Data\n"
   ]
  },
  {
   "cell_type": "code",
   "execution_count": 11,
   "id": "artificial-handy",
   "metadata": {},
   "outputs": [],
   "source": [
    "File_TimeStamp = ''\n",
    "\n",
    "if DATA_SOURCE_TYPE == 'csv':\n",
    "    filename = 'Minor_Project_Details_Raw_Data_'\n",
    "    df_Minor_raw_data = pd.read_csv(r'{}\\{}{}.csv'.format(DATALAKE_FOLDER, filename, File_TimeStamp))\n",
    "\n",
    "    filename = 'Minor_Performance_Raw_Data_'\n",
    "    df_Minor_perf_raw_data = pd.read_csv(r'{}\\{}{}.csv'.format(DATALAKE_FOLDER, filename, File_TimeStamp))\n",
    "\n",
    "    filename = 'Programming_Summary_'\n",
    "    df_Programming_Summary = pd.read_csv(r'{}\\{}{}.csv'.format(DATALAKE_FOLDER, filename, File_TimeStamp))\n",
    "\n",
    "    filename = 'Minor_Project_Postmile_Check_'\n",
    "    df_Minor_pm_check = pd.read_csv(r'{}\\{}{}.csv'.format(DATALAKE_FOLDER, filename, File_TimeStamp), header = 0)\n",
    "\n",
    "    \n",
    "else:\n",
    "    print('skip getting csv data.')"
   ]
  },
  {
   "cell_type": "code",
   "execution_count": 12,
   "id": "binding-people",
   "metadata": {},
   "outputs": [],
   "source": [
    "filename = 'Minor_Activity_Crosswork.xlsx'\n",
    "\n",
    "df_Activity_CrossWalk = pd.read_excel(r'{}\\{}'.format(PROJECTBOOKCHECK_INPUT_FOLDER, filename))\n",
    "\n",
    "# df_Activity_CrossWalk['Activity Category'].unique()\n",
    "\n",
    "temp = df_Activity_CrossWalk.groupby('Main Activity Category')['ActID'].agg(list).reset_index()\n",
    "\n",
    "dict_Activity_CW = dict(zip(temp['Main Activity Category'], temp['ActID']))"
   ]
  },
  {
   "cell_type": "code",
   "execution_count": null,
   "id": "north-assembly",
   "metadata": {},
   "outputs": [],
   "source": []
  },
  {
   "cell_type": "code",
   "execution_count": null,
   "id": "labeled-collect",
   "metadata": {},
   "outputs": [],
   "source": []
  },
  {
   "cell_type": "code",
   "execution_count": 13,
   "id": "approximate-hartford",
   "metadata": {},
   "outputs": [],
   "source": [
    "#question answered: 2021 and 2022 approved list project id duplication will be resolved with later excel files"
   ]
  },
  {
   "cell_type": "markdown",
   "id": "successful-oasis",
   "metadata": {},
   "source": [
    "# Data quality check and cleaning"
   ]
  },
  {
   "cell_type": "markdown",
   "id": "charming-handling",
   "metadata": {},
   "source": [
    "<a id='Minor_Raw_Data'></a>\n",
    "## Minor Raw Data"
   ]
  },
  {
   "cell_type": "code",
   "execution_count": 14,
   "id": "solid-stephen",
   "metadata": {},
   "outputs": [],
   "source": [
    "dict_rename = {'Project ID':'EFIS',\n",
    "               'ID': 'AMT_ID', \n",
    "              'FY.1': 'FY_ALN',\n",
    "               'Prog Appr Date': 'Prog Appr Date_ALN',\n",
    "               'FY': 'FY_WP',\n",
    "               'Prog Approval Date': 'Prog Appr Date_WP',\n",
    "              }\n",
    "df_Minor_raw_data = df_Minor_raw_data.rename(dict_rename, axis = 1)"
   ]
  },
  {
   "cell_type": "code",
   "execution_count": 15,
   "id": "adolescent-medicaid",
   "metadata": {},
   "outputs": [
    {
     "data": {
      "text/plain": [
       "(1263, 78)"
      ]
     },
     "execution_count": 15,
     "metadata": {},
     "output_type": "execute_result"
    }
   ],
   "source": [
    "df_Minor_raw_data.shape"
   ]
  },
  {
   "cell_type": "code",
   "execution_count": 16,
   "id": "reliable-driving",
   "metadata": {},
   "outputs": [],
   "source": [
    "# for programmed FY year of 9999, skip all the checks\n",
    "\n",
    "# No need to check, since the raw data is filtered before download"
   ]
  },
  {
   "cell_type": "code",
   "execution_count": 17,
   "id": "amateur-amateur",
   "metadata": {},
   "outputs": [],
   "source": [
    "\n",
    "df_Minor_raw_data['District'] = df_Minor_raw_data['District'].apply(uf.remove_punction)\n",
    "df_Minor_raw_data['District'] = df_Minor_raw_data['District'].astype(int)"
   ]
  },
  {
   "cell_type": "markdown",
   "id": "civilian-belief",
   "metadata": {},
   "source": [
    "<a id='Minor_Perf_RawData'></a>\n",
    "## Minor_Perf_RawData"
   ]
  },
  {
   "cell_type": "code",
   "execution_count": 18,
   "id": "psychological-settle",
   "metadata": {},
   "outputs": [],
   "source": [
    "#rename columns\n",
    "dict_rename_perf_rawdata = {\n",
    "                           'ID': 'AMT_ID',\n",
    "#                             'ProjectedRTL FY': 'Projected RTL FY',\n",
    "\n",
    "              }\n",
    "\n",
    "df_Minor_perf_raw_data = df_Minor_perf_raw_data.rename(dict_rename_perf_rawdata, axis = 1)"
   ]
  },
  {
   "cell_type": "code",
   "execution_count": 19,
   "id": "neural-outside",
   "metadata": {
    "scrolled": false
   },
   "outputs": [],
   "source": [
    "cols_strip = ['EA','EFIS']\n",
    "for c in cols_strip :\n",
    "    df_Minor_perf_raw_data[c] = df_Minor_perf_raw_data[c].str.strip(\"'\")"
   ]
  },
  {
   "cell_type": "code",
   "execution_count": null,
   "id": "focal-economy",
   "metadata": {},
   "outputs": [],
   "source": []
  },
  {
   "cell_type": "code",
   "execution_count": 20,
   "id": "sustainable-package",
   "metadata": {},
   "outputs": [],
   "source": [
    "#data clean \n",
    "#data type regulation\n",
    "\n",
    "df_Minor_perf_raw_data['Quantity'] = df_Minor_perf_raw_data['Quantity'].fillna(0)\n",
    "df_Minor_perf_raw_data['Assets in Good Cond'] = df_Minor_perf_raw_data['Assets in Good Cond'].fillna(0)\n",
    "df_Minor_perf_raw_data['Assets in Fair Cond'] = df_Minor_perf_raw_data['Assets in Fair Cond'].fillna(0)\n",
    "df_Minor_perf_raw_data['Assets in Poor Cond'] = df_Minor_perf_raw_data['Assets in Poor Cond'].fillna(0)\n",
    "df_Minor_perf_raw_data['New Assets Added'] = df_Minor_perf_raw_data['New Assets Added'].fillna(0)\n",
    "\n",
    "# df_Minor_perf_raw_data['EFIS'] = df_Minor_perf_raw_data['EFIS'].apply(regulate_EFIS)\n",
    "df_Minor_perf_raw_data['EFIS'] = pd.to_numeric(df_Minor_perf_raw_data['EFIS'], errors='coerce')\n"
   ]
  },
  {
   "cell_type": "code",
   "execution_count": 21,
   "id": "dedicated-banking",
   "metadata": {},
   "outputs": [],
   "source": [
    "#data trimming\n",
    "#row\n",
    "df_Minor_perf_raw_data= df_Minor_perf_raw_data[df_Minor_perf_raw_data['District'] != 56]\n",
    "#column\n",
    "df_Minor_perf_raw_data.drop(['PID Cycle', 'TYP','ProjectedSHOPP Cycle','RequestedRTL FY','DistrictPriority'],\n",
    "  axis='columns', inplace=True, errors='ignore')"
   ]
  },
  {
   "cell_type": "code",
   "execution_count": 22,
   "id": "sapphire-yellow",
   "metadata": {},
   "outputs": [],
   "source": [
    "df_Minor_perf_raw_data.name = 'df_Minor_perf_raw_data'"
   ]
  },
  {
   "cell_type": "code",
   "execution_count": null,
   "id": "canadian-tampa",
   "metadata": {},
   "outputs": [],
   "source": []
  },
  {
   "cell_type": "markdown",
   "id": "heated-edition",
   "metadata": {},
   "source": [
    "<a id='Counties'></a>\n",
    "## Counties\n"
   ]
  },
  {
   "cell_type": "code",
   "execution_count": 23,
   "id": "standing-profession",
   "metadata": {},
   "outputs": [],
   "source": [
    "filename = 'Counties.xlsx'\n",
    "\n",
    "df_counties = pd.read_excel(r'{}\\{}'.format(PROJECTBOOKCHECK_INPUT_FOLDER, filename))"
   ]
  },
  {
   "cell_type": "code",
   "execution_count": 24,
   "id": "virtual-current",
   "metadata": {},
   "outputs": [],
   "source": [
    "df_counties['Co. Name Abbr.'] = df_counties['Co. Name Abbr.'].str.upper()"
   ]
  },
  {
   "cell_type": "code",
   "execution_count": 25,
   "id": "bigger-termination",
   "metadata": {},
   "outputs": [],
   "source": [
    "# df_counties.shape"
   ]
  },
  {
   "cell_type": "code",
   "execution_count": 26,
   "id": "informative-fifty",
   "metadata": {},
   "outputs": [],
   "source": [
    "df_counties.name = 'df_counties'"
   ]
  },
  {
   "cell_type": "code",
   "execution_count": 27,
   "id": "spectacular-neutral",
   "metadata": {},
   "outputs": [],
   "source": [
    "# df_perf_raw_prog_county = df_perf_raw_prog_candidate.merge(df_counties, how = 'left', left_on = 'County', right_on = 'Co. Name Abbr.')"
   ]
  },
  {
   "cell_type": "code",
   "execution_count": 28,
   "id": "therapeutic-blackberry",
   "metadata": {},
   "outputs": [],
   "source": [
    "#no need for the following, already added to the df_Minor_perf_raw_data\n",
    "\n",
    "# #rename columns\n",
    "# dict_rename_4= {\n",
    "#                'Performance Objective':'Performance Objective Original', \n",
    "#               }\n",
    "\n",
    "# df_perf_raw_prog_county = df_perf_raw_prog_county.rename(dict_rename_4, axis = 1)"
   ]
  },
  {
   "cell_type": "code",
   "execution_count": null,
   "id": "equipped-toyota",
   "metadata": {},
   "outputs": [],
   "source": []
  },
  {
   "cell_type": "code",
   "execution_count": null,
   "id": "wicked-liability",
   "metadata": {},
   "outputs": [],
   "source": []
  },
  {
   "cell_type": "markdown",
   "id": "classified-boost",
   "metadata": {},
   "source": [
    "<a id='Postmile_Check'></a>\n",
    "## Postmile Check"
   ]
  },
  {
   "cell_type": "code",
   "execution_count": 29,
   "id": "adult-recycling",
   "metadata": {},
   "outputs": [],
   "source": [
    "dict_PM_ck_rename = {\n",
    " 'ID': 'AMT_ID',\n",
    " '№': 'No'                            }\n",
    "df_Minor_pm_check.rename(dict_PM_ck_rename, axis = 1, inplace = True)"
   ]
  },
  {
   "cell_type": "code",
   "execution_count": 30,
   "id": "alike-election",
   "metadata": {},
   "outputs": [],
   "source": [
    "df_Minor_pm_check['District'] = df_Minor_pm_check['District'].str.strip(\"'\")\n",
    "df_Minor_pm_check['District'] =df_Minor_pm_check['District'].astype(int)\n",
    "df_Minor_pm_check = df_Minor_pm_check[df_Minor_pm_check['District']!= 56]"
   ]
  },
  {
   "cell_type": "code",
   "execution_count": 31,
   "id": "molecular-passenger",
   "metadata": {},
   "outputs": [
    {
     "data": {
      "text/plain": [
       "(1623, 29)"
      ]
     },
     "execution_count": 31,
     "metadata": {},
     "output_type": "execute_result"
    }
   ],
   "source": [
    "df_Minor_pm_check.name = 'df_Minor_pm_check'\n",
    "df_Minor_pm_check.shape"
   ]
  },
  {
   "cell_type": "markdown",
   "id": "documentary-cookie",
   "metadata": {},
   "source": [
    "<a id='ProgrammingSummary'></a>\n",
    "## Programming Summary"
   ]
  },
  {
   "cell_type": "code",
   "execution_count": 32,
   "id": "medium-context",
   "metadata": {},
   "outputs": [],
   "source": [
    "\n",
    "dict_renamee = {'ID': 'AMT_ID',\n",
    "                               }\n",
    "df_Programming_Summary.rename(dict_renamee, axis = 1, inplace = True)"
   ]
  },
  {
   "cell_type": "code",
   "execution_count": 33,
   "id": "entertaining-clothing",
   "metadata": {},
   "outputs": [],
   "source": [
    "cols_strip = ['EA','EFIS']\n",
    "for c in cols_strip :\n",
    "    df_Programming_Summary[c] = df_Programming_Summary[c].str.strip(\"'\")\n",
    "    \n",
    "df_Programming_Summary['EFIS'] = df_Programming_Summary['EFIS'].apply(uf.regulate_EFIS)\n",
    "df_Programming_Summary['EFIS'] = pd.to_numeric(df_Programming_Summary['EFIS'], errors='coerce')\n"
   ]
  },
  {
   "cell_type": "code",
   "execution_count": 34,
   "id": "loved-brown",
   "metadata": {},
   "outputs": [],
   "source": [
    "# df_Programming_Summary.head()"
   ]
  },
  {
   "cell_type": "code",
   "execution_count": null,
   "id": "enclosed-secretary",
   "metadata": {},
   "outputs": [],
   "source": []
  },
  {
   "cell_type": "markdown",
   "id": "amazing-siemens",
   "metadata": {},
   "source": [
    "# Approved Project List"
   ]
  },
  {
   "cell_type": "code",
   "execution_count": 35,
   "id": "amateur-blend",
   "metadata": {},
   "outputs": [],
   "source": [
    "#read xlsx files\n",
    "df_approved_2021 = pd.read_excel(r'{}\\{}'.format('H:\\Jupyter\\Dev\\data', 'FY2021_Minor Approved list.xlsx'))\n",
    "df_approved_2022 = pd.read_excel(r'{}\\{}'.format('H:\\Jupyter\\Dev\\data', 'FY2022_Minor Approved list.xlsx'))"
   ]
  },
  {
   "cell_type": "code",
   "execution_count": 36,
   "id": "revolutionary-accounting",
   "metadata": {},
   "outputs": [],
   "source": [
    "df_approved_2021['In the 2021 Approved List?'] = 'Yes'\n",
    "df_approved_2022['In the 2022 Approved List?'] = 'Yes'"
   ]
  },
  {
   "cell_type": "code",
   "execution_count": 37,
   "id": "refined-marketplace",
   "metadata": {},
   "outputs": [],
   "source": [
    "#question answered: should 2021 and 2022 approved list be treated seperately?\n"
   ]
  },
  {
   "cell_type": "code",
   "execution_count": 38,
   "id": "palestinian-amino",
   "metadata": {},
   "outputs": [],
   "source": [
    "dict_rename = {\n",
    "    'Project ID':'EFIS',\n",
    "    'Total Project Cost ($K)': 'Construction Capital Cost ($K)'\n",
    "}\n",
    "df_approved_2021 = df_approved_2021.rename(dict_rename, axis = 1)\n"
   ]
  },
  {
   "cell_type": "code",
   "execution_count": 39,
   "id": "forty-default",
   "metadata": {},
   "outputs": [],
   "source": [
    "dict_rename = {\n",
    "    'Project ID':'EFIS',\n",
    "    'Contruction': 'Construction Capital Cost ($K)'\n",
    "              }\n",
    "df_approved_2022 = df_approved_2022.rename(dict_rename, axis = 1)"
   ]
  },
  {
   "cell_type": "code",
   "execution_count": 40,
   "id": "japanese-reserve",
   "metadata": {},
   "outputs": [],
   "source": [
    "df_approved_2021['EFIS'] = df_approved_2021['EFIS'].apply(uf.regulate_EFIS)\n",
    "df_approved_2022['EFIS'] = df_approved_2022['EFIS'].apply(uf.regulate_EFIS)"
   ]
  },
  {
   "cell_type": "code",
   "execution_count": 41,
   "id": "wrapped-robinson",
   "metadata": {},
   "outputs": [],
   "source": [
    "df_approved_2021['EFIS'] = pd.to_numeric(df_approved_2021['EFIS'], errors='coerce')\n",
    "df_approved_2022['EFIS'] = pd.to_numeric(df_approved_2022['EFIS'], errors='coerce')"
   ]
  },
  {
   "cell_type": "code",
   "execution_count": 42,
   "id": "french-bankruptcy",
   "metadata": {},
   "outputs": [],
   "source": [
    "df_approved_2021['Approve Year'] = 21\n",
    "df_approved_2022['Approve Year'] = 22"
   ]
  },
  {
   "cell_type": "code",
   "execution_count": 43,
   "id": "supposed-belize",
   "metadata": {},
   "outputs": [],
   "source": [
    "target_cols = ['EFIS','EA','Performance Value','Performance Measure','Approve Year','Program Code','Construction Capital Cost ($K)']\n",
    "\n",
    "df_approved = df_approved_2021[target_cols].append(df_approved_2022[target_cols])\n",
    "# only use 21 to check if project is in both 21 and 22\n",
    "df_approved = df_approved.sort_values(by =['EFIS','Approve Year'], ascending = True)\n",
    "df_approved = df_approved.groupby('EFIS').first().reset_index()\n",
    "\n",
    "df_approved['In the Approved List?'] = 'Yes'"
   ]
  },
  {
   "cell_type": "markdown",
   "id": "collective-drinking",
   "metadata": {},
   "source": [
    "<a id='AddDataColumns'></a>\n",
    "## Calculate and join additional fields\n"
   ]
  },
  {
   "cell_type": "code",
   "execution_count": 44,
   "id": "lovely-flush",
   "metadata": {},
   "outputs": [],
   "source": [
    "#this logic needs to consider the programming list\n",
    "df_Minor_raw_data['Section'] = df_Minor_raw_data['Section In Use']\n",
    "\n",
    "df_Minor_raw_data['Unique EA'] = df_Minor_raw_data.apply(uf.calc_unique_EA, axis = 1)\n",
    "\n",
    "df_Minor_raw_data['FY In Use'] = df_Minor_raw_data['FY.2'].str[-2:]"
   ]
  },
  {
   "cell_type": "code",
   "execution_count": null,
   "id": "fitting-tactics",
   "metadata": {},
   "outputs": [],
   "source": []
  },
  {
   "cell_type": "code",
   "execution_count": 45,
   "id": "animated-water",
   "metadata": {},
   "outputs": [
    {
     "name": "stdout",
     "output_type": "stream",
     "text": [
      "(15245, 25)\n",
      "(1020, 25)\n"
     ]
    }
   ],
   "source": [
    "#filter data to keep Minor program and active section only.\n",
    "# df_Programming_Summary\n",
    "print(df_Programming_Summary.shape)\n",
    "df_Programming_Summary_filtered = pd.merge(df_Programming_Summary, df_Minor_raw_data[['AMT_ID','Section',]],\n",
    "               how= 'inner', left_on = ['AMT_ID','Section',], right_on = ['AMT_ID','Section',])\n",
    "print(df_Programming_Summary_filtered.shape)"
   ]
  },
  {
   "cell_type": "code",
   "execution_count": 46,
   "id": "accepted-village",
   "metadata": {},
   "outputs": [
    {
     "name": "stdout",
     "output_type": "stream",
     "text": [
      "(1020, 25)\n",
      "(1020, 32)\n"
     ]
    }
   ],
   "source": [
    "print(df_Programming_Summary_filtered.shape)\n",
    "df_Programming_Summary_filtered = pd.merge(df_Programming_Summary_filtered, df_approved,\n",
    "               how= 'left', left_on = ['EFIS'], right_on = ['EFIS'],\n",
    "               suffixes=['','_ApprovedList'])\n",
    "print(df_Programming_Summary_filtered.shape)\n",
    "df_Programming_Summary_filtered['In the Approved List?'].fillna('No', inplace=True)"
   ]
  },
  {
   "cell_type": "code",
   "execution_count": 47,
   "id": "miniature-incident",
   "metadata": {},
   "outputs": [],
   "source": [
    "ck_col = 'Matches Minor Approved List Performance Measure?'\n",
    "\n",
    "def ck_performance_measure(df):\n",
    "    if pd.isna(df['Performance Measure_ApprovedList']):\n",
    "        return 'Not in the Approved Lists'\n",
    "    else:\n",
    "        if df['Performance Measure_ApprovedList'] == df['Performance Measure']:\n",
    "            return 'Yes'\n",
    "        else:\n",
    "            return 'No'\n",
    "\n",
    "df_Programming_Summary_filtered[ck_col]= df_Programming_Summary_filtered.apply(ck_performance_measure, axis = 1)"
   ]
  },
  {
   "cell_type": "code",
   "execution_count": 48,
   "id": "engaged-rouge",
   "metadata": {},
   "outputs": [],
   "source": [
    "\n",
    "ck_col = 'Matches Minor Approved List Performance Value?'\n",
    "def ck_performance_value(df):\n",
    "    if pd.isna(df['Performance Value_ApprovedList']):\n",
    "        return 'Not in the Approved Lists'\n",
    "    else:\n",
    "        if df['Performance Value_ApprovedList'] == df['Performance Value']:\n",
    "            return 'Yes'\n",
    "        else:\n",
    "            return 'No'\n",
    "\n",
    "df_Programming_Summary_filtered[ck_col]= df_Programming_Summary_filtered.apply(ck_performance_value, axis = 1)"
   ]
  },
  {
   "cell_type": "code",
   "execution_count": 49,
   "id": "parallel-talent",
   "metadata": {},
   "outputs": [],
   "source": [
    "ck_col = 'Matches Minor Approved List Performance Value and Measure?'\n",
    "def ck_performance(df):\n",
    "    if df['Matches Minor Approved List Performance Value?'] == 'Not in the Approved Lists':\n",
    "        return 'Not in the Approved Lists'\n",
    "    elif (df['Matches Minor Approved List Performance Value?'] == 'Yes') and (df['Matches Minor Approved List Performance Measure?'] == 'Yes'):\n",
    "        return 'Yes'\n",
    "    else:\n",
    "        return 'No'\n",
    "    \n",
    "\n",
    "df_Programming_Summary_filtered[ck_col]= df_Programming_Summary_filtered.apply(ck_performance, axis = 1)"
   ]
  },
  {
   "cell_type": "code",
   "execution_count": null,
   "id": "induced-truth",
   "metadata": {},
   "outputs": [],
   "source": []
  },
  {
   "cell_type": "code",
   "execution_count": null,
   "id": "accredited-oklahoma",
   "metadata": {},
   "outputs": [],
   "source": []
  },
  {
   "cell_type": "markdown",
   "id": "responsible-nitrogen",
   "metadata": {},
   "source": [
    "# Check Minor Data"
   ]
  },
  {
   "cell_type": "code",
   "execution_count": 50,
   "id": "hindu-celtic",
   "metadata": {},
   "outputs": [],
   "source": [
    "df_Minor_raw_data['Program Code in Use'] = df_Minor_raw_data.apply(lambda x: x['Program Code'] if x['Section In Use'] == 'WP' else x['Program Code.1'], axis = 1)\n",
    "\n",
    "df_Minor_raw_data['Const Capital in Use'] = df_Minor_raw_data.apply(lambda x: x['Construction Capital ($K)'] if x['Section In Use'] == 'WP' else x['Total Capital Project Cost ($K)'], axis = 1)"
   ]
  },
  {
   "cell_type": "code",
   "execution_count": 51,
   "id": "geographic-panel",
   "metadata": {},
   "outputs": [],
   "source": [
    "#question answered: we focus on checking the data only in the Section in Use"
   ]
  },
  {
   "cell_type": "code",
   "execution_count": 52,
   "id": "attended-definition",
   "metadata": {},
   "outputs": [],
   "source": [
    "# df_Minor_raw_data_backup = df_Minor_raw_data.copy()\n",
    "\n",
    "# df_Minor_raw_data = df_Minor_raw_data_backup"
   ]
  },
  {
   "cell_type": "code",
   "execution_count": 53,
   "id": "through-bristol",
   "metadata": {},
   "outputs": [
    {
     "name": "stdout",
     "output_type": "stream",
     "text": [
      "(1263, 83)\n",
      "(1263, 88)\n"
     ]
    }
   ],
   "source": [
    "print(df_Minor_raw_data.shape)\n",
    "\n",
    "df_Minor_raw_data = pd.merge(df_Minor_raw_data, df_approved[['EFIS','EA','In the Approved List?','Approve Year','Program Code','Construction Capital Cost ($K)' ]],\n",
    "                            how = 'left', left_on = 'EFIS', right_on = 'EFIS', suffixes=['','_ApprovedList'])\n",
    "\n",
    "print(df_Minor_raw_data.shape)\n",
    "\n",
    "df_Minor_raw_data['In the Approved List?'].fillna('No', inplace= True)\n"
   ]
  },
  {
   "cell_type": "code",
   "execution_count": 54,
   "id": "extensive-wealth",
   "metadata": {},
   "outputs": [],
   "source": [
    "# df_Minor_raw_data.columns"
   ]
  },
  {
   "cell_type": "code",
   "execution_count": 55,
   "id": "paperback-offering",
   "metadata": {},
   "outputs": [],
   "source": [
    "def ck_match_2022_approved_list(df):\n",
    "    if df['In the Approved List?'] == 'Yes' and df['Approve Year'] == 22:\n",
    "        if df['FY In Use'] == 22:\n",
    "            return 'OK'\n",
    "        else:\n",
    "            return r'The FY {} does not match Approved year {}'.format(df['FY In Use'], df['Approve Year'])\n",
    "    else:\n",
    "        return 'Not in the 2022 Approved list'\n",
    "\n",
    "ck_col = 'FY Matches 2022 List?'\n",
    "df_Minor_raw_data[ck_col] = df_Minor_raw_data.apply(ck_match_2022_approved_list, axis = 1)"
   ]
  },
  {
   "cell_type": "code",
   "execution_count": null,
   "id": "widespread-begin",
   "metadata": {},
   "outputs": [],
   "source": []
  },
  {
   "cell_type": "code",
   "execution_count": null,
   "id": "compact-sensitivity",
   "metadata": {},
   "outputs": [],
   "source": []
  },
  {
   "cell_type": "code",
   "execution_count": null,
   "id": "israeli-active",
   "metadata": {},
   "outputs": [],
   "source": []
  },
  {
   "cell_type": "markdown",
   "id": "binding-improvement",
   "metadata": {},
   "source": [
    "### is EFIS duplicate within Minor raw data?"
   ]
  },
  {
   "cell_type": "code",
   "execution_count": 56,
   "id": "complimentary-platinum",
   "metadata": {},
   "outputs": [],
   "source": [
    "# temp = df_Minor_raw_data.groupby(['EFIS'])['AMT_ID'].nunique().reset_index(name = 'EFIS_Counts')\n",
    "# duplicated_EFIS= temp[temp['EFIS_Counts']> 1]\n",
    "\n",
    "# df_Minor_raw_data.drop(columns=['EFIS_Counts'],inplace=True , errors='ignore')\n",
    "# print(df_Minor_raw_data.shape)\n",
    "# df_Minor_raw_data = pd.merge(df_Minor_raw_data, duplicated_EFIS, \n",
    "#                              how = 'left', left_on = ['EFIS'], right_on=['EFIS'])\n",
    "# print(df_Minor_raw_data.shape)\n",
    "\n",
    "# def ck_EFIS_Uniqueness(df):\n",
    "#     if pd.isna(df['EFIS_Counts']):\n",
    "#         return 'OK'\n",
    "#     elif df['EFIS'] == 0: \n",
    "#         return 'Missing/Invalid EFIS'\n",
    "#     else:\n",
    "#         return 'Duplicate EFIS'\n",
    "    \n",
    "# df_Minor_raw_data['EFIS Uniqueness Check'] = df_Minor_raw_data.apply(ck_EFIS_Uniqueness, axis = 1)"
   ]
  },
  {
   "cell_type": "code",
   "execution_count": 57,
   "id": "linear-afghanistan",
   "metadata": {},
   "outputs": [
    {
     "name": "stdout",
     "output_type": "stream",
     "text": [
      "(1263, 89)\n",
      "(1263, 92)\n"
     ]
    }
   ],
   "source": [
    "temp = df_Minor_raw_data.groupby(['EFIS'])['AMT_ID'].agg([pd.Series.nunique, list]).reset_index()\n",
    "temp['AMT_IDs'] = temp['list'].apply(lambda l: ','.join(l))\n",
    "duplicated_EFIS= temp[temp['nunique']> 1]\n",
    "\n",
    "df_Minor_raw_data.drop(columns=['nunique','AMT_IDs'],inplace=True , errors='ignore')\n",
    "print(df_Minor_raw_data.shape)\n",
    "df_Minor_raw_data = pd.merge(df_Minor_raw_data, duplicated_EFIS, \n",
    "                             how = 'left', left_on = ['EFIS'], right_on=['EFIS'])\n",
    "print(df_Minor_raw_data.shape)\n",
    "\n",
    "def ck_EFIS_Uniqueness(df):\n",
    "    if pd.isna(df['nunique']):\n",
    "        return 'OK'\n",
    "    elif df['EFIS'] == 0: \n",
    "        return 'Missing/Invalid EFIS'\n",
    "    else:\n",
    "        return 'Duplicate EFIS {} is found in the following projects: {}'.format(df['EFIS'], df['AMT_IDs'])\n",
    "    \n",
    "df_Minor_raw_data['EFIS Uniqueness Check'] = df_Minor_raw_data.apply(ck_EFIS_Uniqueness, axis = 1)"
   ]
  },
  {
   "cell_type": "code",
   "execution_count": 58,
   "id": "exact-nomination",
   "metadata": {},
   "outputs": [],
   "source": [
    "# df_Minor_raw_data['EFIS'].value_counts()"
   ]
  },
  {
   "cell_type": "code",
   "execution_count": 59,
   "id": "instructional-tulsa",
   "metadata": {},
   "outputs": [],
   "source": [
    "# df_Minor_raw_data['EFIS Uniqueness Check'].value_counts()"
   ]
  },
  {
   "cell_type": "code",
   "execution_count": 60,
   "id": "collectible-memorabilia",
   "metadata": {},
   "outputs": [],
   "source": [
    "# df_Minor_raw_data['EA']"
   ]
  },
  {
   "cell_type": "code",
   "execution_count": 61,
   "id": "improving-function",
   "metadata": {},
   "outputs": [],
   "source": [
    "# #flag if EFIS is invalid\n",
    "# def ck_invalid_EFIS(df):\n",
    "#     if len(str(EFIS)) < 5: \n",
    "#         return 'Invalid EFIS'\n",
    "#     else:\n",
    "#         return 'OK'\n",
    "# df_Minor_raw_data['EFIS is valid?'] = df_Minor_raw_data['EFIS'].apply(ck_invalid_EFIS)"
   ]
  },
  {
   "cell_type": "code",
   "execution_count": 62,
   "id": "concrete-composition",
   "metadata": {},
   "outputs": [],
   "source": [
    "# df_Minor_raw_data.columns"
   ]
  },
  {
   "cell_type": "markdown",
   "id": "overall-worst",
   "metadata": {},
   "source": [
    "### flag if District + EA duplicate within Minor raw data"
   ]
  },
  {
   "cell_type": "code",
   "execution_count": 63,
   "id": "recovered-section",
   "metadata": {},
   "outputs": [],
   "source": [
    "temp = df_Minor_raw_data.groupby(['Unique EA'])['AMT_ID'].nunique().reset_index(name = 'UnqiueEA_Counts')\n",
    "duplicated_EA= temp[temp['UnqiueEA_Counts']> 1]\n",
    "\n",
    "df_Minor_raw_data.drop(columns=['UnqiueEA_Counts'],inplace=True , errors='ignore')\n",
    "\n",
    "df_Minor_raw_data = pd.merge(df_Minor_raw_data, duplicated_EA[['Unique EA','UnqiueEA_Counts']].drop_duplicates(), \n",
    "                             how = 'left', left_on = ['Unique EA'], right_on=['Unique EA'])\n",
    "\n",
    "def ck_EA_Uniqueness(df):\n",
    "    if pd.isna(df['UnqiueEA_Counts']):\n",
    "        return 'OK'\n",
    "    else:\n",
    "        return 'Duplicate District+EA is found.'\n",
    "    \n",
    "df_Minor_raw_data['EA Uniqueness Check'] = df_Minor_raw_data.apply(ck_EA_Uniqueness, axis = 1)"
   ]
  },
  {
   "cell_type": "code",
   "execution_count": null,
   "id": "advanced-carter",
   "metadata": {},
   "outputs": [],
   "source": []
  },
  {
   "cell_type": "code",
   "execution_count": 64,
   "id": "joint-defense",
   "metadata": {},
   "outputs": [],
   "source": [
    "ck_col = 'Does Project have a Repeated EA or Project ID repeated in Minor Profile?'\n",
    "\n",
    "def ck_ID_Uniqueness(df):\n",
    "    if df['EA Uniqueness Check'] == 'OK' and df['EA Uniqueness Check'] == 'OK':\n",
    "        return 'OK'\n",
    "    else:\n",
    "        return 'Duplicate District+EA and/or Project ID(EFIS) is found.'\n",
    "    \n",
    "df_Minor_raw_data[ck_col] = df_Minor_raw_data.apply(ck_ID_Uniqueness, axis=1 )"
   ]
  },
  {
   "cell_type": "code",
   "execution_count": null,
   "id": "partial-pound",
   "metadata": {},
   "outputs": [],
   "source": []
  },
  {
   "cell_type": "code",
   "execution_count": 65,
   "id": "western-wichita",
   "metadata": {},
   "outputs": [],
   "source": [
    "# Does FY Need Updates?\n",
    "\n",
    "def ck_FY_consistancy(df):\n",
    "    if df['In the Approved List?'] == 'Yes':\n",
    "        if df['FY In Use'] == df['Approve Year']:\n",
    "            return 'OK'\n",
    "        else:\n",
    "            return 'Please update FY. It is in the {} Approved List'.format(df['Approve Year'])\n",
    "    else:\n",
    "        return 'OK'\n",
    "    \n",
    "df_Minor_raw_data['Does FY Need Updates?'] = df_Minor_raw_data.apply(ck_FY_consistancy, axis = 1)\n"
   ]
  },
  {
   "cell_type": "code",
   "execution_count": 66,
   "id": "intelligent-bridge",
   "metadata": {},
   "outputs": [],
   "source": [
    "# Does EA Need Updates?\n",
    "\n",
    "def ck_EA_consistancy(df):\n",
    "    \n",
    "    if df['EA'] == df['EA_ApprovedList']:\n",
    "        return 'OK'\n",
    "    else:\n",
    "        return 'Update EA. It does not match EA in Approved List of year {}'.format(df['Approve Year'])\n",
    "    \n",
    "df_Minor_raw_data['Does EA Need Updates?'] = df_Minor_raw_data.apply(ck_EA_consistancy, axis = 1)"
   ]
  },
  {
   "cell_type": "code",
   "execution_count": 67,
   "id": "surgical-artwork",
   "metadata": {},
   "outputs": [],
   "source": [
    "#Does Program Code Need Updates?\n",
    "\n",
    "ck_col = 'Does Program Code Need Updates?'\n",
    "\n",
    "def ck_program_code_update(df):\n",
    "    if pd.isna(df['Program Code_ApprovedList']) or (df['Program Code in Use'] == df['Program Code_ApprovedList']):\n",
    "        return 'OK'\n",
    "    else:\n",
    "        return 'The program code for Section In Use does not match Approved project list.'\n",
    "\n",
    "df_Minor_raw_data[ck_col] = df_Minor_raw_data.apply(ck_program_code_update, axis = 1)"
   ]
  },
  {
   "cell_type": "code",
   "execution_count": 68,
   "id": "smooth-jaguar",
   "metadata": {},
   "outputs": [],
   "source": [
    "# ck_col = 'Does Program Code Need Updates?'\n",
    "# df_Minor_raw_data[ck_col].value_counts()"
   ]
  },
  {
   "cell_type": "code",
   "execution_count": 69,
   "id": "comfortable-happening",
   "metadata": {},
   "outputs": [],
   "source": [
    "# df_Activity_CrossWalk['Activity Category'].unique()"
   ]
  },
  {
   "cell_type": "code",
   "execution_count": 70,
   "id": "specialized-exhaust",
   "metadata": {},
   "outputs": [],
   "source": [
    "# for a in df_Activity_CrossWalk['Activity Category'].unique():\n",
    "#     if a not in df_Minor_perf_raw_data['Main Activity Category'].unique():\n",
    "#         print (a)"
   ]
  },
  {
   "cell_type": "code",
   "execution_count": 71,
   "id": "european-studio",
   "metadata": {},
   "outputs": [],
   "source": [
    "# for a in df_Minor_perf_raw_data['Main Activity Category'].unique():\n",
    "#     if a not in df_Activity_CrossWalk['Activity Category'].unique():\n",
    "#         print (a)"
   ]
  },
  {
   "cell_type": "code",
   "execution_count": 72,
   "id": "subject-missile",
   "metadata": {},
   "outputs": [],
   "source": [
    "df_Activity_CrossWalk['QualifiedActivity'] = 'Yes'\n",
    "\n",
    "temp = pd.merge(df_Minor_perf_raw_data, df_Activity_CrossWalk, \n",
    "         how='left', left_on=['Main Activity Category', 'ActID'], right_on=['Main Activity Category', 'ActID'])\n",
    "\n",
    "temp['QualifiedActivity'].fillna('No', inplace=True)\n",
    "\n",
    "temp = temp.groupby(['AMT_ID', 'Section'])['QualifiedActivity'].agg(list).reset_index()\n",
    "\n",
    "\n",
    "temp['Project Has Qualified Activity?'] = temp['QualifiedActivity'].apply(\n",
    "    lambda x: 'Yes' if 'Yes' in x else 'No'\n",
    ")"
   ]
  },
  {
   "cell_type": "code",
   "execution_count": 73,
   "id": "chronic-lesson",
   "metadata": {
    "collapsed": true
   },
   "outputs": [
    {
     "data": {
      "text/html": [
       "<div>\n",
       "<style scoped>\n",
       "    .dataframe tbody tr th:only-of-type {\n",
       "        vertical-align: middle;\n",
       "    }\n",
       "\n",
       "    .dataframe tbody tr th {\n",
       "        vertical-align: top;\n",
       "    }\n",
       "\n",
       "    .dataframe thead th {\n",
       "        text-align: right;\n",
       "    }\n",
       "</style>\n",
       "<table border=\"1\" class=\"dataframe\">\n",
       "  <thead>\n",
       "    <tr style=\"text-align: right;\">\n",
       "      <th></th>\n",
       "      <th>AMT_ID</th>\n",
       "      <th>Section</th>\n",
       "      <th>QualifiedActivity</th>\n",
       "      <th>Project Has Qualified Activity?</th>\n",
       "    </tr>\n",
       "  </thead>\n",
       "  <tbody>\n",
       "    <tr>\n",
       "      <th>0</th>\n",
       "      <td>MA000001</td>\n",
       "      <td>ALN</td>\n",
       "      <td>[Yes, Yes]</td>\n",
       "      <td>Yes</td>\n",
       "    </tr>\n",
       "    <tr>\n",
       "      <th>1</th>\n",
       "      <td>MA000001</td>\n",
       "      <td>WP</td>\n",
       "      <td>[Yes, Yes]</td>\n",
       "      <td>Yes</td>\n",
       "    </tr>\n",
       "    <tr>\n",
       "      <th>2</th>\n",
       "      <td>MA000002</td>\n",
       "      <td>ALN</td>\n",
       "      <td>[No]</td>\n",
       "      <td>No</td>\n",
       "    </tr>\n",
       "    <tr>\n",
       "      <th>3</th>\n",
       "      <td>MA000002</td>\n",
       "      <td>WP</td>\n",
       "      <td>[Yes, Yes]</td>\n",
       "      <td>Yes</td>\n",
       "    </tr>\n",
       "    <tr>\n",
       "      <th>4</th>\n",
       "      <td>MA000003</td>\n",
       "      <td>ALN</td>\n",
       "      <td>[Yes, No]</td>\n",
       "      <td>Yes</td>\n",
       "    </tr>\n",
       "  </tbody>\n",
       "</table>\n",
       "</div>"
      ],
      "text/plain": [
       "     AMT_ID Section QualifiedActivity Project Has Qualified Activity?\n",
       "0  MA000001     ALN        [Yes, Yes]                             Yes\n",
       "1  MA000001      WP        [Yes, Yes]                             Yes\n",
       "2  MA000002     ALN              [No]                              No\n",
       "3  MA000002      WP        [Yes, Yes]                             Yes\n",
       "4  MA000003     ALN         [Yes, No]                             Yes"
      ]
     },
     "execution_count": 73,
     "metadata": {},
     "output_type": "execute_result"
    }
   ],
   "source": []
  },
  {
   "cell_type": "code",
   "execution_count": 74,
   "id": "respiratory-surfing",
   "metadata": {
    "collapsed": true
   },
   "outputs": [
    {
     "data": {
      "text/plain": [
       "Index(['Status', 'AMT_ID', 'Minor', 'EFIS', 'EA', 'District', 'County',\n",
       "       'Route', 'Begin PM', 'End PM', 'Multiple Location', 'Program Code',\n",
       "       'Activity Category', 'Minor Activity', 'FCO Only', 'Planned RTL Date',\n",
       "       'FY_WP', 'PA&ED, PS&E, R/W Sup', 'Const Eng Sup ($K)',\n",
       "       'R/W Capital ($K)', 'Construction Capital ($K)',\n",
       "       'Total Project Cost ($K)', 'Prog Appr Date_WP', 'Combine',\n",
       "       'Project Location/Description', 'Comments', 'Project ID.1', 'EA.1',\n",
       "       'District.1', 'County.1', 'Route.1', 'Begin PM.1', 'End PM.1',\n",
       "       'Program Code.1', 'Activity Category.1', 'Minor Activity.1',\n",
       "       'Coop Agreement', 'Actual RTL Date', 'FY_ALN', 'Allocation Date',\n",
       "       'Const Eng Sup', 'Const Cap state ($K)', 'Const Cap Fed ($K)',\n",
       "       'Total Capital Project Cost ($K)', 'Prog Appr Date_ALN', 'Fiscal Year',\n",
       "       'CTC Meeting', 'Resolution No', 'Rescission Date',\n",
       "       'Project Location/Description.1', 'Comments.1', 'Contract Approval',\n",
       "       'Federal Aid Project', 'Certified Small Business', 'Prime Contractor',\n",
       "       'Project Allotment ($K)', 'Federal Total ($K)',\n",
       "       'Small Business Amount ($K)', 'Prog Appr Date.1', '1st FY',\n",
       "       '1st Removal Date', '2nd FY', '2nd Removal Date', '3rd FY',\n",
       "       '3rd Removal Date', '4th FY', '4th Removal Date', '5th FY',\n",
       "       '5th Removal Date', '6th FY', '6th Removal Date', 'No of Workplans',\n",
       "       'Comments.2', 'Last Saved', 'Saved By', 'Section In Use', 'FY.2',\n",
       "       'Project Cost In Use ($K)', 'Section', 'Unique EA', 'FY In Use',\n",
       "       'Program Code in Use', 'Const Capital in Use', 'EA_ApprovedList',\n",
       "       'In the Approved List?', 'Approve Year', 'Program Code_ApprovedList',\n",
       "       'Construction Capital Cost ($K)', 'FY Matches 2022 List?', 'nunique',\n",
       "       'list', 'AMT_IDs', 'EFIS Uniqueness Check', 'UnqiueEA_Counts',\n",
       "       'EA Uniqueness Check',\n",
       "       'Does Project have a Repeated EA or Project ID repeated in Minor Profile?',\n",
       "       'Does FY Need Updates?', 'Does EA Need Updates?',\n",
       "       'Does Program Code Need Updates?'],\n",
       "      dtype='object')"
      ]
     },
     "execution_count": 74,
     "metadata": {},
     "output_type": "execute_result"
    }
   ],
   "source": [
    "df_Minor_raw_data.columns"
   ]
  },
  {
   "cell_type": "code",
   "execution_count": 75,
   "id": "overall-amazon",
   "metadata": {},
   "outputs": [
    {
     "name": "stdout",
     "output_type": "stream",
     "text": [
      "(1263, 99)\n",
      "(1263, 100)\n"
     ]
    }
   ],
   "source": [
    "print(df_Minor_raw_data.shape)\n",
    "df_Minor_raw_data = pd.merge(df_Minor_raw_data, temp[['AMT_ID', 'Section', 'Project Has Qualified Activity?']], \n",
    "         how='left', left_on=['AMT_ID', 'Section'], right_on=['AMT_ID', 'Section'])\n",
    "print(df_Minor_raw_data.shape)"
   ]
  },
  {
   "cell_type": "code",
   "execution_count": 76,
   "id": "retained-inventory",
   "metadata": {},
   "outputs": [],
   "source": []
  },
  {
   "cell_type": "code",
   "execution_count": 77,
   "id": "injured-impossible",
   "metadata": {
    "collapsed": true
   },
   "outputs": [
    {
     "data": {
      "text/html": [
       "<div>\n",
       "<style scoped>\n",
       "    .dataframe tbody tr th:only-of-type {\n",
       "        vertical-align: middle;\n",
       "    }\n",
       "\n",
       "    .dataframe tbody tr th {\n",
       "        vertical-align: top;\n",
       "    }\n",
       "\n",
       "    .dataframe thead th {\n",
       "        text-align: right;\n",
       "    }\n",
       "</style>\n",
       "<table border=\"1\" class=\"dataframe\">\n",
       "  <thead>\n",
       "    <tr style=\"text-align: right;\">\n",
       "      <th></th>\n",
       "      <th>Status</th>\n",
       "      <th>AMT_ID</th>\n",
       "      <th>Minor</th>\n",
       "      <th>EFIS</th>\n",
       "      <th>EA</th>\n",
       "      <th>District</th>\n",
       "      <th>County</th>\n",
       "      <th>Route</th>\n",
       "      <th>Begin PM</th>\n",
       "      <th>End PM</th>\n",
       "      <th>Multiple Location</th>\n",
       "      <th>Program Code</th>\n",
       "      <th>Activity Category</th>\n",
       "      <th>Minor Activity</th>\n",
       "      <th>FCO Only</th>\n",
       "      <th>Planned RTL Date</th>\n",
       "      <th>FY_WP</th>\n",
       "      <th>PA&amp;ED, PS&amp;E, R/W Sup</th>\n",
       "      <th>Const Eng Sup ($K)</th>\n",
       "      <th>R/W Capital ($K)</th>\n",
       "      <th>Construction Capital ($K)</th>\n",
       "      <th>Total Project Cost ($K)</th>\n",
       "      <th>Prog Appr Date_WP</th>\n",
       "      <th>Combine</th>\n",
       "      <th>Project Location/Description</th>\n",
       "      <th>Comments</th>\n",
       "      <th>Project ID.1</th>\n",
       "      <th>EA.1</th>\n",
       "      <th>District.1</th>\n",
       "      <th>County.1</th>\n",
       "      <th>Route.1</th>\n",
       "      <th>Begin PM.1</th>\n",
       "      <th>End PM.1</th>\n",
       "      <th>Program Code.1</th>\n",
       "      <th>Activity Category.1</th>\n",
       "      <th>Minor Activity.1</th>\n",
       "      <th>Coop Agreement</th>\n",
       "      <th>Actual RTL Date</th>\n",
       "      <th>FY_ALN</th>\n",
       "      <th>Allocation Date</th>\n",
       "      <th>Const Eng Sup</th>\n",
       "      <th>Const Cap state ($K)</th>\n",
       "      <th>Const Cap Fed ($K)</th>\n",
       "      <th>Total Capital Project Cost ($K)</th>\n",
       "      <th>Prog Appr Date_ALN</th>\n",
       "      <th>Fiscal Year</th>\n",
       "      <th>CTC Meeting</th>\n",
       "      <th>Resolution No</th>\n",
       "      <th>Rescission Date</th>\n",
       "      <th>Project Location/Description.1</th>\n",
       "      <th>Comments.1</th>\n",
       "      <th>Contract Approval</th>\n",
       "      <th>Federal Aid Project</th>\n",
       "      <th>Certified Small Business</th>\n",
       "      <th>Prime Contractor</th>\n",
       "      <th>Project Allotment ($K)</th>\n",
       "      <th>Federal Total ($K)</th>\n",
       "      <th>Small Business Amount ($K)</th>\n",
       "      <th>Prog Appr Date.1</th>\n",
       "      <th>1st FY</th>\n",
       "      <th>1st Removal Date</th>\n",
       "      <th>2nd FY</th>\n",
       "      <th>2nd Removal Date</th>\n",
       "      <th>3rd FY</th>\n",
       "      <th>3rd Removal Date</th>\n",
       "      <th>4th FY</th>\n",
       "      <th>4th Removal Date</th>\n",
       "      <th>5th FY</th>\n",
       "      <th>5th Removal Date</th>\n",
       "      <th>6th FY</th>\n",
       "      <th>6th Removal Date</th>\n",
       "      <th>No of Workplans</th>\n",
       "      <th>Comments.2</th>\n",
       "      <th>Last Saved</th>\n",
       "      <th>Saved By</th>\n",
       "      <th>Section In Use</th>\n",
       "      <th>FY.2</th>\n",
       "      <th>Project Cost In Use ($K)</th>\n",
       "      <th>Section</th>\n",
       "      <th>Unique EA</th>\n",
       "      <th>FY In Use</th>\n",
       "      <th>Program Code in Use</th>\n",
       "      <th>Const Capital in Use</th>\n",
       "      <th>EA_ApprovedList</th>\n",
       "      <th>In the Approved List?</th>\n",
       "      <th>Approve Year</th>\n",
       "      <th>Program Code_ApprovedList</th>\n",
       "      <th>Construction Capital Cost ($K)</th>\n",
       "      <th>FY Matches 2022 List?</th>\n",
       "      <th>nunique</th>\n",
       "      <th>list</th>\n",
       "      <th>AMT_IDs</th>\n",
       "      <th>EFIS Uniqueness Check</th>\n",
       "      <th>UnqiueEA_Counts</th>\n",
       "      <th>EA Uniqueness Check</th>\n",
       "      <th>Does Project have a Repeated EA or Project ID repeated in Minor Profile?</th>\n",
       "      <th>Does FY Need Updates?</th>\n",
       "      <th>Does EA Need Updates?</th>\n",
       "      <th>Does Program Code Need Updates?</th>\n",
       "      <th>Project Has Qualified Activity?</th>\n",
       "    </tr>\n",
       "  </thead>\n",
       "  <tbody>\n",
       "    <tr>\n",
       "      <th>0</th>\n",
       "      <td>Active</td>\n",
       "      <td>MA000001</td>\n",
       "      <td>A</td>\n",
       "      <td>113000078.0</td>\n",
       "      <td>0C930</td>\n",
       "      <td>1</td>\n",
       "      <td>HUM</td>\n",
       "      <td>'101</td>\n",
       "      <td>79.9</td>\n",
       "      <td>84.9</td>\n",
       "      <td>No</td>\n",
       "      <td>201.151</td>\n",
       "      <td>Drainage</td>\n",
       "      <td>NaN</td>\n",
       "      <td>NaN</td>\n",
       "      <td>01/01/00</td>\n",
       "      <td>2019/20</td>\n",
       "      <td>0.0</td>\n",
       "      <td>0.0</td>\n",
       "      <td>25.0</td>\n",
       "      <td>909.0</td>\n",
       "      <td>934.0</td>\n",
       "      <td>06/30/20</td>\n",
       "      <td>NaN</td>\n",
       "      <td>In Humboldt County, in and near Eureka and Arc...</td>\n",
       "      <td>NaN</td>\n",
       "      <td>113000078.0</td>\n",
       "      <td>0C930</td>\n",
       "      <td>'01</td>\n",
       "      <td>HUM</td>\n",
       "      <td>101.0</td>\n",
       "      <td>79.9</td>\n",
       "      <td>84.9</td>\n",
       "      <td>201.151</td>\n",
       "      <td>Drainage</td>\n",
       "      <td>NaN</td>\n",
       "      <td>NaN</td>\n",
       "      <td>06/30/20</td>\n",
       "      <td>2019/20</td>\n",
       "      <td>06/30/20</td>\n",
       "      <td>0.0</td>\n",
       "      <td>652.0</td>\n",
       "      <td>0.0</td>\n",
       "      <td>652.0</td>\n",
       "      <td>06/30/20</td>\n",
       "      <td>2019/20</td>\n",
       "      <td>Jun 2020</td>\n",
       "      <td>NaN</td>\n",
       "      <td>01/01/00</td>\n",
       "      <td>In Humboldt County, in and near Eureka and Arc...</td>\n",
       "      <td>NaN</td>\n",
       "      <td>06/30/20</td>\n",
       "      <td>NaN</td>\n",
       "      <td>NaN</td>\n",
       "      <td>NaN</td>\n",
       "      <td>496.5</td>\n",
       "      <td>0.0</td>\n",
       "      <td>0.0</td>\n",
       "      <td>01/01/00</td>\n",
       "      <td>NaN</td>\n",
       "      <td>01/01/00</td>\n",
       "      <td>NaN</td>\n",
       "      <td>NaN</td>\n",
       "      <td>NaN</td>\n",
       "      <td>NaN</td>\n",
       "      <td>NaN</td>\n",
       "      <td>NaN</td>\n",
       "      <td>NaN</td>\n",
       "      <td>NaN</td>\n",
       "      <td>NaN</td>\n",
       "      <td>NaN</td>\n",
       "      <td>0.0</td>\n",
       "      <td>NaN</td>\n",
       "      <td>04/22/20</td>\n",
       "      <td>Mara Chaudhari</td>\n",
       "      <td>ALN</td>\n",
       "      <td>2019/20</td>\n",
       "      <td>652.0</td>\n",
       "      <td>ALN</td>\n",
       "      <td>1_0C930</td>\n",
       "      <td>20</td>\n",
       "      <td>201.151</td>\n",
       "      <td>652.0</td>\n",
       "      <td>NaN</td>\n",
       "      <td>No</td>\n",
       "      <td>NaN</td>\n",
       "      <td>NaN</td>\n",
       "      <td>NaN</td>\n",
       "      <td>Not in the 2022 Approved list</td>\n",
       "      <td>NaN</td>\n",
       "      <td>NaN</td>\n",
       "      <td>NaN</td>\n",
       "      <td>OK</td>\n",
       "      <td>NaN</td>\n",
       "      <td>OK</td>\n",
       "      <td>OK</td>\n",
       "      <td>OK</td>\n",
       "      <td>Update EA. It does not match EA in Approved Li...</td>\n",
       "      <td>OK</td>\n",
       "      <td>Yes</td>\n",
       "    </tr>\n",
       "    <tr>\n",
       "      <th>1</th>\n",
       "      <td>Active</td>\n",
       "      <td>MA000002</td>\n",
       "      <td>A</td>\n",
       "      <td>115000064.0</td>\n",
       "      <td>0F080</td>\n",
       "      <td>1</td>\n",
       "      <td>HUM</td>\n",
       "      <td>'096</td>\n",
       "      <td>22.9</td>\n",
       "      <td>22.9</td>\n",
       "      <td>No</td>\n",
       "      <td>201.015</td>\n",
       "      <td>Safety - Collision Reduction</td>\n",
       "      <td>NaN</td>\n",
       "      <td>NaN</td>\n",
       "      <td>01/01/00</td>\n",
       "      <td>2019/20</td>\n",
       "      <td>0.0</td>\n",
       "      <td>0.0</td>\n",
       "      <td>5.0</td>\n",
       "      <td>1103.0</td>\n",
       "      <td>1108.0</td>\n",
       "      <td>06/30/20</td>\n",
       "      <td>NaN</td>\n",
       "      <td>In Humboldt County, in Weitchpec at Pearson La...</td>\n",
       "      <td>NaN</td>\n",
       "      <td>115000064.0</td>\n",
       "      <td>0F080</td>\n",
       "      <td>'01</td>\n",
       "      <td>HUM</td>\n",
       "      <td>96.0</td>\n",
       "      <td>22.9</td>\n",
       "      <td>22.9</td>\n",
       "      <td>201.015</td>\n",
       "      <td>Safety - Collision Reduction</td>\n",
       "      <td>NaN</td>\n",
       "      <td>NaN</td>\n",
       "      <td>06/30/20</td>\n",
       "      <td>2019/20</td>\n",
       "      <td>06/30/20</td>\n",
       "      <td>0.0</td>\n",
       "      <td>1186.0</td>\n",
       "      <td>0.0</td>\n",
       "      <td>1186.0</td>\n",
       "      <td>06/30/20</td>\n",
       "      <td>2019/20</td>\n",
       "      <td>Jun 2020</td>\n",
       "      <td>NaN</td>\n",
       "      <td>01/01/00</td>\n",
       "      <td>In Humboldt County, in Weitchpec at Pearson La...</td>\n",
       "      <td>NaN</td>\n",
       "      <td>06/30/20</td>\n",
       "      <td>NaN</td>\n",
       "      <td>NaN</td>\n",
       "      <td>NaN</td>\n",
       "      <td>1340.0</td>\n",
       "      <td>0.0</td>\n",
       "      <td>0.0</td>\n",
       "      <td>01/01/00</td>\n",
       "      <td>NaN</td>\n",
       "      <td>01/01/00</td>\n",
       "      <td>NaN</td>\n",
       "      <td>NaN</td>\n",
       "      <td>NaN</td>\n",
       "      <td>NaN</td>\n",
       "      <td>NaN</td>\n",
       "      <td>NaN</td>\n",
       "      <td>NaN</td>\n",
       "      <td>NaN</td>\n",
       "      <td>NaN</td>\n",
       "      <td>NaN</td>\n",
       "      <td>0.0</td>\n",
       "      <td>NaN</td>\n",
       "      <td>09/10/19</td>\n",
       "      <td>Graciela Vasquez</td>\n",
       "      <td>ALN</td>\n",
       "      <td>2019/20</td>\n",
       "      <td>1186.0</td>\n",
       "      <td>ALN</td>\n",
       "      <td>1_0F080</td>\n",
       "      <td>20</td>\n",
       "      <td>201.015</td>\n",
       "      <td>1186.0</td>\n",
       "      <td>NaN</td>\n",
       "      <td>No</td>\n",
       "      <td>NaN</td>\n",
       "      <td>NaN</td>\n",
       "      <td>NaN</td>\n",
       "      <td>Not in the 2022 Approved list</td>\n",
       "      <td>NaN</td>\n",
       "      <td>NaN</td>\n",
       "      <td>NaN</td>\n",
       "      <td>OK</td>\n",
       "      <td>NaN</td>\n",
       "      <td>OK</td>\n",
       "      <td>OK</td>\n",
       "      <td>OK</td>\n",
       "      <td>Update EA. It does not match EA in Approved Li...</td>\n",
       "      <td>OK</td>\n",
       "      <td>No</td>\n",
       "    </tr>\n",
       "    <tr>\n",
       "      <th>2</th>\n",
       "      <td>Active</td>\n",
       "      <td>MA000003</td>\n",
       "      <td>A</td>\n",
       "      <td>118000146.0</td>\n",
       "      <td>0J010</td>\n",
       "      <td>1</td>\n",
       "      <td>MEN</td>\n",
       "      <td>'001</td>\n",
       "      <td>59.3</td>\n",
       "      <td>59.3</td>\n",
       "      <td>No</td>\n",
       "      <td>201.121</td>\n",
       "      <td>Pavement</td>\n",
       "      <td>NaN</td>\n",
       "      <td>NaN</td>\n",
       "      <td>01/01/00</td>\n",
       "      <td>2019/20</td>\n",
       "      <td>0.0</td>\n",
       "      <td>0.0</td>\n",
       "      <td>0.0</td>\n",
       "      <td>1050.0</td>\n",
       "      <td>1050.0</td>\n",
       "      <td>06/30/20</td>\n",
       "      <td>NaN</td>\n",
       "      <td>In Mendocino County, near Fort Bragg at Simpso...</td>\n",
       "      <td>NaN</td>\n",
       "      <td>118000146.0</td>\n",
       "      <td>0J010</td>\n",
       "      <td>'01</td>\n",
       "      <td>MEN</td>\n",
       "      <td>1.0</td>\n",
       "      <td>59.3</td>\n",
       "      <td>59.3</td>\n",
       "      <td>201.121</td>\n",
       "      <td>Pavement</td>\n",
       "      <td>NaN</td>\n",
       "      <td>NaN</td>\n",
       "      <td>06/30/20</td>\n",
       "      <td>2019/20</td>\n",
       "      <td>06/30/20</td>\n",
       "      <td>0.0</td>\n",
       "      <td>1136.0</td>\n",
       "      <td>0.0</td>\n",
       "      <td>1136.0</td>\n",
       "      <td>06/30/20</td>\n",
       "      <td>2019/20</td>\n",
       "      <td>Jun 2020</td>\n",
       "      <td>NaN</td>\n",
       "      <td>01/01/00</td>\n",
       "      <td>In Mendocino County, near Fort Bragg at Simpso...</td>\n",
       "      <td>NaN</td>\n",
       "      <td>06/30/20</td>\n",
       "      <td>NaN</td>\n",
       "      <td>NaN</td>\n",
       "      <td>NaN</td>\n",
       "      <td>1036.0</td>\n",
       "      <td>0.0</td>\n",
       "      <td>0.0</td>\n",
       "      <td>01/01/00</td>\n",
       "      <td>NaN</td>\n",
       "      <td>01/01/00</td>\n",
       "      <td>NaN</td>\n",
       "      <td>NaN</td>\n",
       "      <td>NaN</td>\n",
       "      <td>NaN</td>\n",
       "      <td>NaN</td>\n",
       "      <td>NaN</td>\n",
       "      <td>NaN</td>\n",
       "      <td>NaN</td>\n",
       "      <td>NaN</td>\n",
       "      <td>NaN</td>\n",
       "      <td>0.0</td>\n",
       "      <td>NaN</td>\n",
       "      <td>09/10/19</td>\n",
       "      <td>Graciela Vasquez</td>\n",
       "      <td>ALN</td>\n",
       "      <td>2019/20</td>\n",
       "      <td>1136.0</td>\n",
       "      <td>ALN</td>\n",
       "      <td>1_0J010</td>\n",
       "      <td>20</td>\n",
       "      <td>201.121</td>\n",
       "      <td>1136.0</td>\n",
       "      <td>NaN</td>\n",
       "      <td>No</td>\n",
       "      <td>NaN</td>\n",
       "      <td>NaN</td>\n",
       "      <td>NaN</td>\n",
       "      <td>Not in the 2022 Approved list</td>\n",
       "      <td>NaN</td>\n",
       "      <td>NaN</td>\n",
       "      <td>NaN</td>\n",
       "      <td>OK</td>\n",
       "      <td>NaN</td>\n",
       "      <td>OK</td>\n",
       "      <td>OK</td>\n",
       "      <td>OK</td>\n",
       "      <td>Update EA. It does not match EA in Approved Li...</td>\n",
       "      <td>OK</td>\n",
       "      <td>Yes</td>\n",
       "    </tr>\n",
       "    <tr>\n",
       "      <th>3</th>\n",
       "      <td>Active</td>\n",
       "      <td>MA000004</td>\n",
       "      <td>A</td>\n",
       "      <td>215000006.0</td>\n",
       "      <td>0H390</td>\n",
       "      <td>2</td>\n",
       "      <td>TEH</td>\n",
       "      <td>'036</td>\n",
       "      <td>87</td>\n",
       "      <td>87.8</td>\n",
       "      <td>No</td>\n",
       "      <td>201.315</td>\n",
       "      <td>Mobility - TMS</td>\n",
       "      <td>NaN</td>\n",
       "      <td>NaN</td>\n",
       "      <td>03/13/19</td>\n",
       "      <td>2019/20</td>\n",
       "      <td>320.0</td>\n",
       "      <td>0.0</td>\n",
       "      <td>98.0</td>\n",
       "      <td>719.0</td>\n",
       "      <td>1137.0</td>\n",
       "      <td>06/30/20</td>\n",
       "      <td>NaN</td>\n",
       "      <td>Morgan Summit CCTV &amp; RWIS In Tehama County nea...</td>\n",
       "      <td>PM Javed Iqbal, 530-945-1932 (2 June 2021)</td>\n",
       "      <td>215000006.0</td>\n",
       "      <td>0H390</td>\n",
       "      <td>'02</td>\n",
       "      <td>TEH</td>\n",
       "      <td>36.0</td>\n",
       "      <td>87</td>\n",
       "      <td>87.8</td>\n",
       "      <td>201.315</td>\n",
       "      <td>Mobility - TMS</td>\n",
       "      <td>NaN</td>\n",
       "      <td>NaN</td>\n",
       "      <td>06/30/20</td>\n",
       "      <td>2019/20</td>\n",
       "      <td>06/30/20</td>\n",
       "      <td>0.0</td>\n",
       "      <td>783.0</td>\n",
       "      <td>0.0</td>\n",
       "      <td>783.0</td>\n",
       "      <td>06/30/20</td>\n",
       "      <td>2019/20</td>\n",
       "      <td>Jun 2020</td>\n",
       "      <td>NaN</td>\n",
       "      <td>01/01/00</td>\n",
       "      <td>In Tehama County, near Mineral from 0.2 mile e...</td>\n",
       "      <td>NaN</td>\n",
       "      <td>06/30/20</td>\n",
       "      <td>NaN</td>\n",
       "      <td>NaN</td>\n",
       "      <td>NaN</td>\n",
       "      <td>825.0</td>\n",
       "      <td>0.0</td>\n",
       "      <td>0.0</td>\n",
       "      <td>01/01/00</td>\n",
       "      <td>NaN</td>\n",
       "      <td>01/01/00</td>\n",
       "      <td>NaN</td>\n",
       "      <td>NaN</td>\n",
       "      <td>NaN</td>\n",
       "      <td>NaN</td>\n",
       "      <td>NaN</td>\n",
       "      <td>NaN</td>\n",
       "      <td>NaN</td>\n",
       "      <td>NaN</td>\n",
       "      <td>NaN</td>\n",
       "      <td>NaN</td>\n",
       "      <td>0.0</td>\n",
       "      <td>NaN</td>\n",
       "      <td>06/02/21</td>\n",
       "      <td>Sean Shepard</td>\n",
       "      <td>ALN</td>\n",
       "      <td>2019/20</td>\n",
       "      <td>783.0</td>\n",
       "      <td>ALN</td>\n",
       "      <td>2_0H390</td>\n",
       "      <td>20</td>\n",
       "      <td>201.315</td>\n",
       "      <td>783.0</td>\n",
       "      <td>NaN</td>\n",
       "      <td>No</td>\n",
       "      <td>NaN</td>\n",
       "      <td>NaN</td>\n",
       "      <td>NaN</td>\n",
       "      <td>Not in the 2022 Approved list</td>\n",
       "      <td>NaN</td>\n",
       "      <td>NaN</td>\n",
       "      <td>NaN</td>\n",
       "      <td>OK</td>\n",
       "      <td>NaN</td>\n",
       "      <td>OK</td>\n",
       "      <td>OK</td>\n",
       "      <td>OK</td>\n",
       "      <td>Update EA. It does not match EA in Approved Li...</td>\n",
       "      <td>OK</td>\n",
       "      <td>Yes</td>\n",
       "    </tr>\n",
       "    <tr>\n",
       "      <th>4</th>\n",
       "      <td>Active</td>\n",
       "      <td>MA000005</td>\n",
       "      <td>A</td>\n",
       "      <td>216000118.0</td>\n",
       "      <td>2H140</td>\n",
       "      <td>2</td>\n",
       "      <td>TEH</td>\n",
       "      <td>'036</td>\n",
       "      <td>87.8</td>\n",
       "      <td>89.1</td>\n",
       "      <td>No</td>\n",
       "      <td>201.310</td>\n",
       "      <td>Mobility - Operational Improvements</td>\n",
       "      <td>NaN</td>\n",
       "      <td>NaN</td>\n",
       "      <td>07/01/19</td>\n",
       "      <td>2019/20</td>\n",
       "      <td>175.0</td>\n",
       "      <td>0.0</td>\n",
       "      <td>0.0</td>\n",
       "      <td>1250.0</td>\n",
       "      <td>1425.0</td>\n",
       "      <td>06/30/20</td>\n",
       "      <td>NaN</td>\n",
       "      <td>Morgan Summit Truck Climbing Lane</td>\n",
       "      <td>Combined with Safety Project 02-1H740, Parent ...</td>\n",
       "      <td>216000118.0</td>\n",
       "      <td>2H140</td>\n",
       "      <td>'02</td>\n",
       "      <td>TEH</td>\n",
       "      <td>36.0</td>\n",
       "      <td>87.8</td>\n",
       "      <td>89.1</td>\n",
       "      <td>201.310</td>\n",
       "      <td>Mobility - Operational Improvements</td>\n",
       "      <td>NaN</td>\n",
       "      <td>NaN</td>\n",
       "      <td>06/30/20</td>\n",
       "      <td>2019/20</td>\n",
       "      <td>06/30/20</td>\n",
       "      <td>0.0</td>\n",
       "      <td>1256.0</td>\n",
       "      <td>0.0</td>\n",
       "      <td>1256.0</td>\n",
       "      <td>06/30/20</td>\n",
       "      <td>2019/20</td>\n",
       "      <td>Jun 2020</td>\n",
       "      <td>NaN</td>\n",
       "      <td>01/01/00</td>\n",
       "      <td>In Tehama County, near Mineral from 0.1 mile t...</td>\n",
       "      <td>NaN</td>\n",
       "      <td>06/30/20</td>\n",
       "      <td>NaN</td>\n",
       "      <td>NaN</td>\n",
       "      <td>NaN</td>\n",
       "      <td>1225.1</td>\n",
       "      <td>0.0</td>\n",
       "      <td>0.0</td>\n",
       "      <td>01/01/00</td>\n",
       "      <td>NaN</td>\n",
       "      <td>01/01/00</td>\n",
       "      <td>NaN</td>\n",
       "      <td>NaN</td>\n",
       "      <td>NaN</td>\n",
       "      <td>NaN</td>\n",
       "      <td>NaN</td>\n",
       "      <td>NaN</td>\n",
       "      <td>NaN</td>\n",
       "      <td>NaN</td>\n",
       "      <td>NaN</td>\n",
       "      <td>NaN</td>\n",
       "      <td>0.0</td>\n",
       "      <td>NaN</td>\n",
       "      <td>08/06/20</td>\n",
       "      <td>Stacey Barnes</td>\n",
       "      <td>ALN</td>\n",
       "      <td>2019/20</td>\n",
       "      <td>1256.0</td>\n",
       "      <td>ALN</td>\n",
       "      <td>2_2H140</td>\n",
       "      <td>20</td>\n",
       "      <td>201.310</td>\n",
       "      <td>1256.0</td>\n",
       "      <td>NaN</td>\n",
       "      <td>No</td>\n",
       "      <td>NaN</td>\n",
       "      <td>NaN</td>\n",
       "      <td>NaN</td>\n",
       "      <td>Not in the 2022 Approved list</td>\n",
       "      <td>NaN</td>\n",
       "      <td>NaN</td>\n",
       "      <td>NaN</td>\n",
       "      <td>OK</td>\n",
       "      <td>NaN</td>\n",
       "      <td>OK</td>\n",
       "      <td>OK</td>\n",
       "      <td>OK</td>\n",
       "      <td>Update EA. It does not match EA in Approved Li...</td>\n",
       "      <td>OK</td>\n",
       "      <td>Yes</td>\n",
       "    </tr>\n",
       "  </tbody>\n",
       "</table>\n",
       "</div>"
      ],
      "text/plain": [
       "   Status    AMT_ID Minor         EFIS     EA  District County Route Begin PM  \\\n",
       "0  Active  MA000001     A  113000078.0  0C930         1    HUM  '101     79.9   \n",
       "1  Active  MA000002     A  115000064.0  0F080         1    HUM  '096     22.9   \n",
       "2  Active  MA000003     A  118000146.0  0J010         1    MEN  '001     59.3   \n",
       "3  Active  MA000004     A  215000006.0  0H390         2    TEH  '036       87   \n",
       "4  Active  MA000005     A  216000118.0  2H140         2    TEH  '036     87.8   \n",
       "\n",
       "  End PM Multiple Location  Program Code                    Activity Category  \\\n",
       "0   84.9                No       201.151                             Drainage   \n",
       "1   22.9                No       201.015         Safety - Collision Reduction   \n",
       "2   59.3                No       201.121                             Pavement   \n",
       "3   87.8                No       201.315                       Mobility - TMS   \n",
       "4   89.1                No       201.310  Mobility - Operational Improvements   \n",
       "\n",
       "  Minor Activity FCO Only Planned RTL Date    FY_WP  PA&ED, PS&E, R/W Sup  \\\n",
       "0            NaN      NaN         01/01/00  2019/20                   0.0   \n",
       "1            NaN      NaN         01/01/00  2019/20                   0.0   \n",
       "2            NaN      NaN         01/01/00  2019/20                   0.0   \n",
       "3            NaN      NaN         03/13/19  2019/20                 320.0   \n",
       "4            NaN      NaN         07/01/19  2019/20                 175.0   \n",
       "\n",
       "   Const Eng Sup ($K)  R/W Capital ($K)  Construction Capital ($K)  \\\n",
       "0                 0.0              25.0                      909.0   \n",
       "1                 0.0               5.0                     1103.0   \n",
       "2                 0.0               0.0                     1050.0   \n",
       "3                 0.0              98.0                      719.0   \n",
       "4                 0.0               0.0                     1250.0   \n",
       "\n",
       "   Total Project Cost ($K) Prog Appr Date_WP  Combine  \\\n",
       "0                    934.0          06/30/20      NaN   \n",
       "1                   1108.0          06/30/20      NaN   \n",
       "2                   1050.0          06/30/20      NaN   \n",
       "3                   1137.0          06/30/20      NaN   \n",
       "4                   1425.0          06/30/20      NaN   \n",
       "\n",
       "                        Project Location/Description  \\\n",
       "0  In Humboldt County, in and near Eureka and Arc...   \n",
       "1  In Humboldt County, in Weitchpec at Pearson La...   \n",
       "2  In Mendocino County, near Fort Bragg at Simpso...   \n",
       "3  Morgan Summit CCTV & RWIS In Tehama County nea...   \n",
       "4                  Morgan Summit Truck Climbing Lane   \n",
       "\n",
       "                                            Comments  Project ID.1   EA.1  \\\n",
       "0                                                NaN   113000078.0  0C930   \n",
       "1                                                NaN   115000064.0  0F080   \n",
       "2                                                NaN   118000146.0  0J010   \n",
       "3         PM Javed Iqbal, 530-945-1932 (2 June 2021)   215000006.0  0H390   \n",
       "4  Combined with Safety Project 02-1H740, Parent ...   216000118.0  2H140   \n",
       "\n",
       "  District.1 County.1  Route.1 Begin PM.1 End PM.1  Program Code.1  \\\n",
       "0        '01      HUM    101.0       79.9     84.9         201.151   \n",
       "1        '01      HUM     96.0       22.9     22.9         201.015   \n",
       "2        '01      MEN      1.0       59.3     59.3         201.121   \n",
       "3        '02      TEH     36.0         87     87.8         201.315   \n",
       "4        '02      TEH     36.0       87.8     89.1         201.310   \n",
       "\n",
       "                   Activity Category.1 Minor Activity.1 Coop Agreement  \\\n",
       "0                             Drainage              NaN            NaN   \n",
       "1         Safety - Collision Reduction              NaN            NaN   \n",
       "2                             Pavement              NaN            NaN   \n",
       "3                       Mobility - TMS              NaN            NaN   \n",
       "4  Mobility - Operational Improvements              NaN            NaN   \n",
       "\n",
       "  Actual RTL Date   FY_ALN Allocation Date  Const Eng Sup  \\\n",
       "0        06/30/20  2019/20        06/30/20            0.0   \n",
       "1        06/30/20  2019/20        06/30/20            0.0   \n",
       "2        06/30/20  2019/20        06/30/20            0.0   \n",
       "3        06/30/20  2019/20        06/30/20            0.0   \n",
       "4        06/30/20  2019/20        06/30/20            0.0   \n",
       "\n",
       "   Const Cap state ($K)  Const Cap Fed ($K)  Total Capital Project Cost ($K)  \\\n",
       "0                 652.0                 0.0                            652.0   \n",
       "1                1186.0                 0.0                           1186.0   \n",
       "2                1136.0                 0.0                           1136.0   \n",
       "3                 783.0                 0.0                            783.0   \n",
       "4                1256.0                 0.0                           1256.0   \n",
       "\n",
       "  Prog Appr Date_ALN Fiscal Year CTC Meeting Resolution No Rescission Date  \\\n",
       "0           06/30/20     2019/20    Jun 2020           NaN        01/01/00   \n",
       "1           06/30/20     2019/20    Jun 2020           NaN        01/01/00   \n",
       "2           06/30/20     2019/20    Jun 2020           NaN        01/01/00   \n",
       "3           06/30/20     2019/20    Jun 2020           NaN        01/01/00   \n",
       "4           06/30/20     2019/20    Jun 2020           NaN        01/01/00   \n",
       "\n",
       "                      Project Location/Description.1 Comments.1  \\\n",
       "0  In Humboldt County, in and near Eureka and Arc...        NaN   \n",
       "1  In Humboldt County, in Weitchpec at Pearson La...        NaN   \n",
       "2  In Mendocino County, near Fort Bragg at Simpso...        NaN   \n",
       "3  In Tehama County, near Mineral from 0.2 mile e...        NaN   \n",
       "4  In Tehama County, near Mineral from 0.1 mile t...        NaN   \n",
       "\n",
       "  Contract Approval Federal Aid Project Certified Small Business  \\\n",
       "0          06/30/20                 NaN                      NaN   \n",
       "1          06/30/20                 NaN                      NaN   \n",
       "2          06/30/20                 NaN                      NaN   \n",
       "3          06/30/20                 NaN                      NaN   \n",
       "4          06/30/20                 NaN                      NaN   \n",
       "\n",
       "  Prime Contractor  Project Allotment ($K)  Federal Total ($K)  \\\n",
       "0              NaN                   496.5                 0.0   \n",
       "1              NaN                  1340.0                 0.0   \n",
       "2              NaN                  1036.0                 0.0   \n",
       "3              NaN                   825.0                 0.0   \n",
       "4              NaN                  1225.1                 0.0   \n",
       "\n",
       "   Small Business Amount ($K) Prog Appr Date.1 1st FY 1st Removal Date 2nd FY  \\\n",
       "0                         0.0         01/01/00    NaN         01/01/00    NaN   \n",
       "1                         0.0         01/01/00    NaN         01/01/00    NaN   \n",
       "2                         0.0         01/01/00    NaN         01/01/00    NaN   \n",
       "3                         0.0         01/01/00    NaN         01/01/00    NaN   \n",
       "4                         0.0         01/01/00    NaN         01/01/00    NaN   \n",
       "\n",
       "  2nd Removal Date 3rd FY  3rd Removal Date  4th FY  4th Removal Date  5th FY  \\\n",
       "0              NaN    NaN               NaN     NaN               NaN     NaN   \n",
       "1              NaN    NaN               NaN     NaN               NaN     NaN   \n",
       "2              NaN    NaN               NaN     NaN               NaN     NaN   \n",
       "3              NaN    NaN               NaN     NaN               NaN     NaN   \n",
       "4              NaN    NaN               NaN     NaN               NaN     NaN   \n",
       "\n",
       "   5th Removal Date  6th FY  6th Removal Date  No of Workplans  Comments.2  \\\n",
       "0               NaN     NaN               NaN              0.0         NaN   \n",
       "1               NaN     NaN               NaN              0.0         NaN   \n",
       "2               NaN     NaN               NaN              0.0         NaN   \n",
       "3               NaN     NaN               NaN              0.0         NaN   \n",
       "4               NaN     NaN               NaN              0.0         NaN   \n",
       "\n",
       "  Last Saved          Saved By Section In Use     FY.2  \\\n",
       "0   04/22/20    Mara Chaudhari            ALN  2019/20   \n",
       "1   09/10/19  Graciela Vasquez            ALN  2019/20   \n",
       "2   09/10/19  Graciela Vasquez            ALN  2019/20   \n",
       "3   06/02/21      Sean Shepard            ALN  2019/20   \n",
       "4   08/06/20     Stacey Barnes            ALN  2019/20   \n",
       "\n",
       "   Project Cost In Use ($K) Section Unique EA FY In Use  Program Code in Use  \\\n",
       "0                     652.0     ALN   1_0C930        20              201.151   \n",
       "1                    1186.0     ALN   1_0F080        20              201.015   \n",
       "2                    1136.0     ALN   1_0J010        20              201.121   \n",
       "3                     783.0     ALN   2_0H390        20              201.315   \n",
       "4                    1256.0     ALN   2_2H140        20              201.310   \n",
       "\n",
       "   Const Capital in Use EA_ApprovedList In the Approved List?  Approve Year  \\\n",
       "0                 652.0             NaN                    No           NaN   \n",
       "1                1186.0             NaN                    No           NaN   \n",
       "2                1136.0             NaN                    No           NaN   \n",
       "3                 783.0             NaN                    No           NaN   \n",
       "4                1256.0             NaN                    No           NaN   \n",
       "\n",
       "   Program Code_ApprovedList  Construction Capital Cost ($K)  \\\n",
       "0                        NaN                             NaN   \n",
       "1                        NaN                             NaN   \n",
       "2                        NaN                             NaN   \n",
       "3                        NaN                             NaN   \n",
       "4                        NaN                             NaN   \n",
       "\n",
       "           FY Matches 2022 List?  nunique list AMT_IDs EFIS Uniqueness Check  \\\n",
       "0  Not in the 2022 Approved list      NaN  NaN     NaN                    OK   \n",
       "1  Not in the 2022 Approved list      NaN  NaN     NaN                    OK   \n",
       "2  Not in the 2022 Approved list      NaN  NaN     NaN                    OK   \n",
       "3  Not in the 2022 Approved list      NaN  NaN     NaN                    OK   \n",
       "4  Not in the 2022 Approved list      NaN  NaN     NaN                    OK   \n",
       "\n",
       "   UnqiueEA_Counts EA Uniqueness Check  \\\n",
       "0              NaN                  OK   \n",
       "1              NaN                  OK   \n",
       "2              NaN                  OK   \n",
       "3              NaN                  OK   \n",
       "4              NaN                  OK   \n",
       "\n",
       "  Does Project have a Repeated EA or Project ID repeated in Minor Profile?  \\\n",
       "0                                                 OK                         \n",
       "1                                                 OK                         \n",
       "2                                                 OK                         \n",
       "3                                                 OK                         \n",
       "4                                                 OK                         \n",
       "\n",
       "  Does FY Need Updates?                              Does EA Need Updates?  \\\n",
       "0                    OK  Update EA. It does not match EA in Approved Li...   \n",
       "1                    OK  Update EA. It does not match EA in Approved Li...   \n",
       "2                    OK  Update EA. It does not match EA in Approved Li...   \n",
       "3                    OK  Update EA. It does not match EA in Approved Li...   \n",
       "4                    OK  Update EA. It does not match EA in Approved Li...   \n",
       "\n",
       "  Does Program Code Need Updates? Project Has Qualified Activity?  \n",
       "0                              OK                             Yes  \n",
       "1                              OK                              No  \n",
       "2                              OK                             Yes  \n",
       "3                              OK                             Yes  \n",
       "4                              OK                             Yes  "
      ]
     },
     "execution_count": 77,
     "metadata": {},
     "output_type": "execute_result"
    }
   ],
   "source": []
  },
  {
   "cell_type": "code",
   "execution_count": 78,
   "id": "boring-agriculture",
   "metadata": {},
   "outputs": [],
   "source": [
    "ck_name = 'Project has at least one qualified activity?'\n",
    "\n",
    "def ck_qualified_activity(df):\n",
    "    if pd.isna(df['Project Has Qualified Activity?']):\n",
    "        return 'The performance data is missing for this project.'\n",
    "    elif df['Project Has Qualified Activity?'] == 'No':\n",
    "        try: \n",
    "            act_list = ','.join(dict_Activity_CW[df['Activity Category']])\n",
    "        except:\n",
    "            act_list = 'please find out from HQ AM for the latest list.'\n",
    "        return 'Please update the performance to include at least one qualified activity. The qualified activity for {} are {}'.format(df['Activity Category'], act_list)\n",
    "    else:\n",
    "        return 'OK'\n",
    "\n",
    "df_Minor_raw_data[ck_name] = df_Minor_raw_data.apply(ck_qualified_activity, axis=1)"
   ]
  },
  {
   "cell_type": "code",
   "execution_count": null,
   "id": "funny-marriage",
   "metadata": {},
   "outputs": [],
   "source": []
  },
  {
   "cell_type": "code",
   "execution_count": 79,
   "id": "prepared-pasta",
   "metadata": {},
   "outputs": [],
   "source": [
    "# df_Minor_raw_data[df_Minor_raw_data['Does Program Code Need Updates?'] != 'OK'][['AMT_ID','Program Code in Use','Program Code_ApprovedList']]"
   ]
  },
  {
   "cell_type": "code",
   "execution_count": 80,
   "id": "accessible-criticism",
   "metadata": {},
   "outputs": [],
   "source": [
    "# #TODO:\n",
    "\n",
    "# cols = ['EA','EFIS','SYSNO', 'INETNO',\n",
    "#        'OUTETNO',]\n",
    "\n",
    "# for c in cols:\n",
    "#     df_Minor_drain_raw_data[c] = df_Minor_drain_raw_data[c].apply(uf.remove_punction)"
   ]
  },
  {
   "cell_type": "code",
   "execution_count": 81,
   "id": "flexible-peripheral",
   "metadata": {},
   "outputs": [],
   "source": [
    "# #TODO\n",
    "# #check for each Main Activity Category, at least on ActID within the cross walk list provided by mara\n",
    "# # \n",
    "# temp = df_Minor_drain_raw_data.groupby(['EFIS','Section'])['ActID'].agg(lambda l: ','.join(l)).reset_index(name = 'ActIDs')\n",
    "# temp['Drainage Activity Check'] = temp['ActIDs'].apply(lambda x: 'OK' if 'C' in x else 'This project needs to have at least one drainage activity starts with \"C\".')\n",
    "\n",
    "# df_Minor_brg_raw_data.head()\n",
    "\n",
    "# df_Minor_brg_raw_data.columns\n",
    "\n",
    "# #question to be answered: there is not ActID in the bridge worksheet raw data\n",
    "\n",
    "# cols = ['District.1','Route']\n",
    "\n",
    "# for c in cols:\n",
    "#     df_Minor_pav_raw_data[c] = df_Minor_pav_raw_data[c].apply(uf.remove_punction)\n",
    "\n",
    "# dict_rename = {\n",
    "#     'ID':'AMT_ID'\n",
    "# }\n",
    "\n",
    "# df_Minor_pav_raw_data.rename(dict_rename, axis = 1, inplace=True)\n",
    "\n",
    "# df_Minor_pav_raw_data.head()\n",
    "\n",
    "# #TODO\n",
    "# #check for each Main Activity Category, at least on ActID within the cross walk list provided by mara\n",
    "# # \n",
    "\n",
    "# # pavement: needs to have at least one B activity id\n",
    "# temp = df_Minor_pav_raw_data.groupby(['AMT_ID','Section'])['ActID'].agg(lambda l: ','.join(l)).reset_index(name = 'ActIDs')\n",
    "# temp['Pavement Activity Check'] = temp['ActIDs'].apply(lambda x: 'OK' if 'B' in x else 'This project needs to have at least one pavement activity starts with \"B\".')\n",
    "\n",
    "# temp['Pavement Activity Check'].unique()\n",
    "\n",
    "# # bridge,needs to have at least one A activity id\n",
    "# # temp = df_Minor_drain_raw_data.groupby(['EFIS','Section'])['ActID'].agg(lambda l: ','.join(l)).reset_index(name = 'ActIDs')\n",
    "# # temp['Drainage Activity Check'] = temp['ActIDs'].apply(lambda x: 'OK' if 'C' in x else 'This project needs to have at least one drainage activity starts with \"C\".')"
   ]
  },
  {
   "cell_type": "code",
   "execution_count": 82,
   "id": "pleased-christianity",
   "metadata": {},
   "outputs": [],
   "source": [
    "#question to be answered: \n",
    "# safety: needs to have at least one within the list []"
   ]
  },
  {
   "cell_type": "code",
   "execution_count": 83,
   "id": "considered-cookie",
   "metadata": {},
   "outputs": [],
   "source": [
    "# def ck_shape(*args, **kwargs):\n",
    "#     def wrapper_func(original_func):\n",
    "#         print (kwargs['df'].shape)\n",
    "#         results = original_func(*args, **kwargs)\n",
    "#         print (kwargs['df']..shape)\n",
    "#         return results\n",
    "#     return wrapper_func\n",
    "\n",
    "# @ck_shape(df = df_Minor_raw_data)\n",
    "# def add(x,y):\n",
    "#     return (x+y) \n",
    "\n"
   ]
  },
  {
   "cell_type": "code",
   "execution_count": null,
   "id": "physical-identifier",
   "metadata": {},
   "outputs": [],
   "source": []
  },
  {
   "cell_type": "code",
   "execution_count": 84,
   "id": "hydraulic-wages",
   "metadata": {},
   "outputs": [],
   "source": [
    "#Does Construction Capital Cost ($K) Need Updates?\n",
    "\n",
    "ck_col = 'Does Construction Capital Cost ($K) Need Updates?'\n",
    "\n",
    "def ck_construction_capital_cost(df):\n",
    "       \n",
    "    if abs(df['Construction Capital Cost ($K)'] - df['Const Capital in Use']) < 0.01:\n",
    "        return 'OK'\n",
    "    else:\n",
    "        # question to be answered: for construct cost ck, for 22, only check WP band if Section in WP\n",
    "        if df['Section'] == 'ALN' or (df['Section'] == 'WP' and df['Approve Year'] == 22): \n",
    "            return 'Update Capital Cost. It does not match Approved List'\n",
    "        else:\n",
    "            return 'OK'\n",
    "        \n",
    "df_Minor_raw_data[ck_col] = df_Minor_raw_data.apply(ck_construction_capital_cost, axis = 1)"
   ]
  },
  {
   "cell_type": "code",
   "execution_count": null,
   "id": "infectious-glass",
   "metadata": {},
   "outputs": [],
   "source": []
  },
  {
   "cell_type": "markdown",
   "id": "australian-focus",
   "metadata": {},
   "source": [
    "### flag if no performance\n",
    " performance value can be zero"
   ]
  },
  {
   "cell_type": "code",
   "execution_count": 85,
   "id": "mobile-amplifier",
   "metadata": {},
   "outputs": [],
   "source": [
    "#TODO\n",
    "# FY in Use needs to be the same as the pavement, TMS worksheet plan year\n",
    "\n",
    "# flag the invalid locations\n"
   ]
  },
  {
   "cell_type": "code",
   "execution_count": 86,
   "id": "amazing-efficiency",
   "metadata": {},
   "outputs": [
    {
     "name": "stdout",
     "output_type": "stream",
     "text": [
      "(1263, 102)\n",
      "(1263, 103)\n"
     ]
    }
   ],
   "source": [
    "ck_col = 'Was Performance Tab Completed in Section in Use?'\n",
    "\n",
    "temp = df_Minor_perf_raw_data.groupby(['AMT_ID','Section']).first().reset_index()\n",
    "temp['Has performance raw data?'] = 'Yes'\n",
    "\n",
    "df_Minor_raw_data.drop(columns=['Has performance raw data?',],inplace=True , errors='ignore')\n",
    "print(df_Minor_raw_data.shape)\n",
    "\n",
    "df_Minor_raw_data = pd.merge(df_Minor_raw_data, temp[['AMT_ID','Section','Has performance raw data?']].drop_duplicates(), \n",
    "                             how = 'left', left_on = ['AMT_ID','Section'], right_on=['AMT_ID','Section'])\n",
    "\n",
    "df_Minor_raw_data['Has performance raw data?'].fillna('No', inplace=True)\n",
    "\n",
    "print(df_Minor_raw_data.shape)\n",
    "\n",
    "\n",
    "def ck_performance_availability(df):\n",
    "    if df['Has performance raw data?'] == 'No':\n",
    "        return '\"Please complete Performance Tab in Section {}'.format(df['Section'])\n",
    "    else:\n",
    "        return 'OK'\n",
    "\n",
    "df_Minor_raw_data[ck_col] = df_Minor_raw_data.apply(ck_performance_availability, axis = 1)"
   ]
  },
  {
   "cell_type": "code",
   "execution_count": 87,
   "id": "finnish-writing",
   "metadata": {},
   "outputs": [
    {
     "name": "stdout",
     "output_type": "stream",
     "text": [
      "(1263, 104)\n",
      "(1263, 105)\n"
     ]
    }
   ],
   "source": [
    "# Does Performance in Section in Use Match Approved List?\n",
    "# check shape\n",
    "print(df_Minor_raw_data.shape)\n",
    "#remove column\n",
    "\n",
    "col_name = 'Matches Minor Approved List Performance Value and Measure?'\n",
    "df_Minor_raw_data.drop(columns=[col_name],inplace=True , errors='ignore')\n",
    "\n",
    "#join\n",
    "df_Minor_raw_data = pd.merge(\n",
    "    df_Minor_raw_data, \n",
    "    df_Programming_Summary_filtered[['AMT_ID', 'Section',col_name]],\n",
    "    how='left', left_on=['AMT_ID', 'Section'], right_on=['AMT_ID', 'Section']\n",
    ")\n",
    "#fill na\n",
    "#question to be answered: for projects not in the programming summary list, we assigned the performance value and measure check to No\n",
    "\n",
    "df_Minor_raw_data[col_name].fillna('No', inplace=True)\n",
    "\n",
    "print(df_Minor_raw_data.shape)"
   ]
  },
  {
   "cell_type": "code",
   "execution_count": 88,
   "id": "alien-removal",
   "metadata": {},
   "outputs": [],
   "source": [
    "ck_col = 'Was project with FY Before 2021/22 Closed-Out?'\n",
    "\n",
    "def ck_project_closeout_status(df):\n",
    "    if pd.isna(df['FY In Use']):\n",
    "        return 'Please Identify FY'\n",
    "    elif int(df['FY In Use']) < 22 and df['Section'] == 'ALN':\n",
    "        return 'OK'\n",
    "    else:\n",
    "        return 'Please work with HQ Minor Program to Close-out Project'\n",
    "    \n",
    "df_Minor_raw_data[ck_col] = df_Minor_raw_data.apply(ck_project_closeout_status, axis=1)"
   ]
  },
  {
   "cell_type": "code",
   "execution_count": 89,
   "id": "elegant-enemy",
   "metadata": {},
   "outputs": [],
   "source": [
    "ck_col = 'Data Needs Review?'\n",
    "\n",
    "input_cols = ['Does Project have a Repeated EA or Project ID repeated in Minor Profile?',\n",
    "       'Does FY Need Updates?', 'Does EA Need Updates?',\n",
    "       'Does Program Code Need Updates?',\n",
    "       'Does Construction Capital Cost ($K) Need Updates?',\n",
    "       'Has performance raw data?',\n",
    "       'Was Performance Tab Completed in Section in Use?',\n",
    "       'Matches Minor Approved List Performance Value and Measure?',\n",
    "       'Was project with FY Before 2021/22 Closed-Out?']\n",
    "\n",
    "def ck_review_needs(df, input_cols):\n",
    "    for col in input_cols:\n",
    "        if df[col] != 'OK:':\n",
    "            return 'District needs to review project data (Profile and/or RTL)'\n",
    "    return 'OK'\n",
    "    \n",
    "df_Minor_raw_data[ck_col] = df_Minor_raw_data.apply(ck_review_needs, args = [input_cols], axis=1)\n"
   ]
  },
  {
   "cell_type": "code",
   "execution_count": 90,
   "id": "industrial-roman",
   "metadata": {},
   "outputs": [],
   "source": [
    "\n",
    "ck_col = 'Data needs review other that Close-out?'\n",
    "\n",
    "input_cols = ['Does Project have a Repeated EA or Project ID repeated in Minor Profile?',\n",
    "       'Does FY Need Updates?', 'Does EA Need Updates?',\n",
    "       'Does Program Code Need Updates?',\n",
    "       'Does Construction Capital Cost ($K) Need Updates?',\n",
    "       'Has performance raw data?',\n",
    "       'Was Performance Tab Completed in Section in Use?',\n",
    "       'Matches Minor Approved List Performance Value and Measure?',\n",
    "#          'Was project with FY Before 2021/22 Closed-Out?'     \n",
    "       ]\n",
    "\n",
    "def ck_review_needs_2(df, input_cols):\n",
    "    for col in input_cols:\n",
    "        if df[col] != 'OK:':\n",
    "            return 'District needs to review project data (Profile and/or RTL)'\n",
    "    return 'OK'\n",
    "    \n",
    "df_Minor_raw_data[ck_col] = df_Minor_raw_data.apply(ck_review_needs_2, args = [input_cols], axis=1)"
   ]
  },
  {
   "cell_type": "code",
   "execution_count": 91,
   "id": "thorough-pencil",
   "metadata": {},
   "outputs": [],
   "source": [
    "#question to be answered, can we convert the following checks into \"OK\" or others, to be used in filter out flagged items in the punchlist.\n"
   ]
  },
  {
   "cell_type": "code",
   "execution_count": 92,
   "id": "becoming-massage",
   "metadata": {},
   "outputs": [],
   "source": [
    "ck_col = 'Was information Entered in the Allocation Band?'\n",
    "\n",
    "def ck_ALN_band_info_completeness(df):\n",
    "    if pd.isna(df['FY_ALN']) or df['Has performance raw data?'] == 'No' or pd.isna(df['Total Capital Project Cost ($K)']):\n",
    "        return 'No'\n",
    "    else: \n",
    "        return 'Yes'\n",
    "    \n",
    "df_Minor_raw_data[ck_col] = df_Minor_raw_data.apply(ck_ALN_band_info_completeness, axis=1)"
   ]
  },
  {
   "cell_type": "code",
   "execution_count": 93,
   "id": "banner-freeze",
   "metadata": {},
   "outputs": [],
   "source": [
    "ck_col = 'Is Project ready to enter data in the Allocation Band?'\n",
    "\n",
    "def ck_readiness_to_enter_ALN_band(df):\n",
    "    if pd.notna(df['Prog Appr Date_WP']):  #has approval date in WP band\n",
    "        if df['Section'] == 'ALN':\n",
    "            return 'Project was closed-out'\n",
    "        elif df['Was information Entered in the Allocation Band?'] == 'Yes':\n",
    "            return 'Allocation Band needs review by HQ Minor Program. If all data Accurate HQ Minor will enter the approval date'\n",
    "        else:\n",
    "            return 'Project ready to enter data in the Allocation Band (Cost, Schedule, RTL, And/Or Performance Tab)'\n",
    "    else: \n",
    "        return 'Workplan Band needs review by HQ Minor Program. If all data Accurate HQ Minor will enter the approval date'\n",
    "    \n",
    "df_Minor_raw_data[ck_col] = df_Minor_raw_data.apply(ck_readiness_to_enter_ALN_band, axis=1)"
   ]
  },
  {
   "cell_type": "code",
   "execution_count": null,
   "id": "strategic-stock",
   "metadata": {},
   "outputs": [],
   "source": []
  },
  {
   "cell_type": "code",
   "execution_count": 94,
   "id": "blank-border",
   "metadata": {},
   "outputs": [],
   "source": [
    "\n",
    "ck_col = 'Is Project Project Ready for Review and Approval Date?'\n",
    "\n",
    "def ck_readiness_for_review(df):\n",
    "    if df['Data needs review other that Close-out?'] != 'OK':\n",
    "        return 'No'\n",
    "    elif df['FY In Use'] > 22: \n",
    "        return 'No'\n",
    "    elif pd.isna(df['Prog Appr Date_WP']):\n",
    "        return 'HQ Needs to review Workplan band and enter Approval Date if data is accurate'\n",
    "    \n",
    "    elif df['Was information Entered in the Allocation Band?'] == 'Yes':\n",
    "        if pd.notna(df['Prog Appr Date_ALN']):\n",
    "            return 'No, Project Already Closed-out'\n",
    "        else:\n",
    "            return 'HQ Needs to review Allocation band and enter Approval Date if data is accurate'\n",
    "    else:\n",
    "        return 'No'\n",
    "df_Minor_raw_data[ck_col] = df_Minor_raw_data.apply(ck_readiness_for_review, axis=1)"
   ]
  },
  {
   "cell_type": "code",
   "execution_count": 95,
   "id": "administrative-korea",
   "metadata": {},
   "outputs": [],
   "source": [
    "ck_col = 'Does Worplan Band needs Approval Removal?'\n",
    "\n",
    "def ck_WP_data_error(df):\n",
    "    if pd.isna(df['Prog Appr Date_WP']):  #has no approval data in WP band\n",
    "        return 'No'\n",
    "    elif (pd.isna(df['FY In Use'])\n",
    "        or int(df['FY In Use']) > 22 \n",
    "        or (df['FY In Use'] in ['21', '22'] and df['In the Approved List?'] == 'No')\n",
    "         ): \n",
    "        return 'HQ Minor Program needs to remove Approval date fromWorkplan Band, so District can updated the project FY. Project not in Approved lists or in the future'\n",
    "    else:\n",
    "        return 'No'\n",
    "    \n",
    "df_Minor_raw_data[ck_col] = df_Minor_raw_data.apply(ck_WP_data_error, axis=1)"
   ]
  },
  {
   "cell_type": "code",
   "execution_count": 96,
   "id": "spread-recording",
   "metadata": {},
   "outputs": [],
   "source": [
    "ck_col = 'Does Allocation Band needs Approval Removal?'\n",
    "\n",
    "def ck_ALN_data_error(df):\n",
    "    if pd.isna(df['Prog Appr Date_ALN']):  #has no approval data in ALN band\n",
    "        return 'No'\n",
    "    elif df['Data needs review other that Close-out?'] == 'OK': \n",
    "        return 'No'\n",
    "    else:\n",
    "        return 'HQ Minor Program needs to remove Approval date from Allocation Band, so District can updated the project data'\n",
    "\n",
    "df_Minor_raw_data[ck_col] = df_Minor_raw_data.apply(ck_ALN_data_error, axis=1)"
   ]
  },
  {
   "cell_type": "code",
   "execution_count": 97,
   "id": "fitting-imaging",
   "metadata": {},
   "outputs": [],
   "source": [
    "ck_col = 'HQ Minor Program Needs Review?'\n",
    "\n",
    "def ck_review_needs_HQ_Minor(df):\n",
    "    if (df['Is Project Project Ready for Review and Approval Date?'] == \"No\"\n",
    "        and df['Does Worplan Band needs Approval Removal?'] == 'No'\n",
    "        and df['Does Allocation Band needs Approval Removal?'] == 'No'\n",
    "       ):\n",
    "        return 'No'\n",
    "    else: \n",
    "        return \"HQ Minor Needs Review\"\n",
    "    \n",
    "df_Minor_raw_data[ck_col] = df_Minor_raw_data.apply(ck_review_needs_HQ_Minor, axis=1)"
   ]
  },
  {
   "cell_type": "code",
   "execution_count": 98,
   "id": "elect-attention",
   "metadata": {},
   "outputs": [],
   "source": [
    "#question to be answered: \n",
    "# for every project in Minor raw data, the section-in-use performance needs to be filled. \n",
    "# the performance measure unit and value should match with approved project list performance meansure, if available in approved project list. \n",
    "# if the raw data has all the information needed, including FY and performance data, and it is not only the approved project list, Minor project HQ needs to review and approve the project. \n",
    "#if the project is on the approved list, the HQ needs reach out the district to get the project close out. \n"
   ]
  },
  {
   "cell_type": "code",
   "execution_count": null,
   "id": "vertical-pakistan",
   "metadata": {},
   "outputs": [],
   "source": []
  },
  {
   "cell_type": "code",
   "execution_count": null,
   "id": "facial-bunch",
   "metadata": {},
   "outputs": [],
   "source": []
  },
  {
   "cell_type": "code",
   "execution_count": 99,
   "id": "centered-search",
   "metadata": {},
   "outputs": [],
   "source": [
    "#question to be answered: \n",
    "# do we need the following checks"
   ]
  },
  {
   "cell_type": "markdown",
   "id": "robust-symphony",
   "metadata": {},
   "source": [
    "### flag if total project cost is zero"
   ]
  },
  {
   "cell_type": "code",
   "execution_count": 100,
   "id": "infectious-kazakhstan",
   "metadata": {},
   "outputs": [],
   "source": [
    "\n",
    "def ck_total_project_cost(df):\n",
    "    if pd.isna(df['Total Project Cost ($K)']) or df['Total Project Cost ($K)'] == 0:\n",
    "        return 'Total project cost can not Empty or zero.'\n",
    "    else:\n",
    "        return 'OK'\n",
    "    \n",
    "df_Minor_raw_data['Total Project Cost Check'] = df_Minor_raw_data.apply(ck_total_project_cost, axis = 1)"
   ]
  },
  {
   "cell_type": "markdown",
   "id": "junior-destination",
   "metadata": {},
   "source": [
    "### flag if project description is blank\n"
   ]
  },
  {
   "cell_type": "code",
   "execution_count": 101,
   "id": "colonial-charlotte",
   "metadata": {},
   "outputs": [],
   "source": [
    "def ck_project_description(df):\n",
    "    if pd.isna(df['Project Location/Description']) or df['Project Location/Description'] == '':\n",
    "        return 'Project Location/Description can not empty.'\n",
    "    else:\n",
    "        return 'OK'\n",
    "    \n",
    "df_Minor_raw_data['Project Location/Description Check'] = df_Minor_raw_data.apply(ck_project_description, axis = 1)"
   ]
  },
  {
   "cell_type": "markdown",
   "id": "emotional-gateway",
   "metadata": {},
   "source": [
    "### check pm validation"
   ]
  },
  {
   "cell_type": "code",
   "execution_count": 102,
   "id": "pleasant-swimming",
   "metadata": {},
   "outputs": [],
   "source": [
    "df_Minor_pm_invalid = df_Minor_pm_check[df_Minor_pm_check['Valid PM'] != 'Yes']\n",
    "\n",
    "AMT_IDs_withInvalidPM = df_Minor_pm_invalid['AMT_ID'].unique()"
   ]
  },
  {
   "cell_type": "code",
   "execution_count": 103,
   "id": "exposed-match",
   "metadata": {},
   "outputs": [],
   "source": [
    "\n",
    "def ck_invalid_pm(df):\n",
    "    if df['AMT_ID'] in AMT_IDs_withInvalidPM:\n",
    "        return 'The PM is invalid.'\n",
    "    else:\n",
    "        return 'OK'\n",
    "    \n",
    "df_Minor_raw_data['PM Validity Check'] = df_Minor_raw_data.apply(ck_invalid_pm, axis = 1)\n"
   ]
  },
  {
   "cell_type": "code",
   "execution_count": 104,
   "id": "asian-auckland",
   "metadata": {},
   "outputs": [
    {
     "name": "stdout",
     "output_type": "stream",
     "text": [
      "time elapsed : 5.867709159851074 seconds\n"
     ]
    }
   ],
   "source": []
  },
  {
   "cell_type": "markdown",
   "id": "front-might",
   "metadata": {},
   "source": [
    "<a id='Export_Data'></a>\n",
    "# Export Data"
   ]
  },
  {
   "cell_type": "code",
   "execution_count": 105,
   "id": "color-container",
   "metadata": {},
   "outputs": [],
   "source": [
    "# DATA_HHMM = datetime.now().strftime(\"%H%M\")\n",
    "\n",
    "file_export_log = open(LOG_FILE, \"a\")  # append mode\n",
    "file_export_log.write(\"#####Minor Data Check:{} \\n\".format(Data_TimeStamp))\n",
    "file_export_log.close()"
   ]
  },
  {
   "cell_type": "code",
   "execution_count": 106,
   "id": "powerful-bhutan",
   "metadata": {},
   "outputs": [],
   "source": [
    "df_Minor_raw_data['Data_TimeStamp'] = Data_TimeStamp\n"
   ]
  },
  {
   "cell_type": "markdown",
   "id": "strategic-catalog",
   "metadata": {},
   "source": [
    "## export check flags"
   ]
  },
  {
   "cell_type": "code",
   "execution_count": 107,
   "id": "requested-standard",
   "metadata": {},
   "outputs": [],
   "source": [
    "ck_cols = [\n",
    "    'EFIS Uniqueness Check',\n",
    "    'EA Uniqueness Check',\n",
    "    'Does Project have a Repeated EA or Project ID repeated in Minor Profile?',\n",
    "    'Does FY Need Updates?', \n",
    "    'Does EA Need Updates?',\n",
    "    'Does Program Code Need Updates?',\n",
    "    'Does Construction Capital Cost ($K) Need Updates?',\n",
    "    'Has performance raw data?',\n",
    "    'Was Performance Tab Completed in Section in Use?',\n",
    "    'Matches Minor Approved List Performance Value and Measure?',\n",
    "    'Was project with FY Before 2021/22 Closed-Out?', \n",
    " \n",
    "    #additional checks\n",
    "    'PM Validity Check',\n",
    "    'Project has at least one qualified activity?',\n",
    "]\n"
   ]
  },
  {
   "cell_type": "code",
   "execution_count": 109,
   "id": "robust-selection",
   "metadata": {},
   "outputs": [],
   "source": [
    "#export all projects with all checks in matrix\n",
    "out_cols = [\n",
    "    \n",
    "    #project information\n",
    "    'AMT_ID', 'Minor', 'EFIS', 'EA', 'District', \n",
    "    'Data_TimeStamp',\n",
    "    'Data Needs Review?',\n",
    "    'Data needs review other that Close-out?',\n",
    "                    ]\n",
    "\n",
    "out_cols.extend(ck_cols)\n",
    "\n",
    "\n",
    "filename = 'Minor_Datachecks_Matrix'\n",
    "df_out = df_Minor_raw_data[out_cols]\n",
    "\n",
    "uf.export_csv(df_out, filename, PROJECTBOOKCHECK_HTTPSERVER_FOLDER, LOG_FILE)\n",
    "\n"
   ]
  },
  {
   "cell_type": "code",
   "execution_count": 110,
   "id": "split-macedonia",
   "metadata": {},
   "outputs": [
    {
     "name": "stderr",
     "output_type": "stream",
     "text": [
      "\r",
      "processing table: 0it [00:00, ?it/s]"
     ]
    },
    {
     "name": "stdout",
     "output_type": "stream",
     "text": [
      "Table 'Extract' does not exist in extract Minor_Datachecks_Punchlist.hyper.hyper, creating.\n"
     ]
    },
    {
     "name": "stderr",
     "output_type": "stream",
     "text": [
      "processing table: 6078it [00:00, 24605.77it/s]\n"
     ]
    },
    {
     "name": "stdout",
     "output_type": "stream",
     "text": [
      "Signing into AssetManagement at https://tableau.dot.ca.gov\n",
      "Publishing Minor_Datachecks_Punchlist.hyper.hyper to Sandbox_ProjectBookCheck_Automation...\n"
     ]
    }
   ],
   "source": [
    "#table 1\n",
    "\n",
    "df_melted = pd.melt(df_Minor_raw_data, \n",
    "                    id_vars=['AMT_ID'], \n",
    "                    value_vars=ck_cols, var_name = 'Check Description')\n",
    "\n",
    "df_melted.columns = ['AMT_ID','Check Description','Check Summary']\n",
    "df_melted_filtered = df_melted[df_melted['Check Summary']!= 'OK']\n",
    "\n",
    "\n",
    "out_cols = [\n",
    "    \n",
    "    #project information\n",
    "    'AMT_ID', 'Minor', 'EFIS', 'EA', 'District', 'Data_TimeStamp'\n",
    "                    ]\n",
    "\n",
    "df_out = pd.merge(df_melted_filtered, df_Minor_raw_data[out_cols],\n",
    "                  how = 'left', left_on = 'AMT_ID', right_on = 'AMT_ID')\n",
    "\n",
    "\n",
    "filename = 'Minor_Datachecks_Punchlist'\n",
    "uf.export_csv(df_out, filename, PROJECTBOOKCHECK_HTTPSERVER_FOLDER, LOG_FILE)\n",
    "\n",
    "hyper_name = '{}.hyper'.format(filename)\n",
    "uf.export_hyper(df_out, hyper_name, LOG_FILE)\n"
   ]
  },
  {
   "cell_type": "code",
   "execution_count": null,
   "id": "above-mongolia",
   "metadata": {},
   "outputs": [],
   "source": []
  },
  {
   "cell_type": "markdown",
   "id": "altered-childhood",
   "metadata": {},
   "source": [
    "## Export action items for Minor District Engineer"
   ]
  },
  {
   "cell_type": "code",
   "execution_count": 114,
   "id": "swedish-monday",
   "metadata": {},
   "outputs": [
    {
     "name": "stderr",
     "output_type": "stream",
     "text": [
      "processing table: 1263it [00:00, 28695.27it/s]"
     ]
    },
    {
     "name": "stdout",
     "output_type": "stream",
     "text": [
      "Table 'Extract' does not exist in extract Minor_District_ActionItem.hyper.hyper, creating.\n"
     ]
    },
    {
     "name": "stderr",
     "output_type": "stream",
     "text": [
      "\n"
     ]
    },
    {
     "name": "stdout",
     "output_type": "stream",
     "text": [
      "Signing into AssetManagement at https://tableau.dot.ca.gov\n",
      "Publishing Minor_District_ActionItem.hyper.hyper to Sandbox_ProjectBookCheck_Automation...\n"
     ]
    }
   ],
   "source": [
    "filename = 'Minor_District_ActionItem'\n",
    "\n",
    "out_cols = [\n",
    "    #project information\n",
    "    'AMT_ID', 'Minor', 'EFIS', 'EA', 'District', 'Data_TimeStamp',\n",
    "    'Is Project ready to enter data in the Allocation Band?'\n",
    "                    ]\n",
    "df_out = df_Minor_raw_data[out_cols]\n",
    "uf.export_csv(df_out, filename, PROJECTBOOKCHECK_HTTPSERVER_FOLDER, LOG_FILE)\n",
    "\n",
    "hyper_name = '{}.hyper'.format(filename)\n",
    "uf.export_hyper(df_out, hyper_name, LOG_FILE)"
   ]
  },
  {
   "cell_type": "code",
   "execution_count": null,
   "id": "vocal-stereo",
   "metadata": {},
   "outputs": [],
   "source": []
  },
  {
   "cell_type": "markdown",
   "id": "underlying-timeline",
   "metadata": {},
   "source": [
    "## Export action items for Minor HQ Engineer"
   ]
  },
  {
   "cell_type": "code",
   "execution_count": 115,
   "id": "tough-needle",
   "metadata": {},
   "outputs": [
    {
     "name": "stderr",
     "output_type": "stream",
     "text": [
      "processing table: 1263it [00:00, 21047.51it/s]"
     ]
    },
    {
     "name": "stdout",
     "output_type": "stream",
     "text": [
      "Table 'Extract' does not exist in extract Minor_HQ_ActionItem.hyper.hyper, creating.\n"
     ]
    },
    {
     "name": "stderr",
     "output_type": "stream",
     "text": [
      "\n"
     ]
    },
    {
     "name": "stdout",
     "output_type": "stream",
     "text": [
      "Signing into AssetManagement at https://tableau.dot.ca.gov\n",
      "Publishing Minor_HQ_ActionItem.hyper.hyper to Sandbox_ProjectBookCheck_Automation...\n"
     ]
    }
   ],
   "source": [
    "filename = 'Minor_HQ_ActionItem'\n",
    "\n",
    "out_cols = [\n",
    "    #project information\n",
    "    'AMT_ID', 'Minor', 'EFIS', 'EA', 'District', 'Data_TimeStamp',\n",
    "    \n",
    "    'Is Project Project Ready for Review and Approval Date?',\n",
    "    'Does Worplan Band needs Approval Removal?',\n",
    "    'Does Allocation Band needs Approval Removal?',\n",
    "    'HQ Minor Program Needs Review?',\n",
    "                    ]\n",
    "df_out = df_Minor_raw_data[out_cols]\n",
    "\n",
    "uf.export_csv(df_out, filename, PROJECTBOOKCHECK_HTTPSERVER_FOLDER, LOG_FILE)\n",
    "\n",
    "hyper_name = '{}.hyper'.format(filename)\n",
    "uf.export_hyper(df_out, hyper_name, LOG_FILE)"
   ]
  },
  {
   "cell_type": "markdown",
   "id": "balanced-republican",
   "metadata": {},
   "source": [
    "<a id='Export_programming_summary'></a>\n",
    "\n",
    "### Export Programming Summary"
   ]
  },
  {
   "cell_type": "code",
   "execution_count": 116,
   "id": "competitive-siemens",
   "metadata": {},
   "outputs": [
    {
     "name": "stderr",
     "output_type": "stream",
     "text": [
      "processing table: 638it [00:00, 6379.09it/s]"
     ]
    },
    {
     "name": "stdout",
     "output_type": "stream",
     "text": [
      "Table 'Extract' does not exist in extract Minor_Programming_Summary.hyper.hyper, creating.\n"
     ]
    },
    {
     "name": "stderr",
     "output_type": "stream",
     "text": [
      "processing table: 1020it [00:00, 6257.27it/s]\n"
     ]
    },
    {
     "name": "stdout",
     "output_type": "stream",
     "text": [
      "Signing into AssetManagement at https://tableau.dot.ca.gov\n",
      "Publishing Minor_Programming_Summary.hyper.hyper to Sandbox_ProjectBookCheck_Automation...\n"
     ]
    }
   ],
   "source": [
    "out_col =df_Programming_Summary_filtered.columns\n",
    "\n",
    "filename = 'Minor_Programming_Summary'\n",
    "df_out = df_Programming_Summary_filtered[out_col]\n",
    "df_out['Data_TimeStamp'] = Data_TimeStamp\n",
    "\n",
    "uf.export_csv(df_out, filename, PROJECTBOOKCHECK_HTTPSERVER_FOLDER, LOG_FILE)\n",
    "\n",
    "hyper_name = '{}.hyper'.format(filename)\n",
    "uf.export_hyper(df_out, hyper_name, LOG_FILE)"
   ]
  },
  {
   "cell_type": "code",
   "execution_count": null,
   "id": "furnished-vatican",
   "metadata": {},
   "outputs": [],
   "source": []
  },
  {
   "cell_type": "markdown",
   "id": "resistant-isaac",
   "metadata": {},
   "source": [
    "\n",
    "<a id='FinalCleanUp'></a>\n",
    "## Final Clean Up"
   ]
  },
  {
   "cell_type": "code",
   "execution_count": 117,
   "id": "understanding-sleeping",
   "metadata": {},
   "outputs": [],
   "source": [
    "#clean up tableau publishing log file\n",
    "\n",
    "import os\n",
    "import glob\n",
    "# get a recursive list of file paths that matches pattern\n",
    "fileList = glob.glob('./*.log')\n",
    "# Iterate over the list of filepaths & remove each file.\n",
    "for filePath in fileList:\n",
    "    try:\n",
    "        os.remove(filePath)\n",
    "    except OSError:\n",
    "        print(\"Error while deleting file\")\n"
   ]
  },
  {
   "cell_type": "code",
   "execution_count": 118,
   "id": "durable-sponsorship",
   "metadata": {},
   "outputs": [
    {
     "name": "stdout",
     "output_type": "stream",
     "text": [
      "time elapsed : 136.37857174873352 seconds\n"
     ]
    }
   ],
   "source": [
    "end_time =  time.time()\n",
    "elapsed = end_time - start_time\n",
    "print('time elapsed : {} seconds'.format(elapsed))"
   ]
  },
  {
   "cell_type": "code",
   "execution_count": null,
   "id": "alone-colony",
   "metadata": {},
   "outputs": [],
   "source": []
  },
  {
   "cell_type": "code",
   "execution_count": null,
   "id": "steady-exercise",
   "metadata": {},
   "outputs": [],
   "source": []
  },
  {
   "cell_type": "code",
   "execution_count": null,
   "id": "living-vampire",
   "metadata": {},
   "outputs": [],
   "source": []
  }
 ],
 "metadata": {
  "kernelspec": {
   "display_name": "Python 3",
   "language": "python",
   "name": "python3"
  },
  "language_info": {
   "codemirror_mode": {
    "name": "ipython",
    "version": 3
   },
   "file_extension": ".py",
   "mimetype": "text/x-python",
   "name": "python",
   "nbconvert_exporter": "python",
   "pygments_lexer": "ipython3",
   "version": "3.9.1"
  }
 },
 "nbformat": 4,
 "nbformat_minor": 5
}
